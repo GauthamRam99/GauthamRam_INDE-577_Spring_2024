{
 "cells": [
  {
   "cell_type": "markdown",
   "id": "circular-syria",
   "metadata": {
    "id": "bEmSTWZSPrgb",
    "papermill": {
     "duration": 0.055415,
     "end_time": "2021-04-08T20:21:03.935183",
     "exception": false,
     "start_time": "2021-04-08T20:21:03.879768",
     "status": "completed"
    },
    "tags": []
   },
   "source": [
    "### Decision Trees and Ensemble Models in classification and regression problems."
   ]
  },
  {
   "cell_type": "markdown",
   "id": "appointed-plastic",
   "metadata": {
    "id": "1cUoTzQLPrgc",
    "papermill": {
     "duration": 0.053212,
     "end_time": "2021-04-08T20:21:04.041462",
     "exception": false,
     "start_time": "2021-04-08T20:21:03.988250",
     "status": "completed"
    },
    "tags": []
   },
   "source": [
    "## Learning outcomes "
   ]
  },
  {
   "cell_type": "markdown",
   "id": "altered-trader",
   "metadata": {
    "id": "Q1ygYVo_Prgc",
    "papermill": {
     "duration": 0.052649,
     "end_time": "2021-04-08T20:21:04.147861",
     "exception": false,
     "start_time": "2021-04-08T20:21:04.095212",
     "status": "completed"
    },
    "tags": []
   },
   "source": [
    "- Understand how to use decision trees on a Dataset to make a prediction\n",
    "- Learning hyper-parameters tuning for decision trees by using RandomGrid \n",
    "- Learning the effectiveness of ensemble algorithms (Random Forest, Adaboost, Extra trees classifier, Gradient Boosted Tree)"
   ]
  },
  {
   "cell_type": "markdown",
   "id": "endless-finance",
   "metadata": {
    "id": "9hjVbQlVPrgd",
    "papermill": {
     "duration": 0.054509,
     "end_time": "2021-04-08T20:21:04.255788",
     "exception": false,
     "start_time": "2021-04-08T20:21:04.201279",
     "status": "completed"
    },
    "tags": []
   },
   "source": [
    "I will use Classification Trees for predicting if a user has a default payment option active or not. \n",
    "\n",
    "This dataset is aimed at the case of customer default payments in Taiwan. From the perspective of risk management, the result of predictive accuracy of the estimated probability of default will be more valuable than the binary result of classification - credible or not credible clients. Because the real probability of default is unknown, this study presented the novel Sorting Smoothing Method to estimate the real probability of default.\n"
   ]
  },
  {
   "cell_type": "code",
   "execution_count": 1,
   "id": "postal-membrane",
   "metadata": {
    "execution": {
     "iopub.execute_input": "2021-04-08T20:21:04.371997Z",
     "iopub.status.busy": "2021-04-08T20:21:04.371152Z",
     "iopub.status.idle": "2021-04-08T20:21:06.241682Z",
     "shell.execute_reply": "2021-04-08T20:21:06.240903Z"
    },
    "id": "R376ZBnBPrge",
    "papermill": {
     "duration": 1.932491,
     "end_time": "2021-04-08T20:21:06.241865",
     "exception": false,
     "start_time": "2021-04-08T20:21:04.309374",
     "status": "completed"
    },
    "tags": []
   },
   "outputs": [],
   "source": [
    "#required imports\n",
    "import numpy as np\n",
    "import pandas as pd\n",
    "from numpy import bincount, linspace, mean, std, arange, squeeze\n",
    "import itertools, time, datetime\n",
    "from scipy.stats import randint\n",
    "from pandas import set_option\n",
    "from pandas.api.types import CategoricalDtype\n",
    "import matplotlib.pyplot as plt\n",
    "import plotly.graph_objects as go\n",
    "import seaborn as sns\n",
    "import numpy as np\n",
    "import warnings\n",
    "warnings.filterwarnings('ignore')\n",
    "import graphviz \n",
    "from graphviz import Source\n",
    "from IPython.display import SVG\n",
    "\n",
    "from sklearn import tree\n",
    "#from sklearn.tree.export import export_text\n",
    "from sklearn.model_selection import GridSearchCV\n",
    "from sklearn.model_selection import train_test_split, cross_val_score\n",
    "from sklearn.preprocessing import StandardScaler\n",
    "\n",
    "from sklearn import metrics\n",
    "from sklearn.metrics import f1_score,confusion_matrix, accuracy_score, classification_report, roc_auc_score, roc_curve, precision_score, recall_score\n"
   ]
  },
  {
   "cell_type": "markdown",
   "id": "polar-sunset",
   "metadata": {
    "id": "ddF9R5pdPrgi",
    "papermill": {
     "duration": 0.055604,
     "end_time": "2021-04-08T20:21:06.351304",
     "exception": false,
     "start_time": "2021-04-08T20:21:06.295700",
     "status": "completed"
    },
    "tags": []
   },
   "source": [
    "After installing the necessary libraries, proceed to download the data. Since reading the excel file won't create headers by default, we added two more operations to substitute the columns."
   ]
  },
  {
   "cell_type": "code",
   "execution_count": 2,
   "id": "proof-romantic",
   "metadata": {
    "execution": {
     "iopub.execute_input": "2021-04-08T20:21:06.468844Z",
     "iopub.status.busy": "2021-04-08T20:21:06.468156Z",
     "iopub.status.idle": "2021-04-08T20:21:06.487253Z",
     "shell.execute_reply": "2021-04-08T20:21:06.487818Z"
    },
    "papermill": {
     "duration": 0.081696,
     "end_time": "2021-04-08T20:21:06.488046",
     "exception": false,
     "start_time": "2021-04-08T20:21:06.406350",
     "status": "completed"
    },
    "tags": []
   },
   "outputs": [
    {
     "name": "stdout",
     "output_type": "stream",
     "text": [
      "/kaggle/input/default-of-credit-card-clients-dataset/UCI_Credit_Card.csv\n"
     ]
    }
   ],
   "source": [
    "import os\n",
    "for dirname, _, filenames in os.walk('UCI_Credit_Card.csv'):\n",
    "    for filename in filenames:\n",
    "        print(os.path.join(dirname, filename))"
   ]
  },
  {
   "cell_type": "code",
   "execution_count": 3,
   "id": "included-norway",
   "metadata": {
    "execution": {
     "iopub.execute_input": "2021-04-08T20:21:06.599640Z",
     "iopub.status.busy": "2021-04-08T20:21:06.598645Z",
     "iopub.status.idle": "2021-04-08T20:21:06.786046Z",
     "shell.execute_reply": "2021-04-08T20:21:06.786553Z"
    },
    "id": "CtNCjjr7Prgj",
    "papermill": {
     "duration": 0.244576,
     "end_time": "2021-04-08T20:21:06.786749",
     "exception": false,
     "start_time": "2021-04-08T20:21:06.542173",
     "status": "completed"
    },
    "tags": []
   },
   "outputs": [],
   "source": [
    "#loading the data\n",
    "df = pd.read_csv(\"/kaggle/input/default-of-credit-card-clients-dataset/UCI_Credit_Card.csv\")\n",
    "#df.columns = df.iloc[0]\n",
    "df.drop(['ID'], inplace=True,axis = 1)"
   ]
  },
  {
   "cell_type": "code",
   "execution_count": 4,
   "id": "frequent-contest",
   "metadata": {
    "execution": {
     "iopub.execute_input": "2021-04-08T20:21:06.902357Z",
     "iopub.status.busy": "2021-04-08T20:21:06.901678Z",
     "iopub.status.idle": "2021-04-08T20:21:06.905362Z",
     "shell.execute_reply": "2021-04-08T20:21:06.904632Z"
    },
    "papermill": {
     "duration": 0.064004,
     "end_time": "2021-04-08T20:21:06.905521",
     "exception": false,
     "start_time": "2021-04-08T20:21:06.841517",
     "status": "completed"
    },
    "tags": []
   },
   "outputs": [],
   "source": [
    "pd.set_option('display.max_columns', None)"
   ]
  },
  {
   "cell_type": "markdown",
   "id": "pursuant-spice",
   "metadata": {
    "id": "cMh-sEIdPrgl",
    "papermill": {
     "duration": 0.05297,
     "end_time": "2021-04-08T20:21:07.011792",
     "exception": false,
     "start_time": "2021-04-08T20:21:06.958822",
     "status": "completed"
    },
    "tags": []
   },
   "source": [
    "In the following, you can take a look into the dataset."
   ]
  },
  {
   "cell_type": "code",
   "execution_count": 5,
   "id": "adjacent-defense",
   "metadata": {
    "execution": {
     "iopub.execute_input": "2021-04-08T20:21:07.127083Z",
     "iopub.status.busy": "2021-04-08T20:21:07.126202Z",
     "iopub.status.idle": "2021-04-08T20:21:07.169780Z",
     "shell.execute_reply": "2021-04-08T20:21:07.169111Z"
    },
    "id": "E0lAPOXQPrgl",
    "outputId": "ea66ba57-f32c-4b39-c60a-e52402acbca1",
    "papermill": {
     "duration": 0.104762,
     "end_time": "2021-04-08T20:21:07.169965",
     "exception": false,
     "start_time": "2021-04-08T20:21:07.065203",
     "status": "completed"
    },
    "tags": []
   },
   "outputs": [
    {
     "data": {
      "text/html": [
       "<div>\n",
       "<style scoped>\n",
       "    .dataframe tbody tr th:only-of-type {\n",
       "        vertical-align: middle;\n",
       "    }\n",
       "\n",
       "    .dataframe tbody tr th {\n",
       "        vertical-align: top;\n",
       "    }\n",
       "\n",
       "    .dataframe thead th {\n",
       "        text-align: right;\n",
       "    }\n",
       "</style>\n",
       "<table border=\"1\" class=\"dataframe\">\n",
       "  <thead>\n",
       "    <tr style=\"text-align: right;\">\n",
       "      <th></th>\n",
       "      <th>LIMIT_BAL</th>\n",
       "      <th>SEX</th>\n",
       "      <th>EDUCATION</th>\n",
       "      <th>MARRIAGE</th>\n",
       "      <th>AGE</th>\n",
       "      <th>PAY_0</th>\n",
       "      <th>PAY_2</th>\n",
       "      <th>PAY_3</th>\n",
       "      <th>PAY_4</th>\n",
       "      <th>PAY_5</th>\n",
       "      <th>PAY_6</th>\n",
       "      <th>BILL_AMT1</th>\n",
       "      <th>BILL_AMT2</th>\n",
       "      <th>BILL_AMT3</th>\n",
       "      <th>BILL_AMT4</th>\n",
       "      <th>BILL_AMT5</th>\n",
       "      <th>BILL_AMT6</th>\n",
       "      <th>PAY_AMT1</th>\n",
       "      <th>PAY_AMT2</th>\n",
       "      <th>PAY_AMT3</th>\n",
       "      <th>PAY_AMT4</th>\n",
       "      <th>PAY_AMT5</th>\n",
       "      <th>PAY_AMT6</th>\n",
       "      <th>default.payment.next.month</th>\n",
       "    </tr>\n",
       "  </thead>\n",
       "  <tbody>\n",
       "    <tr>\n",
       "      <th>0</th>\n",
       "      <td>20000.0</td>\n",
       "      <td>2</td>\n",
       "      <td>2</td>\n",
       "      <td>1</td>\n",
       "      <td>24</td>\n",
       "      <td>2</td>\n",
       "      <td>2</td>\n",
       "      <td>-1</td>\n",
       "      <td>-1</td>\n",
       "      <td>-2</td>\n",
       "      <td>-2</td>\n",
       "      <td>3913.0</td>\n",
       "      <td>3102.0</td>\n",
       "      <td>689.0</td>\n",
       "      <td>0.0</td>\n",
       "      <td>0.0</td>\n",
       "      <td>0.0</td>\n",
       "      <td>0.0</td>\n",
       "      <td>689.0</td>\n",
       "      <td>0.0</td>\n",
       "      <td>0.0</td>\n",
       "      <td>0.0</td>\n",
       "      <td>0.0</td>\n",
       "      <td>1</td>\n",
       "    </tr>\n",
       "    <tr>\n",
       "      <th>1</th>\n",
       "      <td>120000.0</td>\n",
       "      <td>2</td>\n",
       "      <td>2</td>\n",
       "      <td>2</td>\n",
       "      <td>26</td>\n",
       "      <td>-1</td>\n",
       "      <td>2</td>\n",
       "      <td>0</td>\n",
       "      <td>0</td>\n",
       "      <td>0</td>\n",
       "      <td>2</td>\n",
       "      <td>2682.0</td>\n",
       "      <td>1725.0</td>\n",
       "      <td>2682.0</td>\n",
       "      <td>3272.0</td>\n",
       "      <td>3455.0</td>\n",
       "      <td>3261.0</td>\n",
       "      <td>0.0</td>\n",
       "      <td>1000.0</td>\n",
       "      <td>1000.0</td>\n",
       "      <td>1000.0</td>\n",
       "      <td>0.0</td>\n",
       "      <td>2000.0</td>\n",
       "      <td>1</td>\n",
       "    </tr>\n",
       "    <tr>\n",
       "      <th>2</th>\n",
       "      <td>90000.0</td>\n",
       "      <td>2</td>\n",
       "      <td>2</td>\n",
       "      <td>2</td>\n",
       "      <td>34</td>\n",
       "      <td>0</td>\n",
       "      <td>0</td>\n",
       "      <td>0</td>\n",
       "      <td>0</td>\n",
       "      <td>0</td>\n",
       "      <td>0</td>\n",
       "      <td>29239.0</td>\n",
       "      <td>14027.0</td>\n",
       "      <td>13559.0</td>\n",
       "      <td>14331.0</td>\n",
       "      <td>14948.0</td>\n",
       "      <td>15549.0</td>\n",
       "      <td>1518.0</td>\n",
       "      <td>1500.0</td>\n",
       "      <td>1000.0</td>\n",
       "      <td>1000.0</td>\n",
       "      <td>1000.0</td>\n",
       "      <td>5000.0</td>\n",
       "      <td>0</td>\n",
       "    </tr>\n",
       "    <tr>\n",
       "      <th>3</th>\n",
       "      <td>50000.0</td>\n",
       "      <td>2</td>\n",
       "      <td>2</td>\n",
       "      <td>1</td>\n",
       "      <td>37</td>\n",
       "      <td>0</td>\n",
       "      <td>0</td>\n",
       "      <td>0</td>\n",
       "      <td>0</td>\n",
       "      <td>0</td>\n",
       "      <td>0</td>\n",
       "      <td>46990.0</td>\n",
       "      <td>48233.0</td>\n",
       "      <td>49291.0</td>\n",
       "      <td>28314.0</td>\n",
       "      <td>28959.0</td>\n",
       "      <td>29547.0</td>\n",
       "      <td>2000.0</td>\n",
       "      <td>2019.0</td>\n",
       "      <td>1200.0</td>\n",
       "      <td>1100.0</td>\n",
       "      <td>1069.0</td>\n",
       "      <td>1000.0</td>\n",
       "      <td>0</td>\n",
       "    </tr>\n",
       "    <tr>\n",
       "      <th>4</th>\n",
       "      <td>50000.0</td>\n",
       "      <td>1</td>\n",
       "      <td>2</td>\n",
       "      <td>1</td>\n",
       "      <td>57</td>\n",
       "      <td>-1</td>\n",
       "      <td>0</td>\n",
       "      <td>-1</td>\n",
       "      <td>0</td>\n",
       "      <td>0</td>\n",
       "      <td>0</td>\n",
       "      <td>8617.0</td>\n",
       "      <td>5670.0</td>\n",
       "      <td>35835.0</td>\n",
       "      <td>20940.0</td>\n",
       "      <td>19146.0</td>\n",
       "      <td>19131.0</td>\n",
       "      <td>2000.0</td>\n",
       "      <td>36681.0</td>\n",
       "      <td>10000.0</td>\n",
       "      <td>9000.0</td>\n",
       "      <td>689.0</td>\n",
       "      <td>679.0</td>\n",
       "      <td>0</td>\n",
       "    </tr>\n",
       "    <tr>\n",
       "      <th>5</th>\n",
       "      <td>50000.0</td>\n",
       "      <td>1</td>\n",
       "      <td>1</td>\n",
       "      <td>2</td>\n",
       "      <td>37</td>\n",
       "      <td>0</td>\n",
       "      <td>0</td>\n",
       "      <td>0</td>\n",
       "      <td>0</td>\n",
       "      <td>0</td>\n",
       "      <td>0</td>\n",
       "      <td>64400.0</td>\n",
       "      <td>57069.0</td>\n",
       "      <td>57608.0</td>\n",
       "      <td>19394.0</td>\n",
       "      <td>19619.0</td>\n",
       "      <td>20024.0</td>\n",
       "      <td>2500.0</td>\n",
       "      <td>1815.0</td>\n",
       "      <td>657.0</td>\n",
       "      <td>1000.0</td>\n",
       "      <td>1000.0</td>\n",
       "      <td>800.0</td>\n",
       "      <td>0</td>\n",
       "    </tr>\n",
       "    <tr>\n",
       "      <th>6</th>\n",
       "      <td>500000.0</td>\n",
       "      <td>1</td>\n",
       "      <td>1</td>\n",
       "      <td>2</td>\n",
       "      <td>29</td>\n",
       "      <td>0</td>\n",
       "      <td>0</td>\n",
       "      <td>0</td>\n",
       "      <td>0</td>\n",
       "      <td>0</td>\n",
       "      <td>0</td>\n",
       "      <td>367965.0</td>\n",
       "      <td>412023.0</td>\n",
       "      <td>445007.0</td>\n",
       "      <td>542653.0</td>\n",
       "      <td>483003.0</td>\n",
       "      <td>473944.0</td>\n",
       "      <td>55000.0</td>\n",
       "      <td>40000.0</td>\n",
       "      <td>38000.0</td>\n",
       "      <td>20239.0</td>\n",
       "      <td>13750.0</td>\n",
       "      <td>13770.0</td>\n",
       "      <td>0</td>\n",
       "    </tr>\n",
       "    <tr>\n",
       "      <th>7</th>\n",
       "      <td>100000.0</td>\n",
       "      <td>2</td>\n",
       "      <td>2</td>\n",
       "      <td>2</td>\n",
       "      <td>23</td>\n",
       "      <td>0</td>\n",
       "      <td>-1</td>\n",
       "      <td>-1</td>\n",
       "      <td>0</td>\n",
       "      <td>0</td>\n",
       "      <td>-1</td>\n",
       "      <td>11876.0</td>\n",
       "      <td>380.0</td>\n",
       "      <td>601.0</td>\n",
       "      <td>221.0</td>\n",
       "      <td>-159.0</td>\n",
       "      <td>567.0</td>\n",
       "      <td>380.0</td>\n",
       "      <td>601.0</td>\n",
       "      <td>0.0</td>\n",
       "      <td>581.0</td>\n",
       "      <td>1687.0</td>\n",
       "      <td>1542.0</td>\n",
       "      <td>0</td>\n",
       "    </tr>\n",
       "    <tr>\n",
       "      <th>8</th>\n",
       "      <td>140000.0</td>\n",
       "      <td>2</td>\n",
       "      <td>3</td>\n",
       "      <td>1</td>\n",
       "      <td>28</td>\n",
       "      <td>0</td>\n",
       "      <td>0</td>\n",
       "      <td>2</td>\n",
       "      <td>0</td>\n",
       "      <td>0</td>\n",
       "      <td>0</td>\n",
       "      <td>11285.0</td>\n",
       "      <td>14096.0</td>\n",
       "      <td>12108.0</td>\n",
       "      <td>12211.0</td>\n",
       "      <td>11793.0</td>\n",
       "      <td>3719.0</td>\n",
       "      <td>3329.0</td>\n",
       "      <td>0.0</td>\n",
       "      <td>432.0</td>\n",
       "      <td>1000.0</td>\n",
       "      <td>1000.0</td>\n",
       "      <td>1000.0</td>\n",
       "      <td>0</td>\n",
       "    </tr>\n",
       "    <tr>\n",
       "      <th>9</th>\n",
       "      <td>20000.0</td>\n",
       "      <td>1</td>\n",
       "      <td>3</td>\n",
       "      <td>2</td>\n",
       "      <td>35</td>\n",
       "      <td>-2</td>\n",
       "      <td>-2</td>\n",
       "      <td>-2</td>\n",
       "      <td>-2</td>\n",
       "      <td>-1</td>\n",
       "      <td>-1</td>\n",
       "      <td>0.0</td>\n",
       "      <td>0.0</td>\n",
       "      <td>0.0</td>\n",
       "      <td>0.0</td>\n",
       "      <td>13007.0</td>\n",
       "      <td>13912.0</td>\n",
       "      <td>0.0</td>\n",
       "      <td>0.0</td>\n",
       "      <td>0.0</td>\n",
       "      <td>13007.0</td>\n",
       "      <td>1122.0</td>\n",
       "      <td>0.0</td>\n",
       "      <td>0</td>\n",
       "    </tr>\n",
       "  </tbody>\n",
       "</table>\n",
       "</div>"
      ],
      "text/plain": [
       "   LIMIT_BAL  SEX  EDUCATION  MARRIAGE  AGE  PAY_0  PAY_2  PAY_3  PAY_4  \\\n",
       "0    20000.0    2          2         1   24      2      2     -1     -1   \n",
       "1   120000.0    2          2         2   26     -1      2      0      0   \n",
       "2    90000.0    2          2         2   34      0      0      0      0   \n",
       "3    50000.0    2          2         1   37      0      0      0      0   \n",
       "4    50000.0    1          2         1   57     -1      0     -1      0   \n",
       "5    50000.0    1          1         2   37      0      0      0      0   \n",
       "6   500000.0    1          1         2   29      0      0      0      0   \n",
       "7   100000.0    2          2         2   23      0     -1     -1      0   \n",
       "8   140000.0    2          3         1   28      0      0      2      0   \n",
       "9    20000.0    1          3         2   35     -2     -2     -2     -2   \n",
       "\n",
       "   PAY_5  PAY_6  BILL_AMT1  BILL_AMT2  BILL_AMT3  BILL_AMT4  BILL_AMT5  \\\n",
       "0     -2     -2     3913.0     3102.0      689.0        0.0        0.0   \n",
       "1      0      2     2682.0     1725.0     2682.0     3272.0     3455.0   \n",
       "2      0      0    29239.0    14027.0    13559.0    14331.0    14948.0   \n",
       "3      0      0    46990.0    48233.0    49291.0    28314.0    28959.0   \n",
       "4      0      0     8617.0     5670.0    35835.0    20940.0    19146.0   \n",
       "5      0      0    64400.0    57069.0    57608.0    19394.0    19619.0   \n",
       "6      0      0   367965.0   412023.0   445007.0   542653.0   483003.0   \n",
       "7      0     -1    11876.0      380.0      601.0      221.0     -159.0   \n",
       "8      0      0    11285.0    14096.0    12108.0    12211.0    11793.0   \n",
       "9     -1     -1        0.0        0.0        0.0        0.0    13007.0   \n",
       "\n",
       "   BILL_AMT6  PAY_AMT1  PAY_AMT2  PAY_AMT3  PAY_AMT4  PAY_AMT5  PAY_AMT6  \\\n",
       "0        0.0       0.0     689.0       0.0       0.0       0.0       0.0   \n",
       "1     3261.0       0.0    1000.0    1000.0    1000.0       0.0    2000.0   \n",
       "2    15549.0    1518.0    1500.0    1000.0    1000.0    1000.0    5000.0   \n",
       "3    29547.0    2000.0    2019.0    1200.0    1100.0    1069.0    1000.0   \n",
       "4    19131.0    2000.0   36681.0   10000.0    9000.0     689.0     679.0   \n",
       "5    20024.0    2500.0    1815.0     657.0    1000.0    1000.0     800.0   \n",
       "6   473944.0   55000.0   40000.0   38000.0   20239.0   13750.0   13770.0   \n",
       "7      567.0     380.0     601.0       0.0     581.0    1687.0    1542.0   \n",
       "8     3719.0    3329.0       0.0     432.0    1000.0    1000.0    1000.0   \n",
       "9    13912.0       0.0       0.0       0.0   13007.0    1122.0       0.0   \n",
       "\n",
       "   default.payment.next.month  \n",
       "0                           1  \n",
       "1                           1  \n",
       "2                           0  \n",
       "3                           0  \n",
       "4                           0  \n",
       "5                           0  \n",
       "6                           0  \n",
       "7                           0  \n",
       "8                           0  \n",
       "9                           0  "
      ]
     },
     "execution_count": 5,
     "metadata": {},
     "output_type": "execute_result"
    }
   ],
   "source": [
    "df.head(10)"
   ]
  },
  {
   "cell_type": "code",
   "execution_count": 6,
   "id": "upset-excess",
   "metadata": {
    "execution": {
     "iopub.execute_input": "2021-04-08T20:21:07.293236Z",
     "iopub.status.busy": "2021-04-08T20:21:07.292469Z",
     "iopub.status.idle": "2021-04-08T20:21:07.398073Z",
     "shell.execute_reply": "2021-04-08T20:21:07.398544Z"
    },
    "papermill": {
     "duration": 0.173955,
     "end_time": "2021-04-08T20:21:07.398729",
     "exception": false,
     "start_time": "2021-04-08T20:21:07.224774",
     "status": "completed"
    },
    "tags": []
   },
   "outputs": [
    {
     "data": {
      "text/html": [
       "<div>\n",
       "<style scoped>\n",
       "    .dataframe tbody tr th:only-of-type {\n",
       "        vertical-align: middle;\n",
       "    }\n",
       "\n",
       "    .dataframe tbody tr th {\n",
       "        vertical-align: top;\n",
       "    }\n",
       "\n",
       "    .dataframe thead th {\n",
       "        text-align: right;\n",
       "    }\n",
       "</style>\n",
       "<table border=\"1\" class=\"dataframe\">\n",
       "  <thead>\n",
       "    <tr style=\"text-align: right;\">\n",
       "      <th></th>\n",
       "      <th>count</th>\n",
       "      <th>mean</th>\n",
       "      <th>std</th>\n",
       "      <th>min</th>\n",
       "      <th>25%</th>\n",
       "      <th>50%</th>\n",
       "      <th>75%</th>\n",
       "      <th>max</th>\n",
       "    </tr>\n",
       "  </thead>\n",
       "  <tbody>\n",
       "    <tr>\n",
       "      <th>LIMIT_BAL</th>\n",
       "      <td>30000.0</td>\n",
       "      <td>167484.322667</td>\n",
       "      <td>129747.661567</td>\n",
       "      <td>10000.0</td>\n",
       "      <td>50000.00</td>\n",
       "      <td>140000.0</td>\n",
       "      <td>240000.00</td>\n",
       "      <td>1000000.0</td>\n",
       "    </tr>\n",
       "    <tr>\n",
       "      <th>SEX</th>\n",
       "      <td>30000.0</td>\n",
       "      <td>1.603733</td>\n",
       "      <td>0.489129</td>\n",
       "      <td>1.0</td>\n",
       "      <td>1.00</td>\n",
       "      <td>2.0</td>\n",
       "      <td>2.00</td>\n",
       "      <td>2.0</td>\n",
       "    </tr>\n",
       "    <tr>\n",
       "      <th>EDUCATION</th>\n",
       "      <td>30000.0</td>\n",
       "      <td>1.853133</td>\n",
       "      <td>0.790349</td>\n",
       "      <td>0.0</td>\n",
       "      <td>1.00</td>\n",
       "      <td>2.0</td>\n",
       "      <td>2.00</td>\n",
       "      <td>6.0</td>\n",
       "    </tr>\n",
       "    <tr>\n",
       "      <th>MARRIAGE</th>\n",
       "      <td>30000.0</td>\n",
       "      <td>1.551867</td>\n",
       "      <td>0.521970</td>\n",
       "      <td>0.0</td>\n",
       "      <td>1.00</td>\n",
       "      <td>2.0</td>\n",
       "      <td>2.00</td>\n",
       "      <td>3.0</td>\n",
       "    </tr>\n",
       "    <tr>\n",
       "      <th>AGE</th>\n",
       "      <td>30000.0</td>\n",
       "      <td>35.485500</td>\n",
       "      <td>9.217904</td>\n",
       "      <td>21.0</td>\n",
       "      <td>28.00</td>\n",
       "      <td>34.0</td>\n",
       "      <td>41.00</td>\n",
       "      <td>79.0</td>\n",
       "    </tr>\n",
       "    <tr>\n",
       "      <th>PAY_0</th>\n",
       "      <td>30000.0</td>\n",
       "      <td>-0.016700</td>\n",
       "      <td>1.123802</td>\n",
       "      <td>-2.0</td>\n",
       "      <td>-1.00</td>\n",
       "      <td>0.0</td>\n",
       "      <td>0.00</td>\n",
       "      <td>8.0</td>\n",
       "    </tr>\n",
       "    <tr>\n",
       "      <th>PAY_2</th>\n",
       "      <td>30000.0</td>\n",
       "      <td>-0.133767</td>\n",
       "      <td>1.197186</td>\n",
       "      <td>-2.0</td>\n",
       "      <td>-1.00</td>\n",
       "      <td>0.0</td>\n",
       "      <td>0.00</td>\n",
       "      <td>8.0</td>\n",
       "    </tr>\n",
       "    <tr>\n",
       "      <th>PAY_3</th>\n",
       "      <td>30000.0</td>\n",
       "      <td>-0.166200</td>\n",
       "      <td>1.196868</td>\n",
       "      <td>-2.0</td>\n",
       "      <td>-1.00</td>\n",
       "      <td>0.0</td>\n",
       "      <td>0.00</td>\n",
       "      <td>8.0</td>\n",
       "    </tr>\n",
       "    <tr>\n",
       "      <th>PAY_4</th>\n",
       "      <td>30000.0</td>\n",
       "      <td>-0.220667</td>\n",
       "      <td>1.169139</td>\n",
       "      <td>-2.0</td>\n",
       "      <td>-1.00</td>\n",
       "      <td>0.0</td>\n",
       "      <td>0.00</td>\n",
       "      <td>8.0</td>\n",
       "    </tr>\n",
       "    <tr>\n",
       "      <th>PAY_5</th>\n",
       "      <td>30000.0</td>\n",
       "      <td>-0.266200</td>\n",
       "      <td>1.133187</td>\n",
       "      <td>-2.0</td>\n",
       "      <td>-1.00</td>\n",
       "      <td>0.0</td>\n",
       "      <td>0.00</td>\n",
       "      <td>8.0</td>\n",
       "    </tr>\n",
       "    <tr>\n",
       "      <th>PAY_6</th>\n",
       "      <td>30000.0</td>\n",
       "      <td>-0.291100</td>\n",
       "      <td>1.149988</td>\n",
       "      <td>-2.0</td>\n",
       "      <td>-1.00</td>\n",
       "      <td>0.0</td>\n",
       "      <td>0.00</td>\n",
       "      <td>8.0</td>\n",
       "    </tr>\n",
       "    <tr>\n",
       "      <th>BILL_AMT1</th>\n",
       "      <td>30000.0</td>\n",
       "      <td>51223.330900</td>\n",
       "      <td>73635.860576</td>\n",
       "      <td>-165580.0</td>\n",
       "      <td>3558.75</td>\n",
       "      <td>22381.5</td>\n",
       "      <td>67091.00</td>\n",
       "      <td>964511.0</td>\n",
       "    </tr>\n",
       "    <tr>\n",
       "      <th>BILL_AMT2</th>\n",
       "      <td>30000.0</td>\n",
       "      <td>49179.075167</td>\n",
       "      <td>71173.768783</td>\n",
       "      <td>-69777.0</td>\n",
       "      <td>2984.75</td>\n",
       "      <td>21200.0</td>\n",
       "      <td>64006.25</td>\n",
       "      <td>983931.0</td>\n",
       "    </tr>\n",
       "    <tr>\n",
       "      <th>BILL_AMT3</th>\n",
       "      <td>30000.0</td>\n",
       "      <td>47013.154800</td>\n",
       "      <td>69349.387427</td>\n",
       "      <td>-157264.0</td>\n",
       "      <td>2666.25</td>\n",
       "      <td>20088.5</td>\n",
       "      <td>60164.75</td>\n",
       "      <td>1664089.0</td>\n",
       "    </tr>\n",
       "    <tr>\n",
       "      <th>BILL_AMT4</th>\n",
       "      <td>30000.0</td>\n",
       "      <td>43262.948967</td>\n",
       "      <td>64332.856134</td>\n",
       "      <td>-170000.0</td>\n",
       "      <td>2326.75</td>\n",
       "      <td>19052.0</td>\n",
       "      <td>54506.00</td>\n",
       "      <td>891586.0</td>\n",
       "    </tr>\n",
       "    <tr>\n",
       "      <th>BILL_AMT5</th>\n",
       "      <td>30000.0</td>\n",
       "      <td>40311.400967</td>\n",
       "      <td>60797.155770</td>\n",
       "      <td>-81334.0</td>\n",
       "      <td>1763.00</td>\n",
       "      <td>18104.5</td>\n",
       "      <td>50190.50</td>\n",
       "      <td>927171.0</td>\n",
       "    </tr>\n",
       "    <tr>\n",
       "      <th>BILL_AMT6</th>\n",
       "      <td>30000.0</td>\n",
       "      <td>38871.760400</td>\n",
       "      <td>59554.107537</td>\n",
       "      <td>-339603.0</td>\n",
       "      <td>1256.00</td>\n",
       "      <td>17071.0</td>\n",
       "      <td>49198.25</td>\n",
       "      <td>961664.0</td>\n",
       "    </tr>\n",
       "    <tr>\n",
       "      <th>PAY_AMT1</th>\n",
       "      <td>30000.0</td>\n",
       "      <td>5663.580500</td>\n",
       "      <td>16563.280354</td>\n",
       "      <td>0.0</td>\n",
       "      <td>1000.00</td>\n",
       "      <td>2100.0</td>\n",
       "      <td>5006.00</td>\n",
       "      <td>873552.0</td>\n",
       "    </tr>\n",
       "    <tr>\n",
       "      <th>PAY_AMT2</th>\n",
       "      <td>30000.0</td>\n",
       "      <td>5921.163500</td>\n",
       "      <td>23040.870402</td>\n",
       "      <td>0.0</td>\n",
       "      <td>833.00</td>\n",
       "      <td>2009.0</td>\n",
       "      <td>5000.00</td>\n",
       "      <td>1684259.0</td>\n",
       "    </tr>\n",
       "    <tr>\n",
       "      <th>PAY_AMT3</th>\n",
       "      <td>30000.0</td>\n",
       "      <td>5225.681500</td>\n",
       "      <td>17606.961470</td>\n",
       "      <td>0.0</td>\n",
       "      <td>390.00</td>\n",
       "      <td>1800.0</td>\n",
       "      <td>4505.00</td>\n",
       "      <td>896040.0</td>\n",
       "    </tr>\n",
       "    <tr>\n",
       "      <th>PAY_AMT4</th>\n",
       "      <td>30000.0</td>\n",
       "      <td>4826.076867</td>\n",
       "      <td>15666.159744</td>\n",
       "      <td>0.0</td>\n",
       "      <td>296.00</td>\n",
       "      <td>1500.0</td>\n",
       "      <td>4013.25</td>\n",
       "      <td>621000.0</td>\n",
       "    </tr>\n",
       "    <tr>\n",
       "      <th>PAY_AMT5</th>\n",
       "      <td>30000.0</td>\n",
       "      <td>4799.387633</td>\n",
       "      <td>15278.305679</td>\n",
       "      <td>0.0</td>\n",
       "      <td>252.50</td>\n",
       "      <td>1500.0</td>\n",
       "      <td>4031.50</td>\n",
       "      <td>426529.0</td>\n",
       "    </tr>\n",
       "    <tr>\n",
       "      <th>PAY_AMT6</th>\n",
       "      <td>30000.0</td>\n",
       "      <td>5215.502567</td>\n",
       "      <td>17777.465775</td>\n",
       "      <td>0.0</td>\n",
       "      <td>117.75</td>\n",
       "      <td>1500.0</td>\n",
       "      <td>4000.00</td>\n",
       "      <td>528666.0</td>\n",
       "    </tr>\n",
       "    <tr>\n",
       "      <th>default.payment.next.month</th>\n",
       "      <td>30000.0</td>\n",
       "      <td>0.221200</td>\n",
       "      <td>0.415062</td>\n",
       "      <td>0.0</td>\n",
       "      <td>0.00</td>\n",
       "      <td>0.0</td>\n",
       "      <td>0.00</td>\n",
       "      <td>1.0</td>\n",
       "    </tr>\n",
       "  </tbody>\n",
       "</table>\n",
       "</div>"
      ],
      "text/plain": [
       "                              count           mean            std       min  \\\n",
       "LIMIT_BAL                   30000.0  167484.322667  129747.661567   10000.0   \n",
       "SEX                         30000.0       1.603733       0.489129       1.0   \n",
       "EDUCATION                   30000.0       1.853133       0.790349       0.0   \n",
       "MARRIAGE                    30000.0       1.551867       0.521970       0.0   \n",
       "AGE                         30000.0      35.485500       9.217904      21.0   \n",
       "PAY_0                       30000.0      -0.016700       1.123802      -2.0   \n",
       "PAY_2                       30000.0      -0.133767       1.197186      -2.0   \n",
       "PAY_3                       30000.0      -0.166200       1.196868      -2.0   \n",
       "PAY_4                       30000.0      -0.220667       1.169139      -2.0   \n",
       "PAY_5                       30000.0      -0.266200       1.133187      -2.0   \n",
       "PAY_6                       30000.0      -0.291100       1.149988      -2.0   \n",
       "BILL_AMT1                   30000.0   51223.330900   73635.860576 -165580.0   \n",
       "BILL_AMT2                   30000.0   49179.075167   71173.768783  -69777.0   \n",
       "BILL_AMT3                   30000.0   47013.154800   69349.387427 -157264.0   \n",
       "BILL_AMT4                   30000.0   43262.948967   64332.856134 -170000.0   \n",
       "BILL_AMT5                   30000.0   40311.400967   60797.155770  -81334.0   \n",
       "BILL_AMT6                   30000.0   38871.760400   59554.107537 -339603.0   \n",
       "PAY_AMT1                    30000.0    5663.580500   16563.280354       0.0   \n",
       "PAY_AMT2                    30000.0    5921.163500   23040.870402       0.0   \n",
       "PAY_AMT3                    30000.0    5225.681500   17606.961470       0.0   \n",
       "PAY_AMT4                    30000.0    4826.076867   15666.159744       0.0   \n",
       "PAY_AMT5                    30000.0    4799.387633   15278.305679       0.0   \n",
       "PAY_AMT6                    30000.0    5215.502567   17777.465775       0.0   \n",
       "default.payment.next.month  30000.0       0.221200       0.415062       0.0   \n",
       "\n",
       "                                 25%       50%        75%        max  \n",
       "LIMIT_BAL                   50000.00  140000.0  240000.00  1000000.0  \n",
       "SEX                             1.00       2.0       2.00        2.0  \n",
       "EDUCATION                       1.00       2.0       2.00        6.0  \n",
       "MARRIAGE                        1.00       2.0       2.00        3.0  \n",
       "AGE                            28.00      34.0      41.00       79.0  \n",
       "PAY_0                          -1.00       0.0       0.00        8.0  \n",
       "PAY_2                          -1.00       0.0       0.00        8.0  \n",
       "PAY_3                          -1.00       0.0       0.00        8.0  \n",
       "PAY_4                          -1.00       0.0       0.00        8.0  \n",
       "PAY_5                          -1.00       0.0       0.00        8.0  \n",
       "PAY_6                          -1.00       0.0       0.00        8.0  \n",
       "BILL_AMT1                    3558.75   22381.5   67091.00   964511.0  \n",
       "BILL_AMT2                    2984.75   21200.0   64006.25   983931.0  \n",
       "BILL_AMT3                    2666.25   20088.5   60164.75  1664089.0  \n",
       "BILL_AMT4                    2326.75   19052.0   54506.00   891586.0  \n",
       "BILL_AMT5                    1763.00   18104.5   50190.50   927171.0  \n",
       "BILL_AMT6                    1256.00   17071.0   49198.25   961664.0  \n",
       "PAY_AMT1                     1000.00    2100.0    5006.00   873552.0  \n",
       "PAY_AMT2                      833.00    2009.0    5000.00  1684259.0  \n",
       "PAY_AMT3                      390.00    1800.0    4505.00   896040.0  \n",
       "PAY_AMT4                      296.00    1500.0    4013.25   621000.0  \n",
       "PAY_AMT5                      252.50    1500.0    4031.50   426529.0  \n",
       "PAY_AMT6                      117.75    1500.0    4000.00   528666.0  \n",
       "default.payment.next.month      0.00       0.0       0.00        1.0  "
      ]
     },
     "execution_count": 6,
     "metadata": {},
     "output_type": "execute_result"
    }
   ],
   "source": [
    "df.describe().T"
   ]
  },
  {
   "cell_type": "code",
   "execution_count": 7,
   "id": "affected-visit",
   "metadata": {
    "execution": {
     "iopub.execute_input": "2021-04-08T20:21:07.515218Z",
     "iopub.status.busy": "2021-04-08T20:21:07.514213Z",
     "iopub.status.idle": "2021-04-08T20:21:07.538036Z",
     "shell.execute_reply": "2021-04-08T20:21:07.539017Z"
    },
    "papermill": {
     "duration": 0.084654,
     "end_time": "2021-04-08T20:21:07.539392",
     "exception": false,
     "start_time": "2021-04-08T20:21:07.454738",
     "status": "completed"
    },
    "tags": []
   },
   "outputs": [
    {
     "name": "stdout",
     "output_type": "stream",
     "text": [
      "<class 'pandas.core.frame.DataFrame'>\n",
      "RangeIndex: 30000 entries, 0 to 29999\n",
      "Data columns (total 24 columns):\n",
      " #   Column                      Non-Null Count  Dtype  \n",
      "---  ------                      --------------  -----  \n",
      " 0   LIMIT_BAL                   30000 non-null  float64\n",
      " 1   SEX                         30000 non-null  int64  \n",
      " 2   EDUCATION                   30000 non-null  int64  \n",
      " 3   MARRIAGE                    30000 non-null  int64  \n",
      " 4   AGE                         30000 non-null  int64  \n",
      " 5   PAY_0                       30000 non-null  int64  \n",
      " 6   PAY_2                       30000 non-null  int64  \n",
      " 7   PAY_3                       30000 non-null  int64  \n",
      " 8   PAY_4                       30000 non-null  int64  \n",
      " 9   PAY_5                       30000 non-null  int64  \n",
      " 10  PAY_6                       30000 non-null  int64  \n",
      " 11  BILL_AMT1                   30000 non-null  float64\n",
      " 12  BILL_AMT2                   30000 non-null  float64\n",
      " 13  BILL_AMT3                   30000 non-null  float64\n",
      " 14  BILL_AMT4                   30000 non-null  float64\n",
      " 15  BILL_AMT5                   30000 non-null  float64\n",
      " 16  BILL_AMT6                   30000 non-null  float64\n",
      " 17  PAY_AMT1                    30000 non-null  float64\n",
      " 18  PAY_AMT2                    30000 non-null  float64\n",
      " 19  PAY_AMT3                    30000 non-null  float64\n",
      " 20  PAY_AMT4                    30000 non-null  float64\n",
      " 21  PAY_AMT5                    30000 non-null  float64\n",
      " 22  PAY_AMT6                    30000 non-null  float64\n",
      " 23  default.payment.next.month  30000 non-null  int64  \n",
      "dtypes: float64(13), int64(11)\n",
      "memory usage: 5.5 MB\n"
     ]
    }
   ],
   "source": [
    "df.info()"
   ]
  },
  {
   "cell_type": "code",
   "execution_count": 8,
   "id": "urban-orlando",
   "metadata": {
    "execution": {
     "iopub.execute_input": "2021-04-08T20:21:07.658836Z",
     "iopub.status.busy": "2021-04-08T20:21:07.658162Z",
     "iopub.status.idle": "2021-04-08T20:21:07.662487Z",
     "shell.execute_reply": "2021-04-08T20:21:07.661651Z"
    },
    "id": "1Qr1SPGlPrgr",
    "papermill": {
     "duration": 0.066798,
     "end_time": "2021-04-08T20:21:07.662667",
     "exception": false,
     "start_time": "2021-04-08T20:21:07.595869",
     "status": "completed"
    },
    "tags": []
   },
   "outputs": [],
   "source": [
    "df.rename(columns={\"PAY_0\":\"PAY_1\", \"default.payment.next.month\": \"DEFAULT\"}, inplace = True)"
   ]
  },
  {
   "cell_type": "code",
   "execution_count": 9,
   "id": "sound-deficit",
   "metadata": {
    "execution": {
     "iopub.execute_input": "2021-04-08T20:21:07.785508Z",
     "iopub.status.busy": "2021-04-08T20:21:07.784405Z",
     "iopub.status.idle": "2021-04-08T20:21:07.791560Z",
     "shell.execute_reply": "2021-04-08T20:21:07.790889Z"
    },
    "papermill": {
     "duration": 0.072523,
     "end_time": "2021-04-08T20:21:07.791702",
     "exception": false,
     "start_time": "2021-04-08T20:21:07.719179",
     "status": "completed"
    },
    "tags": []
   },
   "outputs": [
    {
     "name": "stdout",
     "output_type": "stream",
     "text": [
      "[2 1 3 5 4 6 0]\n",
      "[1 2 3 0]\n"
     ]
    }
   ],
   "source": [
    "print(df.EDUCATION.unique())\n",
    "print(df.MARRIAGE.unique())"
   ]
  },
  {
   "cell_type": "code",
   "execution_count": 10,
   "id": "contemporary-sullivan",
   "metadata": {
    "execution": {
     "iopub.execute_input": "2021-04-08T20:21:07.912326Z",
     "iopub.status.busy": "2021-04-08T20:21:07.911472Z",
     "iopub.status.idle": "2021-04-08T20:21:07.943600Z",
     "shell.execute_reply": "2021-04-08T20:21:07.943045Z"
    },
    "papermill": {
     "duration": 0.094782,
     "end_time": "2021-04-08T20:21:07.943807",
     "exception": false,
     "start_time": "2021-04-08T20:21:07.849025",
     "status": "completed"
    },
    "tags": []
   },
   "outputs": [
    {
     "data": {
      "text/plain": [
       "2    14030\n",
       "1    10585\n",
       "3     4917\n",
       "4      468\n",
       "Name: EDUCATION, dtype: int64"
      ]
     },
     "execution_count": 10,
     "metadata": {},
     "output_type": "execute_result"
    }
   ],
   "source": [
    "fil = (df['EDUCATION'] == 5) | (df['EDUCATION'] == 6) | (df['EDUCATION'] == 0)\n",
    "df.loc[fil, 'EDUCATION'] = 4\n",
    "df['EDUCATION'].value_counts()"
   ]
  },
  {
   "cell_type": "code",
   "execution_count": 11,
   "id": "embedded-detector",
   "metadata": {
    "execution": {
     "iopub.execute_input": "2021-04-08T20:21:08.066635Z",
     "iopub.status.busy": "2021-04-08T20:21:08.065788Z",
     "iopub.status.idle": "2021-04-08T20:21:08.072993Z",
     "shell.execute_reply": "2021-04-08T20:21:08.073535Z"
    },
    "papermill": {
     "duration": 0.071217,
     "end_time": "2021-04-08T20:21:08.073709",
     "exception": false,
     "start_time": "2021-04-08T20:21:08.002492",
     "status": "completed"
    },
    "tags": []
   },
   "outputs": [
    {
     "data": {
      "text/plain": [
       "2    15964\n",
       "1    13659\n",
       "3      377\n",
       "Name: MARRIAGE, dtype: int64"
      ]
     },
     "execution_count": 11,
     "metadata": {},
     "output_type": "execute_result"
    }
   ],
   "source": [
    "fil = (df['MARRIAGE'] == 0)\n",
    "df.loc[fil, 'MARRIAGE'] = 3\n",
    "df['MARRIAGE'].value_counts()"
   ]
  },
  {
   "cell_type": "code",
   "execution_count": 12,
   "id": "earned-wheat",
   "metadata": {
    "execution": {
     "iopub.execute_input": "2021-04-08T20:21:08.196141Z",
     "iopub.status.busy": "2021-04-08T20:21:08.195426Z",
     "iopub.status.idle": "2021-04-08T20:21:08.200108Z",
     "shell.execute_reply": "2021-04-08T20:21:08.200704Z"
    },
    "papermill": {
     "duration": 0.068276,
     "end_time": "2021-04-08T20:21:08.200890",
     "exception": false,
     "start_time": "2021-04-08T20:21:08.132614",
     "status": "completed"
    },
    "tags": []
   },
   "outputs": [
    {
     "data": {
      "text/plain": [
       "array([24, 26, 34, 37, 57, 29, 23, 28, 35, 51, 41, 30, 49, 39, 40, 27, 47,\n",
       "       33, 32, 54, 58, 22, 25, 31, 46, 42, 43, 45, 56, 44, 53, 38, 63, 36,\n",
       "       52, 48, 55, 60, 50, 75, 61, 73, 59, 21, 67, 66, 62, 70, 72, 64, 65,\n",
       "       71, 69, 68, 79, 74])"
      ]
     },
     "execution_count": 12,
     "metadata": {},
     "output_type": "execute_result"
    }
   ],
   "source": [
    "df['AGE'].unique()"
   ]
  },
  {
   "cell_type": "code",
   "execution_count": 13,
   "id": "million-republican",
   "metadata": {
    "execution": {
     "iopub.execute_input": "2021-04-08T20:21:08.322393Z",
     "iopub.status.busy": "2021-04-08T20:21:08.321508Z",
     "iopub.status.idle": "2021-04-08T20:21:08.327332Z",
     "shell.execute_reply": "2021-04-08T20:21:08.327815Z"
    },
    "papermill": {
     "duration": 0.069169,
     "end_time": "2021-04-08T20:21:08.328027",
     "exception": false,
     "start_time": "2021-04-08T20:21:08.258858",
     "status": "completed"
    },
    "tags": []
   },
   "outputs": [],
   "source": [
    "## Creating a Function to Distribute the Age\n",
    "def func(x):\n",
    "    if(x >=20 and x<30 ):\n",
    "        return 1\n",
    "    elif(x>=30 and x<40):\n",
    "        return 2\n",
    "    elif(x>=40 and x<50):\n",
    "        return 3\n",
    "    elif(x>=50 and x<60):\n",
    "        return 4\n",
    "    elif(x>=60 and x<=80):\n",
    "        return 5"
   ]
  },
  {
   "cell_type": "code",
   "execution_count": 14,
   "id": "least-auditor",
   "metadata": {
    "execution": {
     "iopub.execute_input": "2021-04-08T20:21:08.453389Z",
     "iopub.status.busy": "2021-04-08T20:21:08.452446Z",
     "iopub.status.idle": "2021-04-08T20:21:08.478654Z",
     "shell.execute_reply": "2021-04-08T20:21:08.479180Z"
    },
    "papermill": {
     "duration": 0.091656,
     "end_time": "2021-04-08T20:21:08.479368",
     "exception": false,
     "start_time": "2021-04-08T20:21:08.387712",
     "status": "completed"
    },
    "tags": []
   },
   "outputs": [],
   "source": [
    "df['AGE'] = df['AGE'].apply(func)"
   ]
  },
  {
   "cell_type": "code",
   "execution_count": 15,
   "id": "invalid-gathering",
   "metadata": {
    "execution": {
     "iopub.execute_input": "2021-04-08T20:21:08.600725Z",
     "iopub.status.busy": "2021-04-08T20:21:08.600062Z",
     "iopub.status.idle": "2021-04-08T20:21:08.607969Z",
     "shell.execute_reply": "2021-04-08T20:21:08.607248Z"
    },
    "papermill": {
     "duration": 0.069721,
     "end_time": "2021-04-08T20:21:08.608119",
     "exception": false,
     "start_time": "2021-04-08T20:21:08.538398",
     "status": "completed"
    },
    "tags": []
   },
   "outputs": [],
   "source": [
    "X=df[df.columns[:-1]]\n",
    "y=df['DEFAULT']"
   ]
  },
  {
   "cell_type": "markdown",
   "id": "norwegian-society",
   "metadata": {
    "id": "r4jchSRoPrgr",
    "papermill": {
     "duration": 0.05795,
     "end_time": "2021-04-08T20:21:08.724821",
     "exception": false,
     "start_time": "2021-04-08T20:21:08.666871",
     "status": "completed"
    },
    "tags": []
   },
   "source": [
    "## Questions (15 points total)\n",
    "\n",
    "#### Question 1 (2 pts)\n",
    "Build a classifier by using decision tree and calculate the confusion matrix. Try different hyper-parameters (at least two) and discuss the result."
   ]
  },
  {
   "cell_type": "code",
   "execution_count": 16,
   "id": "elder-understanding",
   "metadata": {
    "execution": {
     "iopub.execute_input": "2021-04-08T20:21:08.849620Z",
     "iopub.status.busy": "2021-04-08T20:21:08.848871Z",
     "iopub.status.idle": "2021-04-08T20:21:08.863614Z",
     "shell.execute_reply": "2021-04-08T20:21:08.862979Z"
    },
    "papermill": {
     "duration": 0.080453,
     "end_time": "2021-04-08T20:21:08.863758",
     "exception": false,
     "start_time": "2021-04-08T20:21:08.783305",
     "status": "completed"
    },
    "tags": []
   },
   "outputs": [],
   "source": [
    "X_train, X_test, y_train, y_test = train_test_split(X, y, test_size=0.3, random_state=25)"
   ]
  },
  {
   "cell_type": "code",
   "execution_count": 17,
   "id": "acoustic-firewall",
   "metadata": {
    "execution": {
     "iopub.execute_input": "2021-04-08T20:21:08.991702Z",
     "iopub.status.busy": "2021-04-08T20:21:08.990962Z",
     "iopub.status.idle": "2021-04-08T20:21:09.043049Z",
     "shell.execute_reply": "2021-04-08T20:21:09.042267Z"
    },
    "papermill": {
     "duration": 0.119994,
     "end_time": "2021-04-08T20:21:09.043206",
     "exception": false,
     "start_time": "2021-04-08T20:21:08.923212",
     "status": "completed"
    },
    "tags": []
   },
   "outputs": [],
   "source": [
    "# Standardization\n",
    "scaler = StandardScaler()\n",
    "scaler.fit(X_train)\n",
    "X_train = scaler.fit_transform(X_train)\n",
    "X_test = scaler.transform(X_test)"
   ]
  },
  {
   "cell_type": "markdown",
   "id": "packed-graduation",
   "metadata": {
    "papermill": {
     "duration": 0.060923,
     "end_time": "2021-04-08T20:21:09.164952",
     "exception": false,
     "start_time": "2021-04-08T20:21:09.104029",
     "status": "completed"
    },
    "tags": []
   },
   "source": [
    "### DECISION TREE CLASSIFIER"
   ]
  },
  {
   "cell_type": "code",
   "execution_count": 18,
   "id": "resident-stephen",
   "metadata": {
    "execution": {
     "iopub.execute_input": "2021-04-08T20:21:09.291388Z",
     "iopub.status.busy": "2021-04-08T20:21:09.290671Z",
     "iopub.status.idle": "2021-04-08T20:21:09.392128Z",
     "shell.execute_reply": "2021-04-08T20:21:09.391374Z"
    },
    "papermill": {
     "duration": 0.167916,
     "end_time": "2021-04-08T20:21:09.392282",
     "exception": false,
     "start_time": "2021-04-08T20:21:09.224366",
     "status": "completed"
    },
    "tags": []
   },
   "outputs": [
    {
     "data": {
      "text/plain": [
       "DecisionTreeClassifier(max_depth=3, random_state=25)"
      ]
     },
     "execution_count": 18,
     "metadata": {},
     "output_type": "execute_result"
    }
   ],
   "source": [
    "tr = tree.DecisionTreeClassifier(max_depth=3, criterion='gini', random_state=25)\n",
    "\n",
    "# Train the estimator.\n",
    "tr.fit(X_train, y_train)"
   ]
  },
  {
   "cell_type": "markdown",
   "id": "selected-spare",
   "metadata": {
    "papermill": {
     "duration": 0.059386,
     "end_time": "2021-04-08T20:21:09.511845",
     "exception": false,
     "start_time": "2021-04-08T20:21:09.452459",
     "status": "completed"
    },
    "tags": []
   },
   "source": [
    "### LETS PLOT A TREE"
   ]
  },
  {
   "cell_type": "code",
   "execution_count": 19,
   "id": "spare-intention",
   "metadata": {
    "execution": {
     "iopub.execute_input": "2021-04-08T20:21:09.639427Z",
     "iopub.status.busy": "2021-04-08T20:21:09.638157Z",
     "iopub.status.idle": "2021-04-08T20:21:10.283332Z",
     "shell.execute_reply": "2021-04-08T20:21:10.282470Z"
    },
    "papermill": {
     "duration": 0.711634,
     "end_time": "2021-04-08T20:21:10.283503",
     "exception": false,
     "start_time": "2021-04-08T20:21:09.571869",
     "status": "completed"
    },
    "tags": []
   },
   "outputs": [
    {
     "data": {
      "image/svg+xml": [
       "<?xml version=\"1.0\" encoding=\"UTF-8\" standalone=\"no\"?>\n",
       "<!DOCTYPE svg PUBLIC \"-//W3C//DTD SVG 1.1//EN\"\n",
       " \"http://www.w3.org/Graphics/SVG/1.1/DTD/svg11.dtd\">\n",
       "<!-- Generated by graphviz version 2.47.0 (20210316.1410)\n",
       " -->\n",
       "<!-- Title: Tree Pages: 1 -->\n",
       "<svg width=\"1326pt\" height=\"373pt\"\n",
       " viewBox=\"0.00 0.00 1325.50 373.00\" xmlns=\"http://www.w3.org/2000/svg\" xmlns:xlink=\"http://www.w3.org/1999/xlink\">\n",
       "<g id=\"graph0\" class=\"graph\" transform=\"scale(1 1) rotate(0) translate(4 369)\">\n",
       "<title>Tree</title>\n",
       "<polygon fill=\"white\" stroke=\"transparent\" points=\"-4,4 -4,-369 1321.5,-369 1321.5,4 -4,4\"/>\n",
       "<!-- 0 -->\n",
       "<g id=\"node1\" class=\"node\">\n",
       "<title>0</title>\n",
       "<path fill=\"#eca571\" stroke=\"black\" d=\"M756.5,-365C756.5,-365 603.5,-365 603.5,-365 597.5,-365 591.5,-359 591.5,-353 591.5,-353 591.5,-309 591.5,-309 591.5,-303 597.5,-297 603.5,-297 603.5,-297 756.5,-297 756.5,-297 762.5,-297 768.5,-303 768.5,-309 768.5,-309 768.5,-353 768.5,-353 768.5,-359 762.5,-365 756.5,-365\"/>\n",
       "<text text-anchor=\"start\" x=\"628\" y=\"-349.8\" font-family=\"helvetica\" font-size=\"14.00\">PAY_1 ≤ 1.358</text>\n",
       "<text text-anchor=\"start\" x=\"636\" y=\"-334.8\" font-family=\"helvetica\" font-size=\"14.00\">gini = 0.343</text>\n",
       "<text text-anchor=\"start\" x=\"616.5\" y=\"-319.8\" font-family=\"helvetica\" font-size=\"14.00\">samples = 21000</text>\n",
       "<text text-anchor=\"start\" x=\"599.5\" y=\"-304.8\" font-family=\"helvetica\" font-size=\"14.00\">value = [16378, 4622]</text>\n",
       "</g>\n",
       "<!-- 1 -->\n",
       "<g id=\"node2\" class=\"node\">\n",
       "<title>1</title>\n",
       "<path fill=\"#ea9a60\" stroke=\"black\" d=\"M597.5,-261C597.5,-261 444.5,-261 444.5,-261 438.5,-261 432.5,-255 432.5,-249 432.5,-249 432.5,-205 432.5,-205 432.5,-199 438.5,-193 444.5,-193 444.5,-193 597.5,-193 597.5,-193 603.5,-193 609.5,-199 609.5,-205 609.5,-205 609.5,-249 609.5,-249 609.5,-255 603.5,-261 597.5,-261\"/>\n",
       "<text text-anchor=\"start\" x=\"469\" y=\"-245.8\" font-family=\"helvetica\" font-size=\"14.00\">PAY_2 ≤ 1.373</text>\n",
       "<text text-anchor=\"start\" x=\"477\" y=\"-230.8\" font-family=\"helvetica\" font-size=\"14.00\">gini = 0.275</text>\n",
       "<text text-anchor=\"start\" x=\"457.5\" y=\"-215.8\" font-family=\"helvetica\" font-size=\"14.00\">samples = 18826</text>\n",
       "<text text-anchor=\"start\" x=\"440.5\" y=\"-200.8\" font-family=\"helvetica\" font-size=\"14.00\">value = [15723, 3103]</text>\n",
       "</g>\n",
       "<!-- 0&#45;&gt;1 -->\n",
       "<g id=\"edge1\" class=\"edge\">\n",
       "<title>0&#45;&gt;1</title>\n",
       "<path fill=\"none\" stroke=\"black\" d=\"M628.38,-296.88C613.3,-287.21 596.7,-276.56 581.15,-266.59\"/>\n",
       "<polygon fill=\"black\" stroke=\"black\" points=\"582.94,-263.58 572.64,-261.12 579.16,-269.47 582.94,-263.58\"/>\n",
       "<text text-anchor=\"middle\" x=\"577.97\" y=\"-281.85\" font-family=\"helvetica\" font-size=\"14.00\">True</text>\n",
       "</g>\n",
       "<!-- 8 -->\n",
       "<g id=\"node9\" class=\"node\">\n",
       "<title>8</title>\n",
       "<path fill=\"#8ec7f0\" stroke=\"black\" d=\"M917.5,-261C917.5,-261 782.5,-261 782.5,-261 776.5,-261 770.5,-255 770.5,-249 770.5,-249 770.5,-205 770.5,-205 770.5,-199 776.5,-193 782.5,-193 782.5,-193 917.5,-193 917.5,-193 923.5,-193 929.5,-199 929.5,-205 929.5,-205 929.5,-249 929.5,-249 929.5,-255 923.5,-261 917.5,-261\"/>\n",
       "<text text-anchor=\"start\" x=\"798\" y=\"-245.8\" font-family=\"helvetica\" font-size=\"14.00\">PAY_5 ≤ 1.119</text>\n",
       "<text text-anchor=\"start\" x=\"806\" y=\"-230.8\" font-family=\"helvetica\" font-size=\"14.00\">gini = 0.421</text>\n",
       "<text text-anchor=\"start\" x=\"791\" y=\"-215.8\" font-family=\"helvetica\" font-size=\"14.00\">samples = 2174</text>\n",
       "<text text-anchor=\"start\" x=\"778.5\" y=\"-200.8\" font-family=\"helvetica\" font-size=\"14.00\">value = [655, 1519]</text>\n",
       "</g>\n",
       "<!-- 0&#45;&gt;8 -->\n",
       "<g id=\"edge8\" class=\"edge\">\n",
       "<title>0&#45;&gt;8</title>\n",
       "<path fill=\"none\" stroke=\"black\" d=\"M735.19,-296.88C751.46,-287.12 769.39,-276.37 786.15,-266.31\"/>\n",
       "<polygon fill=\"black\" stroke=\"black\" points=\"788.02,-269.27 794.79,-261.12 784.42,-263.27 788.02,-269.27\"/>\n",
       "<text text-anchor=\"middle\" x=\"788.73\" y=\"-281.68\" font-family=\"helvetica\" font-size=\"14.00\">False</text>\n",
       "</g>\n",
       "<!-- 2 -->\n",
       "<g id=\"node3\" class=\"node\">\n",
       "<title>2</title>\n",
       "<path fill=\"#e9965a\" stroke=\"black\" d=\"M346.5,-157C346.5,-157 193.5,-157 193.5,-157 187.5,-157 181.5,-151 181.5,-145 181.5,-145 181.5,-101 181.5,-101 181.5,-95 187.5,-89 193.5,-89 193.5,-89 346.5,-89 346.5,-89 352.5,-89 358.5,-95 358.5,-101 358.5,-101 358.5,-145 358.5,-145 358.5,-151 352.5,-157 346.5,-157\"/>\n",
       "<text text-anchor=\"start\" x=\"200\" y=\"-141.8\" font-family=\"helvetica\" font-size=\"14.00\">PAY_AMT2 ≤ &#45;0.178</text>\n",
       "<text text-anchor=\"start\" x=\"226\" y=\"-126.8\" font-family=\"helvetica\" font-size=\"14.00\">gini = 0.245</text>\n",
       "<text text-anchor=\"start\" x=\"206.5\" y=\"-111.8\" font-family=\"helvetica\" font-size=\"14.00\">samples = 17247</text>\n",
       "<text text-anchor=\"start\" x=\"189.5\" y=\"-96.8\" font-family=\"helvetica\" font-size=\"14.00\">value = [14783, 2464]</text>\n",
       "</g>\n",
       "<!-- 1&#45;&gt;2 -->\n",
       "<g id=\"edge2\" class=\"edge\">\n",
       "<title>1&#45;&gt;2</title>\n",
       "<path fill=\"none\" stroke=\"black\" d=\"M439.51,-192.88C414.39,-182.68 386.58,-171.38 360.88,-160.93\"/>\n",
       "<polygon fill=\"black\" stroke=\"black\" points=\"362.09,-157.65 351.51,-157.12 359.46,-164.13 362.09,-157.65\"/>\n",
       "</g>\n",
       "<!-- 5 -->\n",
       "<g id=\"node6\" class=\"node\">\n",
       "<title>5</title>\n",
       "<path fill=\"#f7d7c0\" stroke=\"black\" d=\"M587.5,-157C587.5,-157 454.5,-157 454.5,-157 448.5,-157 442.5,-151 442.5,-145 442.5,-145 442.5,-101 442.5,-101 442.5,-95 448.5,-89 454.5,-89 454.5,-89 587.5,-89 587.5,-89 593.5,-89 599.5,-95 599.5,-101 599.5,-101 599.5,-145 599.5,-145 599.5,-151 593.5,-157 587.5,-157\"/>\n",
       "<text text-anchor=\"start\" x=\"450.5\" y=\"-141.8\" font-family=\"helvetica\" font-size=\"14.00\">LIMIT_BAL ≤ &#45;0.941</text>\n",
       "<text text-anchor=\"start\" x=\"477\" y=\"-126.8\" font-family=\"helvetica\" font-size=\"14.00\">gini = 0.482</text>\n",
       "<text text-anchor=\"start\" x=\"462\" y=\"-111.8\" font-family=\"helvetica\" font-size=\"14.00\">samples = 1579</text>\n",
       "<text text-anchor=\"start\" x=\"454\" y=\"-96.8\" font-family=\"helvetica\" font-size=\"14.00\">value = [940, 639]</text>\n",
       "</g>\n",
       "<!-- 1&#45;&gt;5 -->\n",
       "<g id=\"edge5\" class=\"edge\">\n",
       "<title>1&#45;&gt;5</title>\n",
       "<path fill=\"none\" stroke=\"black\" d=\"M521,-192.88C521,-184.78 521,-175.98 521,-167.47\"/>\n",
       "<polygon fill=\"black\" stroke=\"black\" points=\"524.5,-167.3 521,-157.3 517.5,-167.3 524.5,-167.3\"/>\n",
       "</g>\n",
       "<!-- 3 -->\n",
       "<g id=\"node4\" class=\"node\">\n",
       "<title>3</title>\n",
       "<path fill=\"#eca16b\" stroke=\"black\" d=\"M156,-53C156,-53 12,-53 12,-53 6,-53 0,-47 0,-41 0,-41 0,-12 0,-12 0,-6 6,0 12,0 12,0 156,0 156,0 162,0 168,-6 168,-12 168,-12 168,-41 168,-41 168,-47 162,-53 156,-53\"/>\n",
       "<text text-anchor=\"start\" x=\"40\" y=\"-37.8\" font-family=\"helvetica\" font-size=\"14.00\">gini = 0.322</text>\n",
       "<text text-anchor=\"start\" x=\"25\" y=\"-22.8\" font-family=\"helvetica\" font-size=\"14.00\">samples = 6372</text>\n",
       "<text text-anchor=\"start\" x=\"8\" y=\"-7.8\" font-family=\"helvetica\" font-size=\"14.00\">value = [5089, 1283]</text>\n",
       "</g>\n",
       "<!-- 2&#45;&gt;3 -->\n",
       "<g id=\"edge3\" class=\"edge\">\n",
       "<title>2&#45;&gt;3</title>\n",
       "<path fill=\"none\" stroke=\"black\" d=\"M204.95,-88.95C184.96,-78.79 163.07,-67.67 143.48,-57.72\"/>\n",
       "<polygon fill=\"black\" stroke=\"black\" points=\"144.86,-54.5 134.36,-53.09 141.69,-60.74 144.86,-54.5\"/>\n",
       "</g>\n",
       "<!-- 4 -->\n",
       "<g id=\"node5\" class=\"node\">\n",
       "<title>4</title>\n",
       "<path fill=\"#e89051\" stroke=\"black\" d=\"M342,-53C342,-53 198,-53 198,-53 192,-53 186,-47 186,-41 186,-41 186,-12 186,-12 186,-6 192,0 198,0 198,0 342,0 342,0 348,0 354,-6 354,-12 354,-12 354,-41 354,-41 354,-47 348,-53 342,-53\"/>\n",
       "<text text-anchor=\"start\" x=\"226\" y=\"-37.8\" font-family=\"helvetica\" font-size=\"14.00\">gini = 0.194</text>\n",
       "<text text-anchor=\"start\" x=\"206.5\" y=\"-22.8\" font-family=\"helvetica\" font-size=\"14.00\">samples = 10875</text>\n",
       "<text text-anchor=\"start\" x=\"194\" y=\"-7.8\" font-family=\"helvetica\" font-size=\"14.00\">value = [9694, 1181]</text>\n",
       "</g>\n",
       "<!-- 2&#45;&gt;4 -->\n",
       "<g id=\"edge4\" class=\"edge\">\n",
       "<title>2&#45;&gt;4</title>\n",
       "<path fill=\"none\" stroke=\"black\" d=\"M270,-88.95C270,-80.72 270,-71.85 270,-63.48\"/>\n",
       "<polygon fill=\"black\" stroke=\"black\" points=\"273.5,-63.24 270,-53.24 266.5,-63.24 273.5,-63.24\"/>\n",
       "</g>\n",
       "<!-- 6 -->\n",
       "<g id=\"node7\" class=\"node\">\n",
       "<title>6</title>\n",
       "<path fill=\"#fefbf9\" stroke=\"black\" d=\"M510,-53C510,-53 384,-53 384,-53 378,-53 372,-47 372,-41 372,-41 372,-12 372,-12 372,-6 378,0 384,0 384,0 510,0 510,0 516,0 522,-6 522,-12 522,-12 522,-41 522,-41 522,-47 516,-53 510,-53\"/>\n",
       "<text text-anchor=\"start\" x=\"412\" y=\"-37.8\" font-family=\"helvetica\" font-size=\"14.00\">gini = 0.5</text>\n",
       "<text text-anchor=\"start\" x=\"392.5\" y=\"-22.8\" font-family=\"helvetica\" font-size=\"14.00\">samples = 483</text>\n",
       "<text text-anchor=\"start\" x=\"380\" y=\"-7.8\" font-family=\"helvetica\" font-size=\"14.00\">value = [245, 238]</text>\n",
       "</g>\n",
       "<!-- 5&#45;&gt;6 -->\n",
       "<g id=\"edge6\" class=\"edge\">\n",
       "<title>5&#45;&gt;6</title>\n",
       "<path fill=\"none\" stroke=\"black\" d=\"M495.12,-88.95C488.1,-79.98 480.49,-70.27 473.44,-61.26\"/>\n",
       "<polygon fill=\"black\" stroke=\"black\" points=\"476.07,-58.95 467.15,-53.24 470.56,-63.27 476.07,-58.95\"/>\n",
       "</g>\n",
       "<!-- 7 -->\n",
       "<g id=\"node8\" class=\"node\">\n",
       "<title>7</title>\n",
       "<path fill=\"#f4caab\" stroke=\"black\" d=\"M678,-53C678,-53 552,-53 552,-53 546,-53 540,-47 540,-41 540,-41 540,-12 540,-12 540,-6 546,0 552,0 552,0 678,0 678,0 684,0 690,-6 690,-12 690,-12 690,-41 690,-41 690,-47 684,-53 678,-53\"/>\n",
       "<text text-anchor=\"start\" x=\"571\" y=\"-37.8\" font-family=\"helvetica\" font-size=\"14.00\">gini = 0.464</text>\n",
       "<text text-anchor=\"start\" x=\"556\" y=\"-22.8\" font-family=\"helvetica\" font-size=\"14.00\">samples = 1096</text>\n",
       "<text text-anchor=\"start\" x=\"548\" y=\"-7.8\" font-family=\"helvetica\" font-size=\"14.00\">value = [695, 401]</text>\n",
       "</g>\n",
       "<!-- 5&#45;&gt;7 -->\n",
       "<g id=\"edge7\" class=\"edge\">\n",
       "<title>5&#45;&gt;7</title>\n",
       "<path fill=\"none\" stroke=\"black\" d=\"M553.88,-88.95C563.07,-79.71 573.05,-69.67 582.24,-60.44\"/>\n",
       "<polygon fill=\"black\" stroke=\"black\" points=\"584.83,-62.79 589.4,-53.24 579.87,-57.86 584.83,-62.79\"/>\n",
       "</g>\n",
       "<!-- 9 -->\n",
       "<g id=\"node10\" class=\"node\">\n",
       "<title>9</title>\n",
       "<path fill=\"#a6d3f3\" stroke=\"black\" d=\"M918.5,-157C918.5,-157 781.5,-157 781.5,-157 775.5,-157 769.5,-151 769.5,-145 769.5,-145 769.5,-101 769.5,-101 769.5,-95 775.5,-89 781.5,-89 781.5,-89 918.5,-89 918.5,-89 924.5,-89 930.5,-95 930.5,-101 930.5,-101 930.5,-145 930.5,-145 930.5,-151 924.5,-157 918.5,-157\"/>\n",
       "<text text-anchor=\"start\" x=\"777.5\" y=\"-141.8\" font-family=\"helvetica\" font-size=\"14.00\">BILL_AMT1 ≤ &#45;0.667</text>\n",
       "<text text-anchor=\"start\" x=\"806\" y=\"-126.8\" font-family=\"helvetica\" font-size=\"14.00\">gini = 0.458</text>\n",
       "<text text-anchor=\"start\" x=\"791\" y=\"-111.8\" font-family=\"helvetica\" font-size=\"14.00\">samples = 1257</text>\n",
       "<text text-anchor=\"start\" x=\"783\" y=\"-96.8\" font-family=\"helvetica\" font-size=\"14.00\">value = [446, 811]</text>\n",
       "</g>\n",
       "<!-- 8&#45;&gt;9 -->\n",
       "<g id=\"edge9\" class=\"edge\">\n",
       "<title>8&#45;&gt;9</title>\n",
       "<path fill=\"none\" stroke=\"black\" d=\"M850,-192.88C850,-184.78 850,-175.98 850,-167.47\"/>\n",
       "<polygon fill=\"black\" stroke=\"black\" points=\"853.5,-167.3 850,-157.3 846.5,-167.3 853.5,-167.3\"/>\n",
       "</g>\n",
       "<!-- 12 -->\n",
       "<g id=\"node13\" class=\"node\">\n",
       "<title>12</title>\n",
       "<path fill=\"#73baed\" stroke=\"black\" d=\"M1164.5,-157C1164.5,-157 1037.5,-157 1037.5,-157 1031.5,-157 1025.5,-151 1025.5,-145 1025.5,-145 1025.5,-101 1025.5,-101 1025.5,-95 1031.5,-89 1037.5,-89 1037.5,-89 1164.5,-89 1164.5,-89 1170.5,-89 1176.5,-95 1176.5,-101 1176.5,-101 1176.5,-145 1176.5,-145 1176.5,-151 1170.5,-157 1164.5,-157\"/>\n",
       "<text text-anchor=\"start\" x=\"1033.5\" y=\"-141.8\" font-family=\"helvetica\" font-size=\"14.00\">PAY_AMT3 ≤ 0.393</text>\n",
       "<text text-anchor=\"start\" x=\"1057\" y=\"-126.8\" font-family=\"helvetica\" font-size=\"14.00\">gini = 0.352</text>\n",
       "<text text-anchor=\"start\" x=\"1046.5\" y=\"-111.8\" font-family=\"helvetica\" font-size=\"14.00\">samples = 917</text>\n",
       "<text text-anchor=\"start\" x=\"1034\" y=\"-96.8\" font-family=\"helvetica\" font-size=\"14.00\">value = [209, 708]</text>\n",
       "</g>\n",
       "<!-- 8&#45;&gt;12 -->\n",
       "<g id=\"edge12\" class=\"edge\">\n",
       "<title>8&#45;&gt;12</title>\n",
       "<path fill=\"none\" stroke=\"black\" d=\"M929.76,-193.59C957.23,-182.42 988.09,-169.88 1015.97,-158.56\"/>\n",
       "<polygon fill=\"black\" stroke=\"black\" points=\"1017.35,-161.77 1025.29,-154.76 1014.71,-155.29 1017.35,-161.77\"/>\n",
       "</g>\n",
       "<!-- 10 -->\n",
       "<g id=\"node11\" class=\"node\">\n",
       "<title>10</title>\n",
       "<path fill=\"#f5d0b6\" stroke=\"black\" d=\"M828,-53C828,-53 720,-53 720,-53 714,-53 708,-47 708,-41 708,-41 708,-12 708,-12 708,-6 714,0 720,0 720,0 828,0 828,0 834,0 840,-6 840,-12 840,-12 840,-41 840,-41 840,-47 834,-53 828,-53\"/>\n",
       "<text text-anchor=\"start\" x=\"730\" y=\"-37.8\" font-family=\"helvetica\" font-size=\"14.00\">gini = 0.474</text>\n",
       "<text text-anchor=\"start\" x=\"719.5\" y=\"-22.8\" font-family=\"helvetica\" font-size=\"14.00\">samples = 106</text>\n",
       "<text text-anchor=\"start\" x=\"716\" y=\"-7.8\" font-family=\"helvetica\" font-size=\"14.00\">value = [65, 41]</text>\n",
       "</g>\n",
       "<!-- 9&#45;&gt;10 -->\n",
       "<g id=\"edge10\" class=\"edge\">\n",
       "<title>9&#45;&gt;10</title>\n",
       "<path fill=\"none\" stroke=\"black\" d=\"M823.42,-88.95C816.21,-79.98 808.39,-70.27 801.15,-61.26\"/>\n",
       "<polygon fill=\"black\" stroke=\"black\" points=\"803.69,-58.84 794.7,-53.24 798.24,-63.22 803.69,-58.84\"/>\n",
       "</g>\n",
       "<!-- 11 -->\n",
       "<g id=\"node12\" class=\"node\">\n",
       "<title>11</title>\n",
       "<path fill=\"#9bcdf2\" stroke=\"black\" d=\"M996,-53C996,-53 870,-53 870,-53 864,-53 858,-47 858,-41 858,-41 858,-12 858,-12 858,-6 864,0 870,0 870,0 996,0 996,0 1002,0 1008,-6 1008,-12 1008,-12 1008,-41 1008,-41 1008,-47 1002,-53 996,-53\"/>\n",
       "<text text-anchor=\"start\" x=\"889\" y=\"-37.8\" font-family=\"helvetica\" font-size=\"14.00\">gini = 0.443</text>\n",
       "<text text-anchor=\"start\" x=\"874\" y=\"-22.8\" font-family=\"helvetica\" font-size=\"14.00\">samples = 1151</text>\n",
       "<text text-anchor=\"start\" x=\"866\" y=\"-7.8\" font-family=\"helvetica\" font-size=\"14.00\">value = [381, 770]</text>\n",
       "</g>\n",
       "<!-- 9&#45;&gt;11 -->\n",
       "<g id=\"edge11\" class=\"edge\">\n",
       "<title>9&#45;&gt;11</title>\n",
       "<path fill=\"none\" stroke=\"black\" d=\"M879.03,-88.95C886.98,-79.89 895.61,-70.07 903.59,-60.99\"/>\n",
       "<polygon fill=\"black\" stroke=\"black\" points=\"906.43,-63.06 910.4,-53.24 901.17,-58.44 906.43,-63.06\"/>\n",
       "</g>\n",
       "<!-- 13 -->\n",
       "<g id=\"node14\" class=\"node\">\n",
       "<title>13</title>\n",
       "<path fill=\"#6fb8ec\" stroke=\"black\" d=\"M1164,-53C1164,-53 1038,-53 1038,-53 1032,-53 1026,-47 1026,-41 1026,-41 1026,-12 1026,-12 1026,-6 1032,0 1038,0 1038,0 1164,0 1164,0 1170,0 1176,-6 1176,-12 1176,-12 1176,-41 1176,-41 1176,-47 1170,-53 1164,-53\"/>\n",
       "<text text-anchor=\"start\" x=\"1057\" y=\"-37.8\" font-family=\"helvetica\" font-size=\"14.00\">gini = 0.338</text>\n",
       "<text text-anchor=\"start\" x=\"1046.5\" y=\"-22.8\" font-family=\"helvetica\" font-size=\"14.00\">samples = 895</text>\n",
       "<text text-anchor=\"start\" x=\"1034\" y=\"-7.8\" font-family=\"helvetica\" font-size=\"14.00\">value = [193, 702]</text>\n",
       "</g>\n",
       "<!-- 12&#45;&gt;13 -->\n",
       "<g id=\"edge13\" class=\"edge\">\n",
       "<title>12&#45;&gt;13</title>\n",
       "<path fill=\"none\" stroke=\"black\" d=\"M1101,-88.95C1101,-80.72 1101,-71.85 1101,-63.48\"/>\n",
       "<polygon fill=\"black\" stroke=\"black\" points=\"1104.5,-63.24 1101,-53.24 1097.5,-63.24 1104.5,-63.24\"/>\n",
       "</g>\n",
       "<!-- 14 -->\n",
       "<g id=\"node15\" class=\"node\">\n",
       "<title>14</title>\n",
       "<path fill=\"#efb083\" stroke=\"black\" d=\"M1305.5,-53C1305.5,-53 1206.5,-53 1206.5,-53 1200.5,-53 1194.5,-47 1194.5,-41 1194.5,-41 1194.5,-12 1194.5,-12 1194.5,-6 1200.5,0 1206.5,0 1206.5,0 1305.5,0 1305.5,0 1311.5,0 1317.5,-6 1317.5,-12 1317.5,-12 1317.5,-41 1317.5,-41 1317.5,-47 1311.5,-53 1305.5,-53\"/>\n",
       "<text text-anchor=\"start\" x=\"1212\" y=\"-37.8\" font-family=\"helvetica\" font-size=\"14.00\">gini = 0.397</text>\n",
       "<text text-anchor=\"start\" x=\"1206\" y=\"-22.8\" font-family=\"helvetica\" font-size=\"14.00\">samples = 22</text>\n",
       "<text text-anchor=\"start\" x=\"1202.5\" y=\"-7.8\" font-family=\"helvetica\" font-size=\"14.00\">value = [16, 6]</text>\n",
       "</g>\n",
       "<!-- 12&#45;&gt;14 -->\n",
       "<g id=\"edge14\" class=\"edge\">\n",
       "<title>12&#45;&gt;14</title>\n",
       "<path fill=\"none\" stroke=\"black\" d=\"M1155.21,-88.95C1171.42,-79.07 1189.12,-68.28 1205.1,-58.53\"/>\n",
       "<polygon fill=\"black\" stroke=\"black\" points=\"1207.07,-61.43 1213.79,-53.24 1203.43,-55.45 1207.07,-61.43\"/>\n",
       "</g>\n",
       "</g>\n",
       "</svg>\n"
      ],
      "text/plain": [
       "<graphviz.files.Source at 0x7f08a6287c50>"
      ]
     },
     "execution_count": 19,
     "metadata": {},
     "output_type": "execute_result"
    }
   ],
   "source": [
    "dot_data = tree.export_graphviz(tr, out_file=None, feature_names=X.columns, filled=True, rounded=True, special_characters=True)  \n",
    "graph = graphviz.Source(dot_data)  \n",
    "graph "
   ]
  },
  {
   "cell_type": "code",
   "execution_count": 20,
   "id": "tropical-therapist",
   "metadata": {
    "execution": {
     "iopub.execute_input": "2021-04-08T20:21:10.419324Z",
     "iopub.status.busy": "2021-04-08T20:21:10.418584Z",
     "iopub.status.idle": "2021-04-08T20:21:11.348534Z",
     "shell.execute_reply": "2021-04-08T20:21:11.349037Z"
    },
    "papermill": {
     "duration": 1.00171,
     "end_time": "2021-04-08T20:21:11.349239",
     "exception": false,
     "start_time": "2021-04-08T20:21:10.347529",
     "status": "completed"
    },
    "tags": []
   },
   "outputs": [
    {
     "name": "stdout",
     "output_type": "stream",
     "text": [
      "[1 0 1 ... 0 0 0]\n",
      "Cross val: 0.820\n"
     ]
    }
   ],
   "source": [
    "# Make predictions.\n",
    "tr_pred=tr.predict(X_test)\n",
    "print(tr_pred)\n",
    "\n",
    "# CV score\n",
    "tr_cv=cross_val_score(tr, X_train, y_train, cv=10).mean()\n",
    "print (\"Cross val: %.3f\" % tr_cv)"
   ]
  },
  {
   "cell_type": "code",
   "execution_count": 21,
   "id": "fantastic-girlfriend",
   "metadata": {
    "execution": {
     "iopub.execute_input": "2021-04-08T20:21:11.479584Z",
     "iopub.status.busy": "2021-04-08T20:21:11.478847Z",
     "iopub.status.idle": "2021-04-08T20:21:11.503391Z",
     "shell.execute_reply": "2021-04-08T20:21:11.502570Z"
    },
    "papermill": {
     "duration": 0.09249,
     "end_time": "2021-04-08T20:21:11.503557",
     "exception": false,
     "start_time": "2021-04-08T20:21:11.411067",
     "status": "completed"
    },
    "tags": []
   },
   "outputs": [
    {
     "name": "stdout",
     "output_type": "stream",
     "text": [
      "Accuracy: 0.816\n",
      "Precision: 0.698\n",
      "Recall: 0.312\n",
      "F1 score: 0.432\n"
     ]
    }
   ],
   "source": [
    "# Accuracy: 1 is perfect prediction.\n",
    "print('Accuracy: %.3f' % tr.score(X_test, y_test))\n",
    "\n",
    "# Precision\n",
    "print('Precision: %.3f' % precision_score(y_test, tr_pred))\n",
    "\n",
    "# Recall\n",
    "print('Recall: %.3f' % recall_score(y_test, tr_pred))\n",
    "\n",
    "# f1 score: best value at 1 (perfect precision and recall) and worst at 0.\n",
    "print('F1 score: %.3f' % f1_score(y_test, tr_pred))"
   ]
  },
  {
   "cell_type": "code",
   "execution_count": 22,
   "id": "seasonal-cookbook",
   "metadata": {
    "execution": {
     "iopub.execute_input": "2021-04-08T20:21:11.636995Z",
     "iopub.status.busy": "2021-04-08T20:21:11.636022Z",
     "iopub.status.idle": "2021-04-08T20:21:11.639685Z",
     "shell.execute_reply": "2021-04-08T20:21:11.639088Z"
    },
    "papermill": {
     "duration": 0.073571,
     "end_time": "2021-04-08T20:21:11.639831",
     "exception": false,
     "start_time": "2021-04-08T20:21:11.566260",
     "status": "completed"
    },
    "tags": []
   },
   "outputs": [],
   "source": [
    "#### CONFUSION MATRIX FOR DECISION TREE"
   ]
  },
  {
   "cell_type": "code",
   "execution_count": 23,
   "id": "experienced-penalty",
   "metadata": {
    "execution": {
     "iopub.execute_input": "2021-04-08T20:21:11.773458Z",
     "iopub.status.busy": "2021-04-08T20:21:11.772289Z",
     "iopub.status.idle": "2021-04-08T20:21:12.006001Z",
     "shell.execute_reply": "2021-04-08T20:21:12.005305Z"
    },
    "papermill": {
     "duration": 0.303214,
     "end_time": "2021-04-08T20:21:12.006153",
     "exception": false,
     "start_time": "2021-04-08T20:21:11.702939",
     "status": "completed"
    },
    "tags": []
   },
   "outputs": [
    {
     "data": {
      "image/png": "[encoded data removed]",
      "text/plain": [
       "<Figure size 576x576 with 1 Axes>"
      ]
     },
     "metadata": {},
     "output_type": "display_data"
    }
   ],
   "source": [
    "# Plot confusion matrix for Decision tree.\n",
    "tr_matrix = confusion_matrix(y_test,tr_pred)\n",
    "sns.set(font_scale=1.3)\n",
    "plt.subplots(figsize=(8, 8))\n",
    "sns.heatmap(tr_matrix,annot=True, cbar=False, cmap='twilight',linewidth=0.5,fmt=\"d\")\n",
    "plt.ylabel('True Label')\n",
    "plt.xlabel('Predicted Label')\n",
    "plt.title('Confusion Matrix for Decision tree');"
   ]
  },
  {
   "cell_type": "code",
   "execution_count": 24,
   "id": "least-measure",
   "metadata": {
    "execution": {
     "iopub.execute_input": "2021-04-08T20:21:12.141356Z",
     "iopub.status.busy": "2021-04-08T20:21:12.140596Z",
     "iopub.status.idle": "2021-04-08T20:21:12.151254Z",
     "shell.execute_reply": "2021-04-08T20:21:12.150276Z"
    },
    "papermill": {
     "duration": 0.079985,
     "end_time": "2021-04-08T20:21:12.151469",
     "exception": false,
     "start_time": "2021-04-08T20:21:12.071484",
     "status": "completed"
    },
    "tags": []
   },
   "outputs": [
    {
     "name": "stdout",
     "output_type": "stream",
     "text": [
      "AUC: 0.74\n"
     ]
    }
   ],
   "source": [
    "# Predict propabilities for the test data.\n",
    "tr_probs = tr.predict_proba(X_test)\n",
    "\n",
    "# Keep Probabilities of the positive class only.\n",
    "tr_probs = tr_probs[:, 1]\n",
    "\n",
    "# Compute the AUC Score.\n",
    "auc_tr = roc_auc_score(y_test, tr_probs)\n",
    "print('AUC: %.2f' % auc_tr)"
   ]
  },
  {
   "cell_type": "markdown",
   "id": "placed-specific",
   "metadata": {
    "papermill": {
     "duration": 0.064811,
     "end_time": "2021-04-08T20:21:12.282106",
     "exception": false,
     "start_time": "2021-04-08T20:21:12.217295",
     "status": "completed"
    },
    "tags": []
   },
   "source": [
    "### USING GRID SEARCH TO WORK ON HYPER - PARAMETERS"
   ]
  },
  {
   "cell_type": "code",
   "execution_count": 25,
   "id": "surrounded-vaccine",
   "metadata": {
    "execution": {
     "iopub.execute_input": "2021-04-08T20:21:12.422119Z",
     "iopub.status.busy": "2021-04-08T20:21:12.421302Z",
     "iopub.status.idle": "2021-04-08T20:22:05.757323Z",
     "shell.execute_reply": "2021-04-08T20:22:05.757843Z"
    },
    "papermill": {
     "duration": 53.40866,
     "end_time": "2021-04-08T20:22:05.758063",
     "exception": false,
     "start_time": "2021-04-08T20:21:12.349403",
     "status": "completed"
    },
    "tags": []
   },
   "outputs": [
    {
     "name": "stdout",
     "output_type": "stream",
     "text": [
      "Fitting 10 folds for each of 40 candidates, totalling 400 fits\n"
     ]
    },
    {
     "data": {
      "text/plain": [
       "GridSearchCV(cv=10,\n",
       "             estimator=DecisionTreeClassifier(max_depth=3, random_state=25),\n",
       "             n_jobs=-1,\n",
       "             param_grid={'criterion': ['gini', 'entropy'],\n",
       "                         'max_depth': [1, 2, 3, 4, 5, 6, 7, 8, 9, 10, 11, 12,\n",
       "                                       13, 14, 15, 16, 17, 18, 19, 20]},\n",
       "             verbose=1)"
      ]
     },
     "execution_count": 25,
     "metadata": {},
     "output_type": "execute_result"
    }
   ],
   "source": [
    "parameters = {'criterion':['gini','entropy'],\n",
    "              'max_depth':[1,2,3,4,5,6,7,8,9,10,11,12,13,14,15,16,17,18,19,20]\n",
    "             }\n",
    "\n",
    "# GridSearchCV estimator.\n",
    "gs_tree = GridSearchCV(tr, parameters, cv=10, n_jobs=-1,verbose=1)\n",
    "\n",
    "# Train the GridSearchCV estimator and search for the best parameters.\n",
    "gs_tree.fit(X_train,y_train)"
   ]
  },
  {
   "cell_type": "code",
   "execution_count": 26,
   "id": "removed-average",
   "metadata": {
    "execution": {
     "iopub.execute_input": "2021-04-08T20:22:05.891386Z",
     "iopub.status.busy": "2021-04-08T20:22:05.890577Z",
     "iopub.status.idle": "2021-04-08T20:22:05.897467Z",
     "shell.execute_reply": "2021-04-08T20:22:05.896893Z"
    },
    "papermill": {
     "duration": 0.074964,
     "end_time": "2021-04-08T20:22:05.897625",
     "exception": false,
     "start_time": "2021-04-08T20:22:05.822661",
     "status": "completed"
    },
    "tags": []
   },
   "outputs": [],
   "source": [
    "# Make predictions with the best parameters.\n",
    "gs_tree_pred=gs_tree.predict(X_test)"
   ]
  },
  {
   "cell_type": "code",
   "execution_count": 27,
   "id": "upper-trade",
   "metadata": {
    "execution": {
     "iopub.execute_input": "2021-04-08T20:22:06.035280Z",
     "iopub.status.busy": "2021-04-08T20:22:06.034266Z",
     "iopub.status.idle": "2021-04-08T20:22:06.059041Z",
     "shell.execute_reply": "2021-04-08T20:22:06.059593Z"
    },
    "papermill": {
     "duration": 0.0965,
     "end_time": "2021-04-08T20:22:06.059777",
     "exception": false,
     "start_time": "2021-04-08T20:22:05.963277",
     "status": "completed"
    },
    "tags": []
   },
   "outputs": [
    {
     "name": "stdout",
     "output_type": "stream",
     "text": [
      "Best Decision tree Parameters: {'criterion': 'gini', 'max_depth': 1}\n",
      "Cross-validation accuracy: 0.821\n",
      "Accuracy: 0.816\n",
      "Precision: 0.688\n",
      "Recall: 0.327\n",
      "F1 score: 0.443\n"
     ]
    }
   ],
   "source": [
    "# Best parameters.\n",
    "print(\"Best Decision tree Parameters: {}\".format(gs_tree.best_params_))\n",
    "\n",
    "# Cross validation accuracy for the best parameters.\n",
    "print('Cross-validation accuracy: %0.3f' % gs_tree.best_score_)\n",
    "\n",
    "# Accuracy: 1 is perfect prediction.\n",
    "print('Accuracy: %0.3f' % (gs_tree.score(X_test,y_test)))\n",
    "\n",
    "# Precision\n",
    "print('Precision: %.3f' % precision_score(y_test, gs_tree_pred))\n",
    "\n",
    "# Recall\n",
    "print('Recall: %.3f' % recall_score(y_test, gs_tree_pred))\n",
    "\n",
    "# f1 score: best value at 1 (perfect precision and recall) and worst at 0.\n",
    "print('F1 score: %.3f' % f1_score(y_test, gs_tree_pred))"
   ]
  },
  {
   "cell_type": "code",
   "execution_count": 28,
   "id": "clinical-petersburg",
   "metadata": {
    "execution": {
     "iopub.execute_input": "2021-04-08T20:22:06.200050Z",
     "iopub.status.busy": "2021-04-08T20:22:06.199378Z",
     "iopub.status.idle": "2021-04-08T20:22:06.392559Z",
     "shell.execute_reply": "2021-04-08T20:22:06.393114Z"
    },
    "papermill": {
     "duration": 0.266787,
     "end_time": "2021-04-08T20:22:06.393304",
     "exception": false,
     "start_time": "2021-04-08T20:22:06.126517",
     "status": "completed"
    },
    "tags": []
   },
   "outputs": [
    {
     "data": {
      "image/png": "[encoded data removed]",
      "text/plain": [
       "<Figure size 576x576 with 1 Axes>"
      ]
     },
     "metadata": {},
     "output_type": "display_data"
    }
   ],
   "source": [
    "# Plot confusion matrix for Decision tree.\n",
    "gs_tr_matrix = confusion_matrix(y_test,gs_tree_pred)\n",
    "sns.set(font_scale=1.3)\n",
    "plt.subplots(figsize=(8, 8))\n",
    "sns.heatmap(gs_tr_matrix,annot=True, cbar=False, cmap='twilight',linewidth=0.5,fmt=\"d\")\n",
    "plt.ylabel('True Label')\n",
    "plt.xlabel('Predicted Label')\n",
    "plt.title('Confusion Matrix for GridSearchCV Decision tree');"
   ]
  },
  {
   "cell_type": "code",
   "execution_count": 29,
   "id": "mediterranean-seven",
   "metadata": {
    "execution": {
     "iopub.execute_input": "2021-04-08T20:22:06.531778Z",
     "iopub.status.busy": "2021-04-08T20:22:06.531066Z",
     "iopub.status.idle": "2021-04-08T20:22:06.542424Z",
     "shell.execute_reply": "2021-04-08T20:22:06.543035Z"
    },
    "papermill": {
     "duration": 0.08213,
     "end_time": "2021-04-08T20:22:06.543217",
     "exception": false,
     "start_time": "2021-04-08T20:22:06.461087",
     "status": "completed"
    },
    "tags": []
   },
   "outputs": [
    {
     "name": "stdout",
     "output_type": "stream",
     "text": [
      "AUC: 0.64\n"
     ]
    }
   ],
   "source": [
    "# Predict probabilities for the test data.\n",
    "gs_tree_probs = gs_tree.predict_proba(X_test)\n",
    "\n",
    "# Keep Probabilities of the positive class only.\n",
    "gs_tree_probs = gs_tree_probs[:, 1]\n",
    "\n",
    "# Compute the AUC Score.\n",
    "gs_tree_auc = roc_auc_score(y_test, gs_tree_probs)\n",
    "print('AUC: %.2f' % gs_tree_auc)"
   ]
  },
  {
   "cell_type": "markdown",
   "id": "bridal-evans",
   "metadata": {
    "papermill": {
     "duration": 0.065967,
     "end_time": "2021-04-08T20:22:06.675733",
     "exception": false,
     "start_time": "2021-04-08T20:22:06.609766",
     "status": "completed"
    },
    "tags": []
   },
   "source": [
    "## LETS SEE THEM ON ROC CURVE"
   ]
  },
  {
   "cell_type": "code",
   "execution_count": 30,
   "id": "understanding-origin",
   "metadata": {
    "execution": {
     "iopub.execute_input": "2021-04-08T20:22:06.817274Z",
     "iopub.status.busy": "2021-04-08T20:22:06.816470Z",
     "iopub.status.idle": "2021-04-08T20:22:07.090465Z",
     "shell.execute_reply": "2021-04-08T20:22:07.090948Z"
    },
    "papermill": {
     "duration": 0.348834,
     "end_time": "2021-04-08T20:22:07.091177",
     "exception": false,
     "start_time": "2021-04-08T20:22:06.742343",
     "status": "completed"
    },
    "tags": []
   },
   "outputs": [
    {
     "data": {
      "image/png": "[encoded data removed]",
      "text/plain": [
       "<Figure size 576x576 with 1 Axes>"
      ]
     },
     "metadata": {},
     "output_type": "display_data"
    }
   ],
   "source": [
    "# Get the ROC Curves.\n",
    "gs_tr_fpr, gs_tr_tpr, gs_tr_thresholds = roc_curve(y_test, gs_tree_probs)\n",
    "tr_fpr, tr_tpr, tr_thresholds = roc_curve(y_test, tr_probs)\n",
    "\n",
    "# Plot the ROC curves.\n",
    "plt.figure(figsize=(8,8))\n",
    "plt.plot(tr_fpr, tr_tpr, color='red', label='Decision tree ROC (AUC= %0.2f)'% auc_tr)\n",
    "plt.plot(gs_tr_fpr, gs_tr_tpr, color='green', label='GridSearch+Decision tree ROC (AUC= %0.2f)'% gs_tree_auc)\n",
    "plt.plot([0, 1], [0, 1], color='darkblue', linestyle='--',label='random')\n",
    "plt.xlabel('False Positive Rate')\n",
    "plt.ylabel('True Positive Rate')\n",
    "plt.title('Receiver Operating Characteristic (ROC) Curves')\n",
    "plt.legend()\n",
    "plt.show()"
   ]
  },
  {
   "cell_type": "markdown",
   "id": "special-spencer",
   "metadata": {
    "papermill": {
     "duration": 0.068314,
     "end_time": "2021-04-08T20:22:07.228414",
     "exception": false,
     "start_time": "2021-04-08T20:22:07.160100",
     "status": "completed"
    },
    "tags": []
   },
   "source": [
    "### We can see that GRID SEARCH dint work well and we are ahving better result with only DECISION TREE . We have AUC as 0.74 with DECISON TREE whereas it dropped to 0.64 when we applied GRID SEARCH."
   ]
  },
  {
   "cell_type": "code",
   "execution_count": 31,
   "id": "destroyed-basis",
   "metadata": {
    "execution": {
     "iopub.execute_input": "2021-04-08T20:22:07.371894Z",
     "iopub.status.busy": "2021-04-08T20:22:07.371219Z",
     "iopub.status.idle": "2021-04-08T20:22:07.632363Z",
     "shell.execute_reply": "2021-04-08T20:22:07.631791Z"
    },
    "papermill": {
     "duration": 0.335176,
     "end_time": "2021-04-08T20:22:07.632518",
     "exception": false,
     "start_time": "2021-04-08T20:22:07.297342",
     "status": "completed"
    },
    "tags": []
   },
   "outputs": [
    {
     "data": {
      "text/html": [
       "        <script type=\"text/javascript\">\n",
       "        window.PlotlyConfig = {MathJaxConfig: 'local'};\n",
       "        if (window.MathJax) {MathJax.Hub.Config({SVG: {font: \"STIX-Web\"}});}\n",
       "        if (typeof require !== 'undefined') {\n",
       "        require.undef(\"plotly\");\n",
       "        requirejs.config({\n",
       "            paths: {\n",
       "                'plotly': ['https://cdn.plot.ly/plotly-latest.min']\n",
       "            }\n",
       "        });\n",
       "        require(['plotly'], function(Plotly) {\n",
       "            window._Plotly = Plotly;\n",
       "        });\n",
       "        }\n",
       "        </script>\n",
       "        "
      ]
     },
     "metadata": {},
     "output_type": "display_data"
    },
    {
     "data": {
      "text/html": [
       "<div>                            <div id=\"e5ee02a7-b38e-46d8-86ca-75ba5d7b8af4\" class=\"plotly-graph-div\" style=\"height:525px; width:100%;\"></div>            <script type=\"text/javascript\">                require([\"plotly\"], function(Plotly) {                    window.PLOTLYENV=window.PLOTLYENV || {};                                    if (document.getElementById(\"e5ee02a7-b38e-46d8-86ca-75ba5d7b8af4\")) {                    Plotly.newPlot(                        \"e5ee02a7-b38e-46d8-86ca-75ba5d7b8af4\",                        [{\"name\": \"Decision tree\", \"type\": \"bar\", \"x\": [\"Accuracy\", \"CV accuracy\", \"Precision\", \"Recall\", \"F1\", \"ROC AUC\"], \"y\": [0.8158888888888889, 0.8204285714285715, 0.6981132075471698, 0.31231380337636544, 0.4315608919382504, 0.7359889306204975]}, {\"name\": \"GridSearchCV+Decision tree\", \"type\": \"bar\", \"x\": [\"Accuracy\", \"CV accuracy\", \"Precision\", \"Recall\", \"F1\", \"ROC AUC\"], \"y\": [0.8162222222222222, 0.8210476190476191, 0.6882845188284519, 0.32671300893743793, 0.4430976430976431, 0.6420281334409491]}],                        {\"bargroupgap\": 0.05, \"barmode\": \"group\", \"template\": {\"data\": {\"bar\": [{\"error_x\": {\"color\": \"#2a3f5f\"}, \"error_y\": {\"color\": \"#2a3f5f\"}, \"marker\": {\"line\": {\"color\": \"#E5ECF6\", \"width\": 0.5}}, \"type\": \"bar\"}], \"barpolar\": [{\"marker\": {\"line\": {\"color\": \"#E5ECF6\", \"width\": 0.5}}, \"type\": \"barpolar\"}], \"carpet\": [{\"aaxis\": {\"endlinecolor\": \"#2a3f5f\", \"gridcolor\": \"white\", \"linecolor\": \"white\", \"minorgridcolor\": \"white\", \"startlinecolor\": \"#2a3f5f\"}, \"baxis\": {\"endlinecolor\": \"#2a3f5f\", \"gridcolor\": \"white\", \"linecolor\": \"white\", \"minorgridcolor\": \"white\", \"startlinecolor\": \"#2a3f5f\"}, \"type\": \"carpet\"}], \"choropleth\": [{\"colorbar\": {\"outlinewidth\": 0, \"ticks\": \"\"}, \"type\": \"choropleth\"}], \"contour\": [{\"colorbar\": {\"outlinewidth\": 0, \"ticks\": \"\"}, \"colorscale\": [[0.0, \"#0d0887\"], [0.1111111111111111, \"#46039f\"], [0.2222222222222222, \"#7201a8\"], [0.3333333333333333, \"#9c179e\"], [0.4444444444444444, \"#bd3786\"], [0.5555555555555556, \"#d8576b\"], [0.6666666666666666, \"#ed7953\"], [0.7777777777777778, \"#fb9f3a\"], [0.8888888888888888, \"#fdca26\"], [1.0, \"#f0f921\"]], \"type\": \"contour\"}], \"contourcarpet\": [{\"colorbar\": {\"outlinewidth\": 0, \"ticks\": \"\"}, \"type\": \"contourcarpet\"}], \"heatmap\": [{\"colorbar\": {\"outlinewidth\": 0, \"ticks\": \"\"}, \"colorscale\": [[0.0, \"#0d0887\"], [0.1111111111111111, \"#46039f\"], [0.2222222222222222, \"#7201a8\"], [0.3333333333333333, \"#9c179e\"], [0.4444444444444444, \"#bd3786\"], [0.5555555555555556, \"#d8576b\"], [0.6666666666666666, \"#ed7953\"], [0.7777777777777778, \"#fb9f3a\"], [0.8888888888888888, \"#fdca26\"], [1.0, \"#f0f921\"]], \"type\": \"heatmap\"}], \"heatmapgl\": [{\"colorbar\": {\"outlinewidth\": 0, \"ticks\": \"\"}, \"colorscale\": [[0.0, \"#0d0887\"], [0.1111111111111111, \"#46039f\"], [0.2222222222222222, \"#7201a8\"], [0.3333333333333333, \"#9c179e\"], [0.4444444444444444, \"#bd3786\"], [0.5555555555555556, \"#d8576b\"], [0.6666666666666666, \"#ed7953\"], [0.7777777777777778, \"#fb9f3a\"], [0.8888888888888888, \"#fdca26\"], [1.0, \"#f0f921\"]], \"type\": \"heatmapgl\"}], \"histogram\": [{\"marker\": {\"colorbar\": {\"outlinewidth\": 0, \"ticks\": \"\"}}, \"type\": \"histogram\"}], \"histogram2d\": [{\"colorbar\": {\"outlinewidth\": 0, \"ticks\": \"\"}, \"colorscale\": [[0.0, \"#0d0887\"], [0.1111111111111111, \"#46039f\"], [0.2222222222222222, \"#7201a8\"], [0.3333333333333333, \"#9c179e\"], [0.4444444444444444, \"#bd3786\"], [0.5555555555555556, \"#d8576b\"], [0.6666666666666666, \"#ed7953\"], [0.7777777777777778, \"#fb9f3a\"], [0.8888888888888888, \"#fdca26\"], [1.0, \"#f0f921\"]], \"type\": \"histogram2d\"}], \"histogram2dcontour\": [{\"colorbar\": {\"outlinewidth\": 0, \"ticks\": \"\"}, \"colorscale\": [[0.0, \"#0d0887\"], [0.1111111111111111, \"#46039f\"], [0.2222222222222222, \"#7201a8\"], [0.3333333333333333, \"#9c179e\"], [0.4444444444444444, \"#bd3786\"], [0.5555555555555556, \"#d8576b\"], [0.6666666666666666, \"#ed7953\"], [0.7777777777777778, \"#fb9f3a\"], [0.8888888888888888, \"#fdca26\"], [1.0, \"#f0f921\"]], \"type\": \"histogram2dcontour\"}], \"mesh3d\": [{\"colorbar\": {\"outlinewidth\": 0, \"ticks\": \"\"}, \"type\": \"mesh3d\"}], \"parcoords\": [{\"line\": {\"colorbar\": {\"outlinewidth\": 0, \"ticks\": \"\"}}, \"type\": \"parcoords\"}], \"pie\": [{\"automargin\": true, \"type\": \"pie\"}], \"scatter\": [{\"marker\": {\"colorbar\": {\"outlinewidth\": 0, \"ticks\": \"\"}}, \"type\": \"scatter\"}], \"scatter3d\": [{\"line\": {\"colorbar\": {\"outlinewidth\": 0, \"ticks\": \"\"}}, \"marker\": {\"colorbar\": {\"outlinewidth\": 0, \"ticks\": \"\"}}, \"type\": \"scatter3d\"}], \"scattercarpet\": [{\"marker\": {\"colorbar\": {\"outlinewidth\": 0, \"ticks\": \"\"}}, \"type\": \"scattercarpet\"}], \"scattergeo\": [{\"marker\": {\"colorbar\": {\"outlinewidth\": 0, \"ticks\": \"\"}}, \"type\": \"scattergeo\"}], \"scattergl\": [{\"marker\": {\"colorbar\": {\"outlinewidth\": 0, \"ticks\": \"\"}}, \"type\": \"scattergl\"}], \"scattermapbox\": [{\"marker\": {\"colorbar\": {\"outlinewidth\": 0, \"ticks\": \"\"}}, \"type\": \"scattermapbox\"}], \"scatterpolar\": [{\"marker\": {\"colorbar\": {\"outlinewidth\": 0, \"ticks\": \"\"}}, \"type\": \"scatterpolar\"}], \"scatterpolargl\": [{\"marker\": {\"colorbar\": {\"outlinewidth\": 0, \"ticks\": \"\"}}, \"type\": \"scatterpolargl\"}], \"scatterternary\": [{\"marker\": {\"colorbar\": {\"outlinewidth\": 0, \"ticks\": \"\"}}, \"type\": \"scatterternary\"}], \"surface\": [{\"colorbar\": {\"outlinewidth\": 0, \"ticks\": \"\"}, \"colorscale\": [[0.0, \"#0d0887\"], [0.1111111111111111, \"#46039f\"], [0.2222222222222222, \"#7201a8\"], [0.3333333333333333, \"#9c179e\"], [0.4444444444444444, \"#bd3786\"], [0.5555555555555556, \"#d8576b\"], [0.6666666666666666, \"#ed7953\"], [0.7777777777777778, \"#fb9f3a\"], [0.8888888888888888, \"#fdca26\"], [1.0, \"#f0f921\"]], \"type\": \"surface\"}], \"table\": [{\"cells\": {\"fill\": {\"color\": \"#EBF0F8\"}, \"line\": {\"color\": \"white\"}}, \"header\": {\"fill\": {\"color\": \"#C8D4E3\"}, \"line\": {\"color\": \"white\"}}, \"type\": \"table\"}]}, \"layout\": {\"annotationdefaults\": {\"arrowcolor\": \"#2a3f5f\", \"arrowhead\": 0, \"arrowwidth\": 1}, \"autotypenumbers\": \"strict\", \"coloraxis\": {\"colorbar\": {\"outlinewidth\": 0, \"ticks\": \"\"}}, \"colorscale\": {\"diverging\": [[0, \"#8e0152\"], [0.1, \"#c51b7d\"], [0.2, \"#de77ae\"], [0.3, \"#f1b6da\"], [0.4, \"#fde0ef\"], [0.5, \"#f7f7f7\"], [0.6, \"#e6f5d0\"], [0.7, \"#b8e186\"], [0.8, \"#7fbc41\"], [0.9, \"#4d9221\"], [1, \"#276419\"]], \"sequential\": [[0.0, \"#0d0887\"], [0.1111111111111111, \"#46039f\"], [0.2222222222222222, \"#7201a8\"], [0.3333333333333333, \"#9c179e\"], [0.4444444444444444, \"#bd3786\"], [0.5555555555555556, \"#d8576b\"], [0.6666666666666666, \"#ed7953\"], [0.7777777777777778, \"#fb9f3a\"], [0.8888888888888888, \"#fdca26\"], [1.0, \"#f0f921\"]], \"sequentialminus\": [[0.0, \"#0d0887\"], [0.1111111111111111, \"#46039f\"], [0.2222222222222222, \"#7201a8\"], [0.3333333333333333, \"#9c179e\"], [0.4444444444444444, \"#bd3786\"], [0.5555555555555556, \"#d8576b\"], [0.6666666666666666, \"#ed7953\"], [0.7777777777777778, \"#fb9f3a\"], [0.8888888888888888, \"#fdca26\"], [1.0, \"#f0f921\"]]}, \"colorway\": [\"#636efa\", \"#EF553B\", \"#00cc96\", \"#ab63fa\", \"#FFA15A\", \"#19d3f3\", \"#FF6692\", \"#B6E880\", \"#FF97FF\", \"#FECB52\"], \"font\": {\"color\": \"#2a3f5f\"}, \"geo\": {\"bgcolor\": \"white\", \"lakecolor\": \"white\", \"landcolor\": \"#E5ECF6\", \"showlakes\": true, \"showland\": true, \"subunitcolor\": \"white\"}, \"hoverlabel\": {\"align\": \"left\"}, \"hovermode\": \"closest\", \"mapbox\": {\"style\": \"light\"}, \"paper_bgcolor\": \"white\", \"plot_bgcolor\": \"#E5ECF6\", \"polar\": {\"angularaxis\": {\"gridcolor\": \"white\", \"linecolor\": \"white\", \"ticks\": \"\"}, \"bgcolor\": \"#E5ECF6\", \"radialaxis\": {\"gridcolor\": \"white\", \"linecolor\": \"white\", \"ticks\": \"\"}}, \"scene\": {\"xaxis\": {\"backgroundcolor\": \"#E5ECF6\", \"gridcolor\": \"white\", \"gridwidth\": 2, \"linecolor\": \"white\", \"showbackground\": true, \"ticks\": \"\", \"zerolinecolor\": \"white\"}, \"yaxis\": {\"backgroundcolor\": \"#E5ECF6\", \"gridcolor\": \"white\", \"gridwidth\": 2, \"linecolor\": \"white\", \"showbackground\": true, \"ticks\": \"\", \"zerolinecolor\": \"white\"}, \"zaxis\": {\"backgroundcolor\": \"#E5ECF6\", \"gridcolor\": \"white\", \"gridwidth\": 2, \"linecolor\": \"white\", \"showbackground\": true, \"ticks\": \"\", \"zerolinecolor\": \"white\"}}, \"shapedefaults\": {\"line\": {\"color\": \"#2a3f5f\"}}, \"ternary\": {\"aaxis\": {\"gridcolor\": \"white\", \"linecolor\": \"white\", \"ticks\": \"\"}, \"baxis\": {\"gridcolor\": \"white\", \"linecolor\": \"white\", \"ticks\": \"\"}, \"bgcolor\": \"#E5ECF6\", \"caxis\": {\"gridcolor\": \"white\", \"linecolor\": \"white\", \"ticks\": \"\"}}, \"title\": {\"x\": 0.05}, \"xaxis\": {\"automargin\": true, \"gridcolor\": \"white\", \"linecolor\": \"white\", \"ticks\": \"\", \"title\": {\"standoff\": 15}, \"zerolinecolor\": \"white\", \"zerolinewidth\": 2}, \"yaxis\": {\"automargin\": true, \"gridcolor\": \"white\", \"linecolor\": \"white\", \"ticks\": \"\", \"title\": {\"standoff\": 15}, \"zerolinecolor\": \"white\", \"zerolinewidth\": 2}}}, \"title\": {\"text\": \"Metrics for each model\"}, \"xaxis\": {\"tickangle\": -45}},                        {\"responsive\": true}                    ).then(function(){\n",
       "                            \n",
       "var gd = document.getElementById('e5ee02a7-b38e-46d8-86ca-75ba5d7b8af4');\n",
       "var x = new MutationObserver(function (mutations, observer) {{\n",
       "        var display = window.getComputedStyle(gd).display;\n",
       "        if (!display || display === 'none') {{\n",
       "            console.log([gd, 'removed!']);\n",
       "            Plotly.purge(gd);\n",
       "            observer.disconnect();\n",
       "        }}\n",
       "}});\n",
       "\n",
       "// Listen for the removal of the full notebook cells\n",
       "var notebookContainer = gd.closest('#notebook-container');\n",
       "if (notebookContainer) {{\n",
       "    x.observe(notebookContainer, {childList: true});\n",
       "}}\n",
       "\n",
       "// Listen for the clearing of the current output cell\n",
       "var outputEl = gd.closest('.output');\n",
       "if (outputEl) {{\n",
       "    x.observe(outputEl, {childList: true});\n",
       "}}\n",
       "\n",
       "                        })                };                });            </script>        </div>"
      ]
     },
     "metadata": {},
     "output_type": "display_data"
    }
   ],
   "source": [
    "metrics=['Accuracy', 'CV accuracy', 'Precision','Recall','F1','ROC AUC']\n",
    "\n",
    "fig = go.Figure(data=[\n",
    "    go.Bar(name='Decision tree', x=metrics,\n",
    "           y=[tr.score(X_test, y_test),tr_cv,precision_score(y_test, tr_pred),recall_score(y_test, tr_pred),f1_score(y_test, tr_pred),auc_tr]),\n",
    "    \n",
    "    go.Bar(name='GridSearchCV+Decision tree',\n",
    "           x=metrics, y=[gs_tree.score(X_test,y_test),gs_tree.best_score_,precision_score(y_test, gs_tree_pred),recall_score(y_test, gs_tree_pred), f1_score(y_test, gs_tree_pred),gs_tree_auc]),\n",
    "])\n",
    "\n",
    "fig.update_layout(title_text='Metrics for each model',\n",
    "                  barmode='group',xaxis_tickangle=-45,bargroupgap=0.05)\n",
    "fig.show()"
   ]
  },
  {
   "cell_type": "markdown",
   "id": "dying-dream",
   "metadata": {
    "id": "QwcecRukPrgw",
    "papermill": {
     "duration": 0.071222,
     "end_time": "2021-04-08T20:22:07.774110",
     "exception": false,
     "start_time": "2021-04-08T20:22:07.702888",
     "status": "completed"
    },
    "tags": []
   },
   "source": [
    "#### Question 2 (4 pts)\n",
    "\n",
    "Try to build the decision tree which you built for the previous question, but this time by RandomizedSearchCV over hyper-parameters. Compare the results."
   ]
  },
  {
   "cell_type": "code",
   "execution_count": 32,
   "id": "lasting-cuisine",
   "metadata": {
    "execution": {
     "iopub.execute_input": "2021-04-08T20:22:07.919848Z",
     "iopub.status.busy": "2021-04-08T20:22:07.919215Z",
     "iopub.status.idle": "2021-04-08T20:22:07.922372Z",
     "shell.execute_reply": "2021-04-08T20:22:07.921642Z"
    },
    "papermill": {
     "duration": 0.078222,
     "end_time": "2021-04-08T20:22:07.922525",
     "exception": false,
     "start_time": "2021-04-08T20:22:07.844303",
     "status": "completed"
    },
    "tags": []
   },
   "outputs": [],
   "source": [
    "from scipy.stats import randint\n",
    "\n",
    "from sklearn.model_selection import RandomizedSearchCV"
   ]
  },
  {
   "cell_type": "code",
   "execution_count": 33,
   "id": "injured-crowd",
   "metadata": {
    "execution": {
     "iopub.execute_input": "2021-04-08T20:22:08.067068Z",
     "iopub.status.busy": "2021-04-08T20:22:08.066336Z",
     "iopub.status.idle": "2021-04-08T20:22:08.073149Z",
     "shell.execute_reply": "2021-04-08T20:22:08.073666Z"
    },
    "id": "4XHRmsWOPrgx",
    "papermill": {
     "duration": 0.081034,
     "end_time": "2021-04-08T20:22:08.073865",
     "exception": false,
     "start_time": "2021-04-08T20:22:07.992831",
     "status": "completed"
    },
    "tags": []
   },
   "outputs": [],
   "source": [
    "param_dist = {\"max_depth\": [3, None],\n",
    "              \"max_features\": randint(1, 9),\n",
    "              \"min_samples_leaf\": randint(1, 9),\n",
    "              \"criterion\": [\"gini\", \"entropy\"]}\n"
   ]
  },
  {
   "cell_type": "code",
   "execution_count": 34,
   "id": "changed-elephant",
   "metadata": {
    "execution": {
     "iopub.execute_input": "2021-04-08T20:22:08.218531Z",
     "iopub.status.busy": "2021-04-08T20:22:08.217637Z",
     "iopub.status.idle": "2021-04-08T20:22:08.224012Z",
     "shell.execute_reply": "2021-04-08T20:22:08.223452Z"
    },
    "papermill": {
     "duration": 0.079631,
     "end_time": "2021-04-08T20:22:08.224164",
     "exception": false,
     "start_time": "2021-04-08T20:22:08.144533",
     "status": "completed"
    },
    "tags": []
   },
   "outputs": [],
   "source": [
    "random_search_cv = RandomizedSearchCV(tr, param_dist, cv=5)"
   ]
  },
  {
   "cell_type": "code",
   "execution_count": 35,
   "id": "straight-precipitation",
   "metadata": {
    "execution": {
     "iopub.execute_input": "2021-04-08T20:22:08.370534Z",
     "iopub.status.busy": "2021-04-08T20:22:08.369855Z",
     "iopub.status.idle": "2021-04-08T20:22:12.987302Z",
     "shell.execute_reply": "2021-04-08T20:22:12.986615Z"
    },
    "papermill": {
     "duration": 4.692639,
     "end_time": "2021-04-08T20:22:12.987448",
     "exception": false,
     "start_time": "2021-04-08T20:22:08.294809",
     "status": "completed"
    },
    "tags": []
   },
   "outputs": [
    {
     "data": {
      "text/plain": [
       "RandomizedSearchCV(cv=5,\n",
       "                   estimator=DecisionTreeClassifier(max_depth=3,\n",
       "                                                    random_state=25),\n",
       "                   param_distributions={'criterion': ['gini', 'entropy'],\n",
       "                                        'max_depth': [3, None],\n",
       "                                        'max_features': <scipy.stats._distn_infrastructure.rv_frozen object at 0x7f08c0852a90>,\n",
       "                                        'min_samples_leaf': <scipy.stats._distn_infrastructure.rv_frozen object at 0x7f08c08b3e50>})"
      ]
     },
     "execution_count": 35,
     "metadata": {},
     "output_type": "execute_result"
    }
   ],
   "source": [
    "random_search_cv.fit(X_train,y_train)"
   ]
  },
  {
   "cell_type": "code",
   "execution_count": 36,
   "id": "northern-smell",
   "metadata": {
    "execution": {
     "iopub.execute_input": "2021-04-08T20:22:13.138952Z",
     "iopub.status.busy": "2021-04-08T20:22:13.137800Z",
     "iopub.status.idle": "2021-04-08T20:22:13.143310Z",
     "shell.execute_reply": "2021-04-08T20:22:13.142399Z"
    },
    "papermill": {
     "duration": 0.083604,
     "end_time": "2021-04-08T20:22:13.143489",
     "exception": false,
     "start_time": "2021-04-08T20:22:13.059885",
     "status": "completed"
    },
    "tags": []
   },
   "outputs": [],
   "source": [
    "# Make predictions with the best parameters.\n",
    "random_search_cv_pred=random_search_cv.predict(X_test)"
   ]
  },
  {
   "cell_type": "code",
   "execution_count": 37,
   "id": "italic-fluid",
   "metadata": {
    "execution": {
     "iopub.execute_input": "2021-04-08T20:22:13.296044Z",
     "iopub.status.busy": "2021-04-08T20:22:13.295323Z",
     "iopub.status.idle": "2021-04-08T20:22:13.316070Z",
     "shell.execute_reply": "2021-04-08T20:22:13.315472Z"
    },
    "papermill": {
     "duration": 0.099938,
     "end_time": "2021-04-08T20:22:13.316213",
     "exception": false,
     "start_time": "2021-04-08T20:22:13.216275",
     "status": "completed"
    },
    "tags": []
   },
   "outputs": [
    {
     "name": "stdout",
     "output_type": "stream",
     "text": [
      "Best Decision tree Parameters: {'criterion': 'entropy', 'max_depth': 3, 'max_features': 7, 'min_samples_leaf': 3}\n",
      "Cross-validation accuracy: 0.821\n",
      "Accuracy: 0.817\n",
      "Precision: 0.703\n",
      "Recall: 0.313\n",
      "F1 score: 0.434\n"
     ]
    }
   ],
   "source": [
    "# Best parameters.\n",
    "print(\"Best Decision tree Parameters: {}\".format(random_search_cv.best_params_))\n",
    "\n",
    "# Cross validation accuracy for the best parameters.\n",
    "print('Cross-validation accuracy: %0.3f' % random_search_cv.best_score_)\n",
    "\n",
    "# Accuracy: 1 is perfect prediction.\n",
    "print('Accuracy: %0.3f' % (random_search_cv.score(X_test,y_test)))\n",
    "\n",
    "# Precision\n",
    "print('Precision: %.3f' % precision_score(y_test, random_search_cv_pred))\n",
    "\n",
    "# Recall\n",
    "print('Recall: %.3f' % recall_score(y_test, random_search_cv_pred))\n",
    "\n",
    "# f1 score: best value at 1 (perfect precision and recall) and worst at 0.\n",
    "print('F1 score: %.3f' % f1_score(y_test, random_search_cv_pred))"
   ]
  },
  {
   "cell_type": "code",
   "execution_count": 38,
   "id": "functioning-incidence",
   "metadata": {
    "execution": {
     "iopub.execute_input": "2021-04-08T20:22:13.469831Z",
     "iopub.status.busy": "2021-04-08T20:22:13.469082Z",
     "iopub.status.idle": "2021-04-08T20:22:13.660777Z",
     "shell.execute_reply": "2021-04-08T20:22:13.660073Z"
    },
    "papermill": {
     "duration": 0.271574,
     "end_time": "2021-04-08T20:22:13.660956",
     "exception": false,
     "start_time": "2021-04-08T20:22:13.389382",
     "status": "completed"
    },
    "tags": []
   },
   "outputs": [
    {
     "data": {
      "image/png": "[encoded data removed]",
      "text/plain": [
       "<Figure size 576x576 with 1 Axes>"
      ]
     },
     "metadata": {},
     "output_type": "display_data"
    }
   ],
   "source": [
    "# Plot confusion matrix for Decision tree.\n",
    "random_tr_matrix = confusion_matrix(y_test,random_search_cv_pred)\n",
    "sns.set(font_scale=1.3)\n",
    "plt.subplots(figsize=(8, 8))\n",
    "sns.heatmap(random_tr_matrix,annot=True, cbar=False, cmap='twilight',linewidth=0.5,fmt=\"d\")\n",
    "plt.ylabel('True Label')\n",
    "plt.xlabel('Predicted Label')\n",
    "plt.title('Confusion Matrix for RandomSearchCV Decision tree');"
   ]
  },
  {
   "cell_type": "code",
   "execution_count": 39,
   "id": "material-interaction",
   "metadata": {
    "execution": {
     "iopub.execute_input": "2021-04-08T20:22:13.814803Z",
     "iopub.status.busy": "2021-04-08T20:22:13.813899Z",
     "iopub.status.idle": "2021-04-08T20:22:13.823724Z",
     "shell.execute_reply": "2021-04-08T20:22:13.824879Z"
    },
    "papermill": {
     "duration": 0.090172,
     "end_time": "2021-04-08T20:22:13.825248",
     "exception": false,
     "start_time": "2021-04-08T20:22:13.735076",
     "status": "completed"
    },
    "tags": []
   },
   "outputs": [
    {
     "name": "stdout",
     "output_type": "stream",
     "text": [
      "AUC: 0.73\n"
     ]
    }
   ],
   "source": [
    "# Predict probabilities for the test data.\n",
    "random_search_cv_probs = random_search_cv.predict_proba(X_test)\n",
    "\n",
    "# Keep Probabilities of the positive class only.\n",
    "random_search_cv_probs = random_search_cv_probs[:, 1]\n",
    "\n",
    "# Compute the AUC Score.\n",
    "random_search_cv_auc = roc_auc_score(y_test, random_search_cv_probs)\n",
    "print('AUC: %.2f' % random_search_cv_auc)"
   ]
  },
  {
   "cell_type": "code",
   "execution_count": 40,
   "id": "precious-indonesian",
   "metadata": {
    "execution": {
     "iopub.execute_input": "2021-04-08T20:22:13.986843Z",
     "iopub.status.busy": "2021-04-08T20:22:13.986182Z",
     "iopub.status.idle": "2021-04-08T20:22:14.275296Z",
     "shell.execute_reply": "2021-04-08T20:22:14.275860Z"
    },
    "papermill": {
     "duration": 0.372949,
     "end_time": "2021-04-08T20:22:14.276100",
     "exception": false,
     "start_time": "2021-04-08T20:22:13.903151",
     "status": "completed"
    },
    "tags": []
   },
   "outputs": [
    {
     "data": {
      "image/png": "[encoded data removed]",
      "text/plain": [
       "<Figure size 576x576 with 1 Axes>"
      ]
     },
     "metadata": {},
     "output_type": "display_data"
    }
   ],
   "source": [
    "# Get the ROC Curves.\n",
    "random_tr_fpr, random_tr_tpr, random_tr_thresholds = roc_curve(y_test, random_search_cv_probs)\n",
    "gs_tr_fpr, gs_tr_tpr, gs_tr_thresholds = roc_curve(y_test, gs_tree_probs)\n",
    "tr_fpr, tr_tpr, tr_thresholds = roc_curve(y_test, tr_probs)\n",
    "\n",
    "# Plot the ROC curves.\n",
    "plt.figure(figsize=(8,8))\n",
    "plt.plot(tr_fpr, tr_tpr, color='red', label='Decision tree ROC (AUC= %0.2f)'% auc_tr)\n",
    "plt.plot(gs_tr_fpr, gs_tr_tpr, color='green', label='GridSearch+Decision tree ROC (AUC= %0.2f)'% gs_tree_auc)\n",
    "plt.plot(random_tr_fpr, random_tr_tpr, color='yellow', label='RandomSearchCV+Decision tree ROC (AUC= %0.2f)'% random_search_cv_auc)\n",
    "plt.plot([0, 1], [0, 1], color='darkblue', linestyle='--',label='random')\n",
    "plt.xlabel('False Positive Rate')\n",
    "plt.ylabel('True Positive Rate')\n",
    "plt.title('Receiver Operating Characteristic (ROC) Curves')\n",
    "plt.legend()\n",
    "plt.show()"
   ]
  },
  {
   "cell_type": "code",
   "execution_count": 41,
   "id": "concerned-trading",
   "metadata": {
    "execution": {
     "iopub.execute_input": "2021-04-08T20:22:14.436239Z",
     "iopub.status.busy": "2021-04-08T20:22:14.435556Z",
     "iopub.status.idle": "2021-04-08T20:22:14.502095Z",
     "shell.execute_reply": "2021-04-08T20:22:14.501256Z"
    },
    "papermill": {
     "duration": 0.147257,
     "end_time": "2021-04-08T20:22:14.502261",
     "exception": false,
     "start_time": "2021-04-08T20:22:14.355004",
     "status": "completed"
    },
    "tags": []
   },
   "outputs": [
    {
     "data": {
      "text/html": [
       "<div>                            <div id=\"fa0f2b35-c1af-4e24-943f-4a9a06a3f6f2\" class=\"plotly-graph-div\" style=\"height:525px; width:100%;\"></div>            <script type=\"text/javascript\">                require([\"plotly\"], function(Plotly) {                    window.PLOTLYENV=window.PLOTLYENV || {};                                    if (document.getElementById(\"fa0f2b35-c1af-4e24-943f-4a9a06a3f6f2\")) {                    Plotly.newPlot(                        \"fa0f2b35-c1af-4e24-943f-4a9a06a3f6f2\",                        [{\"name\": \"Decision tree\", \"type\": \"bar\", \"x\": [\"Accuracy\", \"CV accuracy\", \"Precision\", \"Recall\", \"F1\", \"ROC AUC\"], \"y\": [0.8158888888888889, 0.8204285714285715, 0.6981132075471698, 0.31231380337636544, 0.4315608919382504, 0.7359889306204975]}, {\"name\": \"GridSearchCV+Decision tree\", \"type\": \"bar\", \"x\": [\"Accuracy\", \"CV accuracy\", \"Precision\", \"Recall\", \"F1\", \"ROC AUC\"], \"y\": [0.8162222222222222, 0.8210476190476191, 0.6882845188284519, 0.32671300893743793, 0.4430976430976431, 0.6420281334409491]}, {\"name\": \"RandomSearchCV+Decision tree\", \"type\": \"bar\", \"x\": [\"Accuracy\", \"CV accuracy\", \"Precision\", \"Recall\", \"F1\", \"ROC AUC\"], \"y\": [0.8167777777777778, 0.8206190476190477, 0.7034559643255296, 0.31330685203574976, 0.43352799725180347, 0.7265695385664221]}],                        {\"bargroupgap\": 0.05, \"barmode\": \"group\", \"template\": {\"data\": {\"bar\": [{\"error_x\": {\"color\": \"#2a3f5f\"}, \"error_y\": {\"color\": \"#2a3f5f\"}, \"marker\": {\"line\": {\"color\": \"#E5ECF6\", \"width\": 0.5}}, \"type\": \"bar\"}], \"barpolar\": [{\"marker\": {\"line\": {\"color\": \"#E5ECF6\", \"width\": 0.5}}, \"type\": \"barpolar\"}], \"carpet\": [{\"aaxis\": {\"endlinecolor\": \"#2a3f5f\", \"gridcolor\": \"white\", \"linecolor\": \"white\", \"minorgridcolor\": \"white\", \"startlinecolor\": \"#2a3f5f\"}, \"baxis\": {\"endlinecolor\": \"#2a3f5f\", \"gridcolor\": \"white\", \"linecolor\": \"white\", \"minorgridcolor\": \"white\", \"startlinecolor\": \"#2a3f5f\"}, \"type\": \"carpet\"}], \"choropleth\": [{\"colorbar\": {\"outlinewidth\": 0, \"ticks\": \"\"}, \"type\": \"choropleth\"}], \"contour\": [{\"colorbar\": {\"outlinewidth\": 0, \"ticks\": \"\"}, \"colorscale\": [[0.0, \"#0d0887\"], [0.1111111111111111, \"#46039f\"], [0.2222222222222222, \"#7201a8\"], [0.3333333333333333, \"#9c179e\"], [0.4444444444444444, \"#bd3786\"], [0.5555555555555556, \"#d8576b\"], [0.6666666666666666, \"#ed7953\"], [0.7777777777777778, \"#fb9f3a\"], [0.8888888888888888, \"#fdca26\"], [1.0, \"#f0f921\"]], \"type\": \"contour\"}], \"contourcarpet\": [{\"colorbar\": {\"outlinewidth\": 0, \"ticks\": \"\"}, \"type\": \"contourcarpet\"}], \"heatmap\": [{\"colorbar\": {\"outlinewidth\": 0, \"ticks\": \"\"}, \"colorscale\": [[0.0, \"#0d0887\"], [0.1111111111111111, \"#46039f\"], [0.2222222222222222, \"#7201a8\"], [0.3333333333333333, \"#9c179e\"], [0.4444444444444444, \"#bd3786\"], [0.5555555555555556, \"#d8576b\"], [0.6666666666666666, \"#ed7953\"], [0.7777777777777778, \"#fb9f3a\"], [0.8888888888888888, \"#fdca26\"], [1.0, \"#f0f921\"]], \"type\": \"heatmap\"}], \"heatmapgl\": [{\"colorbar\": {\"outlinewidth\": 0, \"ticks\": \"\"}, \"colorscale\": [[0.0, \"#0d0887\"], [0.1111111111111111, \"#46039f\"], [0.2222222222222222, \"#7201a8\"], [0.3333333333333333, \"#9c179e\"], [0.4444444444444444, \"#bd3786\"], [0.5555555555555556, \"#d8576b\"], [0.6666666666666666, \"#ed7953\"], [0.7777777777777778, \"#fb9f3a\"], [0.8888888888888888, \"#fdca26\"], [1.0, \"#f0f921\"]], \"type\": \"heatmapgl\"}], \"histogram\": [{\"marker\": {\"colorbar\": {\"outlinewidth\": 0, \"ticks\": \"\"}}, \"type\": \"histogram\"}], \"histogram2d\": [{\"colorbar\": {\"outlinewidth\": 0, \"ticks\": \"\"}, \"colorscale\": [[0.0, \"#0d0887\"], [0.1111111111111111, \"#46039f\"], [0.2222222222222222, \"#7201a8\"], [0.3333333333333333, \"#9c179e\"], [0.4444444444444444, \"#bd3786\"], [0.5555555555555556, \"#d8576b\"], [0.6666666666666666, \"#ed7953\"], [0.7777777777777778, \"#fb9f3a\"], [0.8888888888888888, \"#fdca26\"], [1.0, \"#f0f921\"]], \"type\": \"histogram2d\"}], \"histogram2dcontour\": [{\"colorbar\": {\"outlinewidth\": 0, \"ticks\": \"\"}, \"colorscale\": [[0.0, \"#0d0887\"], [0.1111111111111111, \"#46039f\"], [0.2222222222222222, \"#7201a8\"], [0.3333333333333333, \"#9c179e\"], [0.4444444444444444, \"#bd3786\"], [0.5555555555555556, \"#d8576b\"], [0.6666666666666666, \"#ed7953\"], [0.7777777777777778, \"#fb9f3a\"], [0.8888888888888888, \"#fdca26\"], [1.0, \"#f0f921\"]], \"type\": \"histogram2dcontour\"}], \"mesh3d\": [{\"colorbar\": {\"outlinewidth\": 0, \"ticks\": \"\"}, \"type\": \"mesh3d\"}], \"parcoords\": [{\"line\": {\"colorbar\": {\"outlinewidth\": 0, \"ticks\": \"\"}}, \"type\": \"parcoords\"}], \"pie\": [{\"automargin\": true, \"type\": \"pie\"}], \"scatter\": [{\"marker\": {\"colorbar\": {\"outlinewidth\": 0, \"ticks\": \"\"}}, \"type\": \"scatter\"}], \"scatter3d\": [{\"line\": {\"colorbar\": {\"outlinewidth\": 0, \"ticks\": \"\"}}, \"marker\": {\"colorbar\": {\"outlinewidth\": 0, \"ticks\": \"\"}}, \"type\": \"scatter3d\"}], \"scattercarpet\": [{\"marker\": {\"colorbar\": {\"outlinewidth\": 0, \"ticks\": \"\"}}, \"type\": \"scattercarpet\"}], \"scattergeo\": [{\"marker\": {\"colorbar\": {\"outlinewidth\": 0, \"ticks\": \"\"}}, \"type\": \"scattergeo\"}], \"scattergl\": [{\"marker\": {\"colorbar\": {\"outlinewidth\": 0, \"ticks\": \"\"}}, \"type\": \"scattergl\"}], \"scattermapbox\": [{\"marker\": {\"colorbar\": {\"outlinewidth\": 0, \"ticks\": \"\"}}, \"type\": \"scattermapbox\"}], \"scatterpolar\": [{\"marker\": {\"colorbar\": {\"outlinewidth\": 0, \"ticks\": \"\"}}, \"type\": \"scatterpolar\"}], \"scatterpolargl\": [{\"marker\": {\"colorbar\": {\"outlinewidth\": 0, \"ticks\": \"\"}}, \"type\": \"scatterpolargl\"}], \"scatterternary\": [{\"marker\": {\"colorbar\": {\"outlinewidth\": 0, \"ticks\": \"\"}}, \"type\": \"scatterternary\"}], \"surface\": [{\"colorbar\": {\"outlinewidth\": 0, \"ticks\": \"\"}, \"colorscale\": [[0.0, \"#0d0887\"], [0.1111111111111111, \"#46039f\"], [0.2222222222222222, \"#7201a8\"], [0.3333333333333333, \"#9c179e\"], [0.4444444444444444, \"#bd3786\"], [0.5555555555555556, \"#d8576b\"], [0.6666666666666666, \"#ed7953\"], [0.7777777777777778, \"#fb9f3a\"], [0.8888888888888888, \"#fdca26\"], [1.0, \"#f0f921\"]], \"type\": \"surface\"}], \"table\": [{\"cells\": {\"fill\": {\"color\": \"#EBF0F8\"}, \"line\": {\"color\": \"white\"}}, \"header\": {\"fill\": {\"color\": \"#C8D4E3\"}, \"line\": {\"color\": \"white\"}}, \"type\": \"table\"}]}, \"layout\": {\"annotationdefaults\": {\"arrowcolor\": \"#2a3f5f\", \"arrowhead\": 0, \"arrowwidth\": 1}, \"autotypenumbers\": \"strict\", \"coloraxis\": {\"colorbar\": {\"outlinewidth\": 0, \"ticks\": \"\"}}, \"colorscale\": {\"diverging\": [[0, \"#8e0152\"], [0.1, \"#c51b7d\"], [0.2, \"#de77ae\"], [0.3, \"#f1b6da\"], [0.4, \"#fde0ef\"], [0.5, \"#f7f7f7\"], [0.6, \"#e6f5d0\"], [0.7, \"#b8e186\"], [0.8, \"#7fbc41\"], [0.9, \"#4d9221\"], [1, \"#276419\"]], \"sequential\": [[0.0, \"#0d0887\"], [0.1111111111111111, \"#46039f\"], [0.2222222222222222, \"#7201a8\"], [0.3333333333333333, \"#9c179e\"], [0.4444444444444444, \"#bd3786\"], [0.5555555555555556, \"#d8576b\"], [0.6666666666666666, \"#ed7953\"], [0.7777777777777778, \"#fb9f3a\"], [0.8888888888888888, \"#fdca26\"], [1.0, \"#f0f921\"]], \"sequentialminus\": [[0.0, \"#0d0887\"], [0.1111111111111111, \"#46039f\"], [0.2222222222222222, \"#7201a8\"], [0.3333333333333333, \"#9c179e\"], [0.4444444444444444, \"#bd3786\"], [0.5555555555555556, \"#d8576b\"], [0.6666666666666666, \"#ed7953\"], [0.7777777777777778, \"#fb9f3a\"], [0.8888888888888888, \"#fdca26\"], [1.0, \"#f0f921\"]]}, \"colorway\": [\"#636efa\", \"#EF553B\", \"#00cc96\", \"#ab63fa\", \"#FFA15A\", \"#19d3f3\", \"#FF6692\", \"#B6E880\", \"#FF97FF\", \"#FECB52\"], \"font\": {\"color\": \"#2a3f5f\"}, \"geo\": {\"bgcolor\": \"white\", \"lakecolor\": \"white\", \"landcolor\": \"#E5ECF6\", \"showlakes\": true, \"showland\": true, \"subunitcolor\": \"white\"}, \"hoverlabel\": {\"align\": \"left\"}, \"hovermode\": \"closest\", \"mapbox\": {\"style\": \"light\"}, \"paper_bgcolor\": \"white\", \"plot_bgcolor\": \"#E5ECF6\", \"polar\": {\"angularaxis\": {\"gridcolor\": \"white\", \"linecolor\": \"white\", \"ticks\": \"\"}, \"bgcolor\": \"#E5ECF6\", \"radialaxis\": {\"gridcolor\": \"white\", \"linecolor\": \"white\", \"ticks\": \"\"}}, \"scene\": {\"xaxis\": {\"backgroundcolor\": \"#E5ECF6\", \"gridcolor\": \"white\", \"gridwidth\": 2, \"linecolor\": \"white\", \"showbackground\": true, \"ticks\": \"\", \"zerolinecolor\": \"white\"}, \"yaxis\": {\"backgroundcolor\": \"#E5ECF6\", \"gridcolor\": \"white\", \"gridwidth\": 2, \"linecolor\": \"white\", \"showbackground\": true, \"ticks\": \"\", \"zerolinecolor\": \"white\"}, \"zaxis\": {\"backgroundcolor\": \"#E5ECF6\", \"gridcolor\": \"white\", \"gridwidth\": 2, \"linecolor\": \"white\", \"showbackground\": true, \"ticks\": \"\", \"zerolinecolor\": \"white\"}}, \"shapedefaults\": {\"line\": {\"color\": \"#2a3f5f\"}}, \"ternary\": {\"aaxis\": {\"gridcolor\": \"white\", \"linecolor\": \"white\", \"ticks\": \"\"}, \"baxis\": {\"gridcolor\": \"white\", \"linecolor\": \"white\", \"ticks\": \"\"}, \"bgcolor\": \"#E5ECF6\", \"caxis\": {\"gridcolor\": \"white\", \"linecolor\": \"white\", \"ticks\": \"\"}}, \"title\": {\"x\": 0.05}, \"xaxis\": {\"automargin\": true, \"gridcolor\": \"white\", \"linecolor\": \"white\", \"ticks\": \"\", \"title\": {\"standoff\": 15}, \"zerolinecolor\": \"white\", \"zerolinewidth\": 2}, \"yaxis\": {\"automargin\": true, \"gridcolor\": \"white\", \"linecolor\": \"white\", \"ticks\": \"\", \"title\": {\"standoff\": 15}, \"zerolinecolor\": \"white\", \"zerolinewidth\": 2}}}, \"title\": {\"text\": \"Metrics for each model\"}, \"xaxis\": {\"tickangle\": -45}},                        {\"responsive\": true}                    ).then(function(){\n",
       "                            \n",
       "var gd = document.getElementById('fa0f2b35-c1af-4e24-943f-4a9a06a3f6f2');\n",
       "var x = new MutationObserver(function (mutations, observer) {{\n",
       "        var display = window.getComputedStyle(gd).display;\n",
       "        if (!display || display === 'none') {{\n",
       "            console.log([gd, 'removed!']);\n",
       "            Plotly.purge(gd);\n",
       "            observer.disconnect();\n",
       "        }}\n",
       "}});\n",
       "\n",
       "// Listen for the removal of the full notebook cells\n",
       "var notebookContainer = gd.closest('#notebook-container');\n",
       "if (notebookContainer) {{\n",
       "    x.observe(notebookContainer, {childList: true});\n",
       "}}\n",
       "\n",
       "// Listen for the clearing of the current output cell\n",
       "var outputEl = gd.closest('.output');\n",
       "if (outputEl) {{\n",
       "    x.observe(outputEl, {childList: true});\n",
       "}}\n",
       "\n",
       "                        })                };                });            </script>        </div>"
      ]
     },
     "metadata": {},
     "output_type": "display_data"
    }
   ],
   "source": [
    "metrics=['Accuracy', 'CV accuracy', 'Precision','Recall','F1','ROC AUC']\n",
    "\n",
    "fig = go.Figure(data=[\n",
    "    go.Bar(name='Decision tree', x=metrics,\n",
    "           y=[tr.score(X_test, y_test),tr_cv,precision_score(y_test, tr_pred),recall_score(y_test, tr_pred),f1_score(y_test, tr_pred),auc_tr]),\n",
    "    \n",
    "    go.Bar(name='GridSearchCV+Decision tree',\n",
    "           x=metrics, y=[gs_tree.score(X_test,y_test),gs_tree.best_score_,precision_score(y_test, gs_tree_pred),recall_score(y_test, gs_tree_pred), f1_score(y_test, gs_tree_pred),gs_tree_auc]),\n",
    "\n",
    "    go.Bar(name='RandomSearchCV+Decision tree',\n",
    "           x=metrics, y=[random_search_cv.score(X_test,y_test),random_search_cv.best_score_,precision_score(y_test, random_search_cv_pred),recall_score(y_test, random_search_cv_pred), f1_score(y_test, random_search_cv_pred),random_search_cv_auc]),\n",
    "])\n",
    "\n",
    "fig.update_layout(title_text='Metrics for each model',\n",
    "                  barmode='group',xaxis_tickangle=-45,bargroupgap=0.05)\n",
    "fig.show()"
   ]
  },
  {
   "cell_type": "code",
   "execution_count": 42,
   "id": "elementary-parker",
   "metadata": {
    "execution": {
     "iopub.execute_input": "2021-04-08T20:22:14.668118Z",
     "iopub.status.busy": "2021-04-08T20:22:14.666954Z",
     "iopub.status.idle": "2021-04-08T20:22:14.732277Z",
     "shell.execute_reply": "2021-04-08T20:22:14.731590Z"
    },
    "papermill": {
     "duration": 0.15127,
     "end_time": "2021-04-08T20:22:14.732429",
     "exception": false,
     "start_time": "2021-04-08T20:22:14.581159",
     "status": "completed"
    },
    "tags": []
   },
   "outputs": [
    {
     "data": {
      "text/html": [
       "<div>\n",
       "<style scoped>\n",
       "    .dataframe tbody tr th:only-of-type {\n",
       "        vertical-align: middle;\n",
       "    }\n",
       "\n",
       "    .dataframe tbody tr th {\n",
       "        vertical-align: top;\n",
       "    }\n",
       "\n",
       "    .dataframe thead th {\n",
       "        text-align: right;\n",
       "    }\n",
       "</style>\n",
       "<table border=\"1\" class=\"dataframe\">\n",
       "  <thead>\n",
       "    <tr style=\"text-align: right;\">\n",
       "      <th></th>\n",
       "      <th>Accuracy</th>\n",
       "      <th>CV Accuracy</th>\n",
       "      <th>Precision</th>\n",
       "      <th>Recall</th>\n",
       "      <th>F1</th>\n",
       "      <th>ROC AUC</th>\n",
       "    </tr>\n",
       "    <tr>\n",
       "      <th></th>\n",
       "      <th></th>\n",
       "      <th></th>\n",
       "      <th></th>\n",
       "      <th></th>\n",
       "      <th></th>\n",
       "      <th></th>\n",
       "    </tr>\n",
       "  </thead>\n",
       "  <tbody>\n",
       "    <tr>\n",
       "      <th>Decision Tree</th>\n",
       "      <td>0.816</td>\n",
       "      <td>0.820</td>\n",
       "      <td>0.698</td>\n",
       "      <td>0.312</td>\n",
       "      <td>0.432</td>\n",
       "      <td>0.736</td>\n",
       "    </tr>\n",
       "    <tr>\n",
       "      <th>GridSearchCV + Decision Tree</th>\n",
       "      <td>0.816</td>\n",
       "      <td>0.821</td>\n",
       "      <td>0.688</td>\n",
       "      <td>0.327</td>\n",
       "      <td>0.443</td>\n",
       "      <td>0.642</td>\n",
       "    </tr>\n",
       "    <tr>\n",
       "      <th>RandomSearchCV + Decision Tree</th>\n",
       "      <td>0.817</td>\n",
       "      <td>0.821</td>\n",
       "      <td>0.703</td>\n",
       "      <td>0.313</td>\n",
       "      <td>0.434</td>\n",
       "      <td>0.727</td>\n",
       "    </tr>\n",
       "  </tbody>\n",
       "</table>\n",
       "</div>"
      ],
      "text/plain": [
       "                                Accuracy  CV Accuracy  Precision  Recall  \\\n",
       "                                                                           \n",
       "Decision Tree                      0.816        0.820      0.698   0.312   \n",
       "GridSearchCV + Decision Tree       0.816        0.821      0.688   0.327   \n",
       "RandomSearchCV + Decision Tree     0.817        0.821      0.703   0.313   \n",
       "\n",
       "                                   F1  ROC AUC  \n",
       "                                                \n",
       "Decision Tree                   0.432    0.736  \n",
       "GridSearchCV + Decision Tree    0.443    0.642  \n",
       "RandomSearchCV + Decision Tree  0.434    0.727  "
      ]
     },
     "execution_count": 42,
     "metadata": {},
     "output_type": "execute_result"
    }
   ],
   "source": [
    "d={\n",
    "'': ['Decision Tree','GridSearchCV + Decision Tree','RandomSearchCV + Decision Tree'],\n",
    "'Accuracy': [tr.score(X_test, y_test),gs_tree.score(X_test,y_test),random_search_cv.score(X_test, y_test)],\n",
    "'CV Accuracy': [tr_cv,gs_tree.best_score_,random_search_cv.best_score_],\n",
    "'Precision': [precision_score(y_test, tr_pred),precision_score(y_test, gs_tree_pred),precision_score(y_test, random_search_cv_pred)],\n",
    "'Recall': [recall_score(y_test, tr_pred),recall_score(y_test, gs_tree_pred),recall_score(y_test, random_search_cv_pred)],\n",
    "'F1': [f1_score(y_test, tr_pred),f1_score(y_test, gs_tree_pred),f1_score(y_test, random_search_cv_pred)],\n",
    "'ROC AUC': [auc_tr, gs_tree_auc, random_search_cv_auc]\n",
    "}\n",
    "\n",
    "results=pd.DataFrame(data=d).round(3).set_index('')\n",
    "results"
   ]
  },
  {
   "cell_type": "markdown",
   "id": "demographic-prediction",
   "metadata": {
    "papermill": {
     "duration": 0.077197,
     "end_time": "2021-04-08T20:22:14.887428",
     "exception": false,
     "start_time": "2021-04-08T20:22:14.810231",
     "status": "completed"
    },
    "tags": []
   },
   "source": [
    "### As we see the comparison RANDOMIZED SEARCH gave us better result than GRID SEARCH but they are similar to normal DECISION TREE."
   ]
  },
  {
   "cell_type": "code",
   "execution_count": 43,
   "id": "thermal-building",
   "metadata": {
    "execution": {
     "iopub.execute_input": "2021-04-08T20:22:15.053386Z",
     "iopub.status.busy": "2021-04-08T20:22:15.052362Z",
     "iopub.status.idle": "2021-04-08T20:22:15.057927Z",
     "shell.execute_reply": "2021-04-08T20:22:15.057248Z"
    },
    "papermill": {
     "duration": 0.089831,
     "end_time": "2021-04-08T20:22:15.058079",
     "exception": false,
     "start_time": "2021-04-08T20:22:14.968248",
     "status": "completed"
    },
    "tags": []
   },
   "outputs": [
    {
     "data": {
      "text/plain": [
       "DecisionTreeClassifier(criterion='entropy', max_depth=3, max_features=7,\n",
       "                       min_samples_leaf=3, random_state=25)"
      ]
     },
     "execution_count": 43,
     "metadata": {},
     "output_type": "execute_result"
    }
   ],
   "source": [
    "random_search_cv.best_estimator_"
   ]
  },
  {
   "cell_type": "code",
   "execution_count": 44,
   "id": "ordinary-details",
   "metadata": {
    "execution": {
     "iopub.execute_input": "2021-04-08T20:22:15.226191Z",
     "iopub.status.busy": "2021-04-08T20:22:15.224856Z",
     "iopub.status.idle": "2021-04-08T20:22:15.228707Z",
     "shell.execute_reply": "2021-04-08T20:22:15.229257Z"
    },
    "papermill": {
     "duration": 0.089931,
     "end_time": "2021-04-08T20:22:15.229445",
     "exception": false,
     "start_time": "2021-04-08T20:22:15.139514",
     "status": "completed"
    },
    "tags": []
   },
   "outputs": [
    {
     "name": "stdout",
     "output_type": "stream",
     "text": [
      "Tuned Decision Tree Parameters: {'criterion': 'entropy', 'max_depth': 3, 'max_features': 7, 'min_samples_leaf': 3}\n",
      "Best score is 0.8206190476190477\n"
     ]
    }
   ],
   "source": [
    "print(\"Tuned Decision Tree Parameters: {}\".format(random_search_cv.best_params_))\n",
    "print(\"Best score is {}\".format(random_search_cv.best_score_))"
   ]
  },
  {
   "cell_type": "markdown",
   "id": "hawaiian-joint",
   "metadata": {
    "id": "dEvsYwiXPrg3",
    "papermill": {
     "duration": 0.080174,
     "end_time": "2021-04-08T20:22:15.390334",
     "exception": false,
     "start_time": "2021-04-08T20:22:15.310160",
     "status": "completed"
    },
    "tags": []
   },
   "source": [
    "#### Question 3 (6 pts)\n",
    "\n",
    "Try to build the same classifier by using following ensemble models. For each of these models calculate accuracy and at least for two in the list below, plot the learning curves.\n",
    "\n",
    "* Random Forest \n",
    "* AdaBoost\n",
    "* Extra Trees Classifier \n",
    "* Gradient Boosted Trees \n"
   ]
  },
  {
   "cell_type": "code",
   "execution_count": 45,
   "id": "important-water",
   "metadata": {
    "execution": {
     "iopub.execute_input": "2021-04-08T20:22:15.555970Z",
     "iopub.status.busy": "2021-04-08T20:22:15.555209Z",
     "iopub.status.idle": "2021-04-08T20:22:15.594069Z",
     "shell.execute_reply": "2021-04-08T20:22:15.594728Z"
    },
    "id": "J8S4UaKdPrg3",
    "papermill": {
     "duration": 0.124994,
     "end_time": "2021-04-08T20:22:15.594953",
     "exception": false,
     "start_time": "2021-04-08T20:22:15.469959",
     "status": "completed"
    },
    "tags": []
   },
   "outputs": [],
   "source": [
    "from sklearn.ensemble import RandomForestClassifier, AdaBoostClassifier,GradientBoostingClassifier\n",
    "from sklearn.ensemble import ExtraTreesClassifier\n",
    "from time import time"
   ]
  },
  {
   "cell_type": "markdown",
   "id": "fiscal-secret",
   "metadata": {
    "papermill": {
     "duration": 0.078647,
     "end_time": "2021-04-08T20:22:15.753284",
     "exception": false,
     "start_time": "2021-04-08T20:22:15.674637",
     "status": "completed"
    },
    "tags": []
   },
   "source": [
    "### AdaBoost Classifier"
   ]
  },
  {
   "cell_type": "code",
   "execution_count": 46,
   "id": "seeing-coordination",
   "metadata": {
    "execution": {
     "iopub.execute_input": "2021-04-08T20:22:15.919144Z",
     "iopub.status.busy": "2021-04-08T20:22:15.918477Z",
     "iopub.status.idle": "2021-04-08T20:22:20.927170Z",
     "shell.execute_reply": "2021-04-08T20:22:20.926481Z"
    },
    "papermill": {
     "duration": 5.093425,
     "end_time": "2021-04-08T20:22:20.927330",
     "exception": false,
     "start_time": "2021-04-08T20:22:15.833905",
     "status": "completed"
    },
    "tags": []
   },
   "outputs": [],
   "source": [
    "ada_clf = AdaBoostClassifier(\n",
    "    tr, n_estimators=50,\n",
    "    algorithm=\"SAMME.R\", learning_rate=0.5)\n",
    "start = time()\n",
    "ada_clf.fit(X_train, y_train)\n",
    "end = time()\n",
    "train_time_ada=end-start\n"
   ]
  },
  {
   "cell_type": "code",
   "execution_count": 47,
   "id": "african-mailman",
   "metadata": {
    "execution": {
     "iopub.execute_input": "2021-04-08T20:22:21.094336Z",
     "iopub.status.busy": "2021-04-08T20:22:21.093571Z",
     "iopub.status.idle": "2021-04-08T20:22:21.189998Z",
     "shell.execute_reply": "2021-04-08T20:22:21.190833Z"
    },
    "papermill": {
     "duration": 0.184522,
     "end_time": "2021-04-08T20:22:21.191097",
     "exception": false,
     "start_time": "2021-04-08T20:22:21.006575",
     "status": "completed"
    },
    "tags": []
   },
   "outputs": [
    {
     "name": "stdout",
     "output_type": "stream",
     "text": [
      "AUC: 0.76\n"
     ]
    }
   ],
   "source": [
    "# Predict probabilities for the test data.\n",
    "ada_clf_probs = ada_clf.predict_proba(X_test)\n",
    "\n",
    "# Keep Probabilities of the positive class only.\n",
    "ada_clf_probs = ada_clf_probs[:, 1]\n",
    "\n",
    "# Compute the AUC Score.\n",
    "ada_clf_auc = roc_auc_score(y_test, ada_clf_probs)\n",
    "print('AUC: %.2f' % ada_clf_auc)"
   ]
  },
  {
   "cell_type": "code",
   "execution_count": 48,
   "id": "living-snapshot",
   "metadata": {
    "execution": {
     "iopub.execute_input": "2021-04-08T20:22:21.360667Z",
     "iopub.status.busy": "2021-04-08T20:22:21.359601Z",
     "iopub.status.idle": "2021-04-08T20:22:21.478220Z",
     "shell.execute_reply": "2021-04-08T20:22:21.477646Z"
    },
    "papermill": {
     "duration": 0.206609,
     "end_time": "2021-04-08T20:22:21.478374",
     "exception": false,
     "start_time": "2021-04-08T20:22:21.271765",
     "status": "completed"
    },
    "tags": []
   },
   "outputs": [
    {
     "data": {
      "text/html": [
       "<div>\n",
       "<style scoped>\n",
       "    .dataframe tbody tr th:only-of-type {\n",
       "        vertical-align: middle;\n",
       "    }\n",
       "\n",
       "    .dataframe tbody tr th {\n",
       "        vertical-align: top;\n",
       "    }\n",
       "\n",
       "    .dataframe thead th {\n",
       "        text-align: right;\n",
       "    }\n",
       "</style>\n",
       "<table border=\"1\" class=\"dataframe\">\n",
       "  <thead>\n",
       "    <tr style=\"text-align: right;\">\n",
       "      <th></th>\n",
       "      <th>Model</th>\n",
       "      <th>Accuracy</th>\n",
       "      <th>Precision</th>\n",
       "      <th>Recall</th>\n",
       "      <th>F1 Score</th>\n",
       "      <th>ROC</th>\n",
       "    </tr>\n",
       "  </thead>\n",
       "  <tbody>\n",
       "    <tr>\n",
       "      <th>0</th>\n",
       "      <td>Adaboost</td>\n",
       "      <td>0.816778</td>\n",
       "      <td>0.671362</td>\n",
       "      <td>0.355015</td>\n",
       "      <td>0.464437</td>\n",
       "      <td>0.76405</td>\n",
       "    </tr>\n",
       "  </tbody>\n",
       "</table>\n",
       "</div>"
      ],
      "text/plain": [
       "      Model  Accuracy  Precision    Recall  F1 Score      ROC\n",
       "0  Adaboost  0.816778   0.671362  0.355015  0.464437  0.76405"
      ]
     },
     "execution_count": 48,
     "metadata": {},
     "output_type": "execute_result"
    }
   ],
   "source": [
    "y_pred = ada_clf.predict(X_test)\n",
    "#from sklearn.metrics import  accuracy_score, f1_score, precision_score, recall_score, roc_auc_score\n",
    "roc=roc_auc_score(y_test, ada_clf_probs)\n",
    "acc = accuracy_score(y_test, y_pred)\n",
    "prec = precision_score(y_test, y_pred)\n",
    "rec = recall_score(y_test, y_pred)\n",
    "f1 = f1_score(y_test, y_pred)\n",
    "\n",
    "results = pd.DataFrame([['Adaboost', acc,prec,rec, f1,roc]],\n",
    "               columns = ['Model', 'Accuracy', 'Precision', 'Recall', 'F1 Score','ROC'])\n",
    "results"
   ]
  },
  {
   "cell_type": "markdown",
   "id": "running-johnson",
   "metadata": {
    "papermill": {
     "duration": 0.08068,
     "end_time": "2021-04-08T20:22:21.639766",
     "exception": false,
     "start_time": "2021-04-08T20:22:21.559086",
     "status": "completed"
    },
    "tags": []
   },
   "source": [
    "### Extra Tree Classifier"
   ]
  },
  {
   "cell_type": "code",
   "execution_count": 49,
   "id": "increasing-cloud",
   "metadata": {
    "execution": {
     "iopub.execute_input": "2021-04-08T20:22:21.812212Z",
     "iopub.status.busy": "2021-04-08T20:22:21.811176Z",
     "iopub.status.idle": "2021-04-08T20:22:23.183333Z",
     "shell.execute_reply": "2021-04-08T20:22:23.183828Z"
    },
    "papermill": {
     "duration": 1.461932,
     "end_time": "2021-04-08T20:22:23.184037",
     "exception": false,
     "start_time": "2021-04-08T20:22:21.722105",
     "status": "completed"
    },
    "tags": []
   },
   "outputs": [],
   "source": [
    "forest = ExtraTreesClassifier(n_estimators=50)\n",
    "start = time()\n",
    "forest.fit(X_train, y_train)\n",
    "end = time()\n",
    "train_time_et=end-start\n"
   ]
  },
  {
   "cell_type": "code",
   "execution_count": 50,
   "id": "protecting-wildlife",
   "metadata": {
    "execution": {
     "iopub.execute_input": "2021-04-08T20:22:23.350204Z",
     "iopub.status.busy": "2021-04-08T20:22:23.349121Z",
     "iopub.status.idle": "2021-04-08T20:22:23.523335Z",
     "shell.execute_reply": "2021-04-08T20:22:23.523856Z"
    },
    "papermill": {
     "duration": 0.25878,
     "end_time": "2021-04-08T20:22:23.524054",
     "exception": false,
     "start_time": "2021-04-08T20:22:23.265274",
     "status": "completed"
    },
    "tags": []
   },
   "outputs": [
    {
     "name": "stdout",
     "output_type": "stream",
     "text": [
      "AUC: 0.74\n"
     ]
    }
   ],
   "source": [
    "# Predict probabilities for the test data.\n",
    "forest_probs = forest.predict_proba(X_test)\n",
    "\n",
    "# Keep Probabilities of the positive class only.\n",
    "forest_probs = forest_probs[:, 1]\n",
    "\n",
    "# Compute the AUC Score.\n",
    "forest_auc = roc_auc_score(y_test, forest_probs)\n",
    "print('AUC: %.2f' % forest_auc)"
   ]
  },
  {
   "cell_type": "code",
   "execution_count": 51,
   "id": "behind-october",
   "metadata": {
    "execution": {
     "iopub.execute_input": "2021-04-08T20:22:23.693001Z",
     "iopub.status.busy": "2021-04-08T20:22:23.688570Z",
     "iopub.status.idle": "2021-04-08T20:22:23.893986Z",
     "shell.execute_reply": "2021-04-08T20:22:23.893414Z"
    },
    "papermill": {
     "duration": 0.288788,
     "end_time": "2021-04-08T20:22:23.894137",
     "exception": false,
     "start_time": "2021-04-08T20:22:23.605349",
     "status": "completed"
    },
    "tags": []
   },
   "outputs": [
    {
     "data": {
      "text/html": [
       "<div>\n",
       "<style scoped>\n",
       "    .dataframe tbody tr th:only-of-type {\n",
       "        vertical-align: middle;\n",
       "    }\n",
       "\n",
       "    .dataframe tbody tr th {\n",
       "        vertical-align: top;\n",
       "    }\n",
       "\n",
       "    .dataframe thead th {\n",
       "        text-align: right;\n",
       "    }\n",
       "</style>\n",
       "<table border=\"1\" class=\"dataframe\">\n",
       "  <thead>\n",
       "    <tr style=\"text-align: right;\">\n",
       "      <th></th>\n",
       "      <th>Model</th>\n",
       "      <th>Accuracy</th>\n",
       "      <th>Precision</th>\n",
       "      <th>Recall</th>\n",
       "      <th>F1 Score</th>\n",
       "      <th>ROC</th>\n",
       "    </tr>\n",
       "  </thead>\n",
       "  <tbody>\n",
       "    <tr>\n",
       "      <th>0</th>\n",
       "      <td>Adaboost</td>\n",
       "      <td>0.816778</td>\n",
       "      <td>0.671362</td>\n",
       "      <td>0.355015</td>\n",
       "      <td>0.464437</td>\n",
       "      <td>0.764050</td>\n",
       "    </tr>\n",
       "    <tr>\n",
       "      <th>1</th>\n",
       "      <td>Extra Tree</td>\n",
       "      <td>0.807667</td>\n",
       "      <td>0.625778</td>\n",
       "      <td>0.349553</td>\n",
       "      <td>0.448550</td>\n",
       "      <td>0.742567</td>\n",
       "    </tr>\n",
       "  </tbody>\n",
       "</table>\n",
       "</div>"
      ],
      "text/plain": [
       "         Model  Accuracy  Precision    Recall  F1 Score       ROC\n",
       "0     Adaboost  0.816778   0.671362  0.355015  0.464437  0.764050\n",
       "1  Extra Tree   0.807667   0.625778  0.349553  0.448550  0.742567"
      ]
     },
     "execution_count": 51,
     "metadata": {},
     "output_type": "execute_result"
    }
   ],
   "source": [
    "y_pred = forest.predict(X_test)\n",
    "#from sklearn.metrics import  accuracy_score, f1_score, precision_score, recall_score, roc_auc_score\n",
    "roc=roc_auc_score(y_test, forest_probs)\n",
    "acc = accuracy_score(y_test, y_pred)\n",
    "prec= precision_score(y_test, y_pred)\n",
    "rec = recall_score(y_test, y_pred)\n",
    "f1 = f1_score(y_test, y_pred)\n",
    "\n",
    "model_results = pd.DataFrame([['Extra Tree ', acc,prec,rec, f1,roc]],\n",
    "               columns = ['Model', 'Accuracy', 'Precision', 'Recall', 'F1 Score','ROC'])\n",
    "results = results.append(model_results, ignore_index = True)\n",
    "results"
   ]
  },
  {
   "cell_type": "markdown",
   "id": "fundamental-union",
   "metadata": {
    "papermill": {
     "duration": 0.082034,
     "end_time": "2021-04-08T20:22:24.058307",
     "exception": false,
     "start_time": "2021-04-08T20:22:23.976273",
     "status": "completed"
    },
    "tags": []
   },
   "source": [
    "### Random Forest Classifier"
   ]
  },
  {
   "cell_type": "code",
   "execution_count": 52,
   "id": "worst-coupon",
   "metadata": {
    "execution": {
     "iopub.execute_input": "2021-04-08T20:22:24.227621Z",
     "iopub.status.busy": "2021-04-08T20:22:24.226612Z",
     "iopub.status.idle": "2021-04-08T20:22:24.772194Z",
     "shell.execute_reply": "2021-04-08T20:22:24.770902Z"
    },
    "papermill": {
     "duration": 0.632861,
     "end_time": "2021-04-08T20:22:24.772354",
     "exception": false,
     "start_time": "2021-04-08T20:22:24.139493",
     "status": "completed"
    },
    "tags": []
   },
   "outputs": [],
   "source": [
    "rnd_clf = RandomForestClassifier(n_estimators=50, max_leaf_nodes=16, n_jobs=-1)\n",
    "start = time()\n",
    "rnd_clf.fit(X_train, y_train)\n",
    "end=time()\n",
    "train_time_r50=end-start"
   ]
  },
  {
   "cell_type": "code",
   "execution_count": 53,
   "id": "explicit-myrtle",
   "metadata": {
    "execution": {
     "iopub.execute_input": "2021-04-08T20:22:24.942072Z",
     "iopub.status.busy": "2021-04-08T20:22:24.941003Z",
     "iopub.status.idle": "2021-04-08T20:22:25.055219Z",
     "shell.execute_reply": "2021-04-08T20:22:25.054503Z"
    },
    "papermill": {
     "duration": 0.201156,
     "end_time": "2021-04-08T20:22:25.055389",
     "exception": false,
     "start_time": "2021-04-08T20:22:24.854233",
     "status": "completed"
    },
    "tags": []
   },
   "outputs": [
    {
     "name": "stdout",
     "output_type": "stream",
     "text": [
      "AUC: 0.78\n"
     ]
    }
   ],
   "source": [
    "# Predict probabilities for the test data.\n",
    "rnd_clf_probs = rnd_clf.predict_proba(X_test)\n",
    "\n",
    "# Keep Probabilities of the positive class only.\n",
    "rnd_clf_probs = rnd_clf_probs[:, 1]\n",
    "\n",
    "# Compute the AUC Score.\n",
    "rnd_clf_auc = roc_auc_score(y_test, rnd_clf_probs)\n",
    "print('AUC: %.2f' % rnd_clf_auc)"
   ]
  },
  {
   "cell_type": "code",
   "execution_count": 54,
   "id": "nonprofit-cemetery",
   "metadata": {
    "execution": {
     "iopub.execute_input": "2021-04-08T20:22:25.227630Z",
     "iopub.status.busy": "2021-04-08T20:22:25.226505Z",
     "iopub.status.idle": "2021-04-08T20:22:25.362780Z",
     "shell.execute_reply": "2021-04-08T20:22:25.363290Z"
    },
    "papermill": {
     "duration": 0.225996,
     "end_time": "2021-04-08T20:22:25.363473",
     "exception": false,
     "start_time": "2021-04-08T20:22:25.137477",
     "status": "completed"
    },
    "tags": []
   },
   "outputs": [
    {
     "data": {
      "text/html": [
       "<div>\n",
       "<style scoped>\n",
       "    .dataframe tbody tr th:only-of-type {\n",
       "        vertical-align: middle;\n",
       "    }\n",
       "\n",
       "    .dataframe tbody tr th {\n",
       "        vertical-align: top;\n",
       "    }\n",
       "\n",
       "    .dataframe thead th {\n",
       "        text-align: right;\n",
       "    }\n",
       "</style>\n",
       "<table border=\"1\" class=\"dataframe\">\n",
       "  <thead>\n",
       "    <tr style=\"text-align: right;\">\n",
       "      <th></th>\n",
       "      <th>Model</th>\n",
       "      <th>Accuracy</th>\n",
       "      <th>Precision</th>\n",
       "      <th>Recall</th>\n",
       "      <th>F1 Score</th>\n",
       "      <th>ROC</th>\n",
       "    </tr>\n",
       "  </thead>\n",
       "  <tbody>\n",
       "    <tr>\n",
       "      <th>0</th>\n",
       "      <td>Adaboost</td>\n",
       "      <td>0.816778</td>\n",
       "      <td>0.671362</td>\n",
       "      <td>0.355015</td>\n",
       "      <td>0.464437</td>\n",
       "      <td>0.764050</td>\n",
       "    </tr>\n",
       "    <tr>\n",
       "      <th>1</th>\n",
       "      <td>Extra Tree</td>\n",
       "      <td>0.807667</td>\n",
       "      <td>0.625778</td>\n",
       "      <td>0.349553</td>\n",
       "      <td>0.448550</td>\n",
       "      <td>0.742567</td>\n",
       "    </tr>\n",
       "    <tr>\n",
       "      <th>2</th>\n",
       "      <td>Random_forest</td>\n",
       "      <td>0.820333</td>\n",
       "      <td>0.689952</td>\n",
       "      <td>0.357994</td>\n",
       "      <td>0.471396</td>\n",
       "      <td>0.777510</td>\n",
       "    </tr>\n",
       "  </tbody>\n",
       "</table>\n",
       "</div>"
      ],
      "text/plain": [
       "            Model  Accuracy  Precision    Recall  F1 Score       ROC\n",
       "0        Adaboost  0.816778   0.671362  0.355015  0.464437  0.764050\n",
       "1     Extra Tree   0.807667   0.625778  0.349553  0.448550  0.742567\n",
       "2  Random_forest   0.820333   0.689952  0.357994  0.471396  0.777510"
      ]
     },
     "execution_count": 54,
     "metadata": {},
     "output_type": "execute_result"
    }
   ],
   "source": [
    "y_pred_r = rnd_clf.predict(X_test)\n",
    "#from sklearn.metrics import  accuracy_score, f1_score, precision_score, recall_score, roc_auc_score\n",
    "roc=roc_auc_score(y_test, rnd_clf_probs)\n",
    "acc = accuracy_score(y_test, y_pred_r)\n",
    "prec = precision_score(y_test, y_pred_r)\n",
    "rec = recall_score(y_test, y_pred_r)\n",
    "f1 = f1_score(y_test, y_pred_r)\n",
    "\n",
    "model_results = pd.DataFrame([['Random_forest ', acc,prec,rec, f1,roc]],\n",
    "               columns = ['Model', 'Accuracy', 'Precision', 'Recall', 'F1 Score','ROC'])\n",
    "results = results.append(model_results, ignore_index = True)\n",
    "results"
   ]
  },
  {
   "cell_type": "markdown",
   "id": "random-question",
   "metadata": {
    "papermill": {
     "duration": 0.081276,
     "end_time": "2021-04-08T20:22:25.527694",
     "exception": false,
     "start_time": "2021-04-08T20:22:25.446418",
     "status": "completed"
    },
    "tags": []
   },
   "source": [
    "### Gradient Boosting Classifier"
   ]
  },
  {
   "cell_type": "code",
   "execution_count": 55,
   "id": "suffering-disco",
   "metadata": {
    "execution": {
     "iopub.execute_input": "2021-04-08T20:22:25.697152Z",
     "iopub.status.busy": "2021-04-08T20:22:25.696429Z",
     "iopub.status.idle": "2021-04-08T20:22:30.008760Z",
     "shell.execute_reply": "2021-04-08T20:22:30.008119Z"
    },
    "papermill": {
     "duration": 4.399562,
     "end_time": "2021-04-08T20:22:30.008951",
     "exception": false,
     "start_time": "2021-04-08T20:22:25.609389",
     "status": "completed"
    },
    "tags": []
   },
   "outputs": [],
   "source": [
    "gbes = GradientBoostingClassifier(n_estimators=50)\n",
    "start = time()\n",
    "\n",
    "end=time()\n",
    "train_time_g=end-start\n",
    "gbes.fit(X_train, y_train)\n",
    "end=time()\n",
    "train_time_g=end-start\n"
   ]
  },
  {
   "cell_type": "code",
   "execution_count": 56,
   "id": "talented-elite",
   "metadata": {
    "execution": {
     "iopub.execute_input": "2021-04-08T20:22:30.183018Z",
     "iopub.status.busy": "2021-04-08T20:22:30.182276Z",
     "iopub.status.idle": "2021-04-08T20:22:30.224627Z",
     "shell.execute_reply": "2021-04-08T20:22:30.223760Z"
    },
    "papermill": {
     "duration": 0.132338,
     "end_time": "2021-04-08T20:22:30.224785",
     "exception": false,
     "start_time": "2021-04-08T20:22:30.092447",
     "status": "completed"
    },
    "scrolled": false,
    "tags": []
   },
   "outputs": [
    {
     "data": {
      "text/html": [
       "<div>\n",
       "<style scoped>\n",
       "    .dataframe tbody tr th:only-of-type {\n",
       "        vertical-align: middle;\n",
       "    }\n",
       "\n",
       "    .dataframe tbody tr th {\n",
       "        vertical-align: top;\n",
       "    }\n",
       "\n",
       "    .dataframe thead th {\n",
       "        text-align: right;\n",
       "    }\n",
       "</style>\n",
       "<table border=\"1\" class=\"dataframe\">\n",
       "  <thead>\n",
       "    <tr style=\"text-align: right;\">\n",
       "      <th></th>\n",
       "      <th>Model</th>\n",
       "      <th>Accuracy</th>\n",
       "      <th>Precision</th>\n",
       "      <th>Recall</th>\n",
       "      <th>F1 Score</th>\n",
       "      <th>ROC</th>\n",
       "    </tr>\n",
       "  </thead>\n",
       "  <tbody>\n",
       "    <tr>\n",
       "      <th>0</th>\n",
       "      <td>Adaboost</td>\n",
       "      <td>0.816778</td>\n",
       "      <td>0.671362</td>\n",
       "      <td>0.355015</td>\n",
       "      <td>0.464437</td>\n",
       "      <td>0.764050</td>\n",
       "    </tr>\n",
       "    <tr>\n",
       "      <th>1</th>\n",
       "      <td>Extra Tree</td>\n",
       "      <td>0.807667</td>\n",
       "      <td>0.625778</td>\n",
       "      <td>0.349553</td>\n",
       "      <td>0.448550</td>\n",
       "      <td>0.742567</td>\n",
       "    </tr>\n",
       "    <tr>\n",
       "      <th>2</th>\n",
       "      <td>Random_forest</td>\n",
       "      <td>0.820333</td>\n",
       "      <td>0.689952</td>\n",
       "      <td>0.357994</td>\n",
       "      <td>0.471396</td>\n",
       "      <td>0.777510</td>\n",
       "    </tr>\n",
       "    <tr>\n",
       "      <th>3</th>\n",
       "      <td>Gboost</td>\n",
       "      <td>0.820222</td>\n",
       "      <td>0.691489</td>\n",
       "      <td>0.355015</td>\n",
       "      <td>0.469160</td>\n",
       "      <td>0.654676</td>\n",
       "    </tr>\n",
       "  </tbody>\n",
       "</table>\n",
       "</div>"
      ],
      "text/plain": [
       "            Model  Accuracy  Precision    Recall  F1 Score       ROC\n",
       "0        Adaboost  0.816778   0.671362  0.355015  0.464437  0.764050\n",
       "1     Extra Tree   0.807667   0.625778  0.349553  0.448550  0.742567\n",
       "2  Random_forest   0.820333   0.689952  0.357994  0.471396  0.777510\n",
       "3          Gboost  0.820222   0.691489  0.355015  0.469160  0.654676"
      ]
     },
     "execution_count": 56,
     "metadata": {},
     "output_type": "execute_result"
    }
   ],
   "source": [
    "y_pred = gbes.predict(X_test)\n",
    "\n",
    "roc=roc_auc_score(y_test, y_pred)\n",
    "acc = accuracy_score(y_test, y_pred)\n",
    "prec = precision_score(y_test, y_pred)\n",
    "rec = recall_score(y_test, y_pred)\n",
    "f1 = f1_score(y_test, y_pred)\n",
    "\n",
    "model_results = pd.DataFrame([['Gboost', acc,prec,rec, f1,roc]],\n",
    "               columns = ['Model', 'Accuracy', 'Precision', 'Recall', 'F1 Score','ROC'])\n",
    "results = results.append(model_results,ignore_index=True)\n",
    "results"
   ]
  },
  {
   "cell_type": "code",
   "execution_count": 57,
   "id": "peaceful-leave",
   "metadata": {
    "execution": {
     "iopub.execute_input": "2021-04-08T20:22:30.397484Z",
     "iopub.status.busy": "2021-04-08T20:22:30.396421Z",
     "iopub.status.idle": "2021-04-08T20:22:30.415423Z",
     "shell.execute_reply": "2021-04-08T20:22:30.414801Z"
    },
    "papermill": {
     "duration": 0.10732,
     "end_time": "2021-04-08T20:22:30.415572",
     "exception": false,
     "start_time": "2021-04-08T20:22:30.308252",
     "status": "completed"
    },
    "tags": []
   },
   "outputs": [
    {
     "name": "stdout",
     "output_type": "stream",
     "text": [
      "AUC: 0.65\n"
     ]
    }
   ],
   "source": [
    "# Predict probabilities for the test data.\n",
    "gbes_probs = gbes.predict(X_test)\n",
    "\n",
    "# Keep Probabilities of the positive class only.\n",
    "#gbes_probs = gbes_probs[:, 1]\n",
    "\n",
    "# Compute the AUC Score.\n",
    "gbes_auc = roc_auc_score(y_test, gbes_probs)\n",
    "print('AUC: %.2f' % gbes_auc)"
   ]
  },
  {
   "cell_type": "markdown",
   "id": "checked-defendant",
   "metadata": {
    "papermill": {
     "duration": 0.082818,
     "end_time": "2021-04-08T20:22:30.582105",
     "exception": false,
     "start_time": "2021-04-08T20:22:30.499287",
     "status": "completed"
    },
    "tags": []
   },
   "source": [
    "### As we can see after using all the four ensemblers , we were able to get better results than our DECISION TREE MODEL. Out of the four Ensemblers RANDOM FOREST did best with AUC as 0.78.\n",
    "### But if we look at the other factors like ACCURACY, PRECISION, RECALL, F1 SCORE then GRADIENT BOOSTING is better than all of them."
   ]
  },
  {
   "cell_type": "code",
   "execution_count": 58,
   "id": "blessed-still",
   "metadata": {
    "execution": {
     "iopub.execute_input": "2021-04-08T20:22:30.755585Z",
     "iopub.status.busy": "2021-04-08T20:22:30.754857Z",
     "iopub.status.idle": "2021-04-08T20:22:31.050199Z",
     "shell.execute_reply": "2021-04-08T20:22:31.049605Z"
    },
    "papermill": {
     "duration": 0.385398,
     "end_time": "2021-04-08T20:22:31.050340",
     "exception": false,
     "start_time": "2021-04-08T20:22:30.664942",
     "status": "completed"
    },
    "tags": []
   },
   "outputs": [
    {
     "data": {
      "image/png": "[encoded data removed]",
      "text/plain": [
       "<Figure size 432x288 with 1 Axes>"
      ]
     },
     "metadata": {},
     "output_type": "display_data"
    }
   ],
   "source": [
    "model = ['Adaboost','ExtraTree','Random forest', 'GBOOST']\n",
    "Train_Time = [\n",
    "    train_time_ada,\n",
    "    train_time_et,\n",
    "    train_time_r50,\n",
    "    train_time_g\n",
    "\n",
    "]\n",
    "index = np.arange(len(model))\n",
    "plt.bar(index, Train_Time)\n",
    "plt.xlabel('Machine Learning Models', fontsize=15)\n",
    "plt.ylabel('Training Time', fontsize=15)\n",
    "plt.xticks(index, model, fontsize=8, )\n",
    "plt.title('Comparison of Training Time of all ML models')\n",
    "plt.show()"
   ]
  },
  {
   "cell_type": "markdown",
   "id": "protected-niagara",
   "metadata": {
    "papermill": {
     "duration": 0.084141,
     "end_time": "2021-04-08T20:22:31.218323",
     "exception": false,
     "start_time": "2021-04-08T20:22:31.134182",
     "status": "completed"
    },
    "tags": []
   },
   "source": [
    "### If we compare looking at the time they toom then RANDOM FOREST is the fastest."
   ]
  },
  {
   "cell_type": "code",
   "execution_count": 59,
   "id": "straight-register",
   "metadata": {
    "execution": {
     "iopub.execute_input": "2021-04-08T20:22:31.397468Z",
     "iopub.status.busy": "2021-04-08T20:22:31.396417Z",
     "iopub.status.idle": "2021-04-08T20:22:31.696650Z",
     "shell.execute_reply": "2021-04-08T20:22:31.697169Z"
    },
    "papermill": {
     "duration": 0.394418,
     "end_time": "2021-04-08T20:22:31.697346",
     "exception": false,
     "start_time": "2021-04-08T20:22:31.302928",
     "status": "completed"
    },
    "tags": []
   },
   "outputs": [
    {
     "data": {
      "image/png": "[encoded data removed]",
      "text/plain": [
       "<Figure size 576x576 with 1 Axes>"
      ]
     },
     "metadata": {},
     "output_type": "display_data"
    }
   ],
   "source": [
    "# Get the ROC Curves.\n",
    "rnd_clf_fpr, rnd_clf_tpr, rnd_clf_thresholds = roc_curve(y_test, rnd_clf_probs)\n",
    "ada_clf_fpr, ada_clf_tpr, ada_clf_thresholds = roc_curve(y_test, ada_clf_probs)\n",
    "forest_fpr, forest_tpr, forest_thresholds = roc_curve(y_test, forest_probs)\n",
    "gbes_fpr, gbes_tpr, gbes_thresholds = roc_curve(y_test, gbes_probs)\n",
    "\n",
    "# Plot the ROC curves.\n",
    "plt.figure(figsize=(8,8))\n",
    "plt.plot(ada_clf_fpr, ada_clf_tpr, color='red', label='AdaBoost ROC (AUC= %0.2f)'% ada_clf_auc)\n",
    "plt.plot(rnd_clf_fpr, rnd_clf_tpr, color='green', label='RandomForest ROC (AUC= %0.2f)'% rnd_clf_auc)\n",
    "plt.plot(forest_fpr, forest_tpr, color='black', label='ExtraTreeClassifier ROC (AUC= %0.2f)'% forest_auc)\n",
    "plt.plot(gbes_fpr, gbes_tpr, color='yellow', label='GradientBoosting ROC (AUC= %0.2f)'% gbes_auc)\n",
    "plt.plot([0, 1], [0, 1], color='darkblue', linestyle='--',label='random')\n",
    "plt.xlabel('False Positive Rate')\n",
    "plt.ylabel('True Positive Rate')\n",
    "plt.title('Receiver Operating Characteristic (ROC) Curves')\n",
    "plt.legend()\n",
    "plt.show()"
   ]
  },
  {
   "cell_type": "markdown",
   "id": "careful-fruit",
   "metadata": {
    "papermill": {
     "duration": 0.089673,
     "end_time": "2021-04-08T20:22:31.876816",
     "exception": false,
     "start_time": "2021-04-08T20:22:31.787143",
     "status": "completed"
    },
    "tags": []
   },
   "source": [
    "### If we look at the ROC curve we can see that Random Forest is performing best out of the four ensemblers."
   ]
  },
  {
   "cell_type": "code",
   "execution_count": 60,
   "id": "generous-manitoba",
   "metadata": {
    "execution": {
     "iopub.execute_input": "2021-04-08T20:22:32.060322Z",
     "iopub.status.busy": "2021-04-08T20:22:32.059539Z",
     "iopub.status.idle": "2021-04-08T20:23:30.007245Z",
     "shell.execute_reply": "2021-04-08T20:23:30.007809Z"
    },
    "papermill": {
     "duration": 58.041914,
     "end_time": "2021-04-08T20:23:30.008066",
     "exception": false,
     "start_time": "2021-04-08T20:22:31.966152",
     "status": "completed"
    },
    "tags": []
   },
   "outputs": [
    {
     "data": {
      "image/png": "[encoded data removed]",
      "text/plain": [
       "<Figure size 432x288 with 1 Axes>"
      ]
     },
     "metadata": {},
     "output_type": "display_data"
    }
   ],
   "source": [
    "from sklearn.model_selection import learning_curve\n",
    "train_sizes, train_scores, test_scores = learning_curve(estimator=rnd_clf, X=X_train, y=y_train,\n",
    "                                                       cv=10, train_sizes=np.linspace(0.1, 1.0, 10),\n",
    "                                                     n_jobs=1)\n",
    "#\n",
    "# Calculate training and test mean and std\n",
    "#\n",
    "train_mean = np.mean(train_scores, axis=1)\n",
    "train_std = np.std(train_scores, axis=1)\n",
    "test_mean = np.mean(test_scores, axis=1)\n",
    "test_std = np.std(test_scores, axis=1)\n",
    "#\n",
    "# Plot the learning curve\n",
    "#\n",
    "plt.plot(train_sizes, train_mean, color='blue', marker='o', markersize=5, label='Training Accuracy')\n",
    "plt.fill_between(train_sizes, train_mean + train_std, train_mean - train_std, alpha=0.15, color='blue')\n",
    "plt.plot(train_sizes, test_mean, color='green', marker='+', markersize=5, linestyle='--', label='Validation Accuracy')\n",
    "plt.fill_between(train_sizes, test_mean + test_std, test_mean - test_std, alpha=0.15, color='green')\n",
    "plt.title('Random Forest Learning Curve ')\n",
    "plt.xlabel('Training Data Size')\n",
    "plt.ylabel('Model accuracy')\n",
    "plt.grid()\n",
    "plt.legend(loc='lower right')\n",
    "plt.show()\n"
   ]
  },
  {
   "cell_type": "code",
   "execution_count": 61,
   "id": "wireless-suite",
   "metadata": {
    "execution": {
     "iopub.execute_input": "2021-04-08T20:23:30.201973Z",
     "iopub.status.busy": "2021-04-08T20:23:30.200835Z",
     "iopub.status.idle": "2021-04-08T20:28:02.084232Z",
     "shell.execute_reply": "2021-04-08T20:28:02.084747Z"
    },
    "papermill": {
     "duration": 271.984895,
     "end_time": "2021-04-08T20:28:02.084963",
     "exception": false,
     "start_time": "2021-04-08T20:23:30.100068",
     "status": "completed"
    },
    "tags": []
   },
   "outputs": [
    {
     "data": {
      "image/png": "[encoded data removed]",
      "text/plain": [
       "<Figure size 432x288 with 1 Axes>"
      ]
     },
     "metadata": {},
     "output_type": "display_data"
    }
   ],
   "source": [
    "train_sizes, train_scores, test_scores = learning_curve(estimator=ada_clf, X=X_train, y=y_train,\n",
    "                                                       cv=10, train_sizes=np.linspace(0.1, 1.0, 10),\n",
    "                                                     n_jobs=1)\n",
    "#\n",
    "# Calculate training and test mean and std\n",
    "#\n",
    "train_mean = np.mean(train_scores, axis=1)\n",
    "train_std = np.std(train_scores, axis=1)\n",
    "test_mean = np.mean(test_scores, axis=1)\n",
    "test_std = np.std(test_scores, axis=1)\n",
    "#\n",
    "# Plot the learning curve\n",
    "#\n",
    "plt.plot(train_sizes, train_mean, color='red', marker='o', markersize=5, label='Training Accuracy')\n",
    "plt.fill_between(train_sizes, train_mean + train_std, train_mean - train_std, alpha=0.15, color='red')\n",
    "plt.plot(train_sizes, test_mean, color='black', marker='+', markersize=5, linestyle='--', label='Validation Accuracy')\n",
    "plt.fill_between(train_sizes, test_mean + test_std, test_mean - test_std, alpha=0.15, color='black')\n",
    "plt.title('AdaBoost Learning Curve ')\n",
    "plt.xlabel('Training Data Size')\n",
    "plt.ylabel('Model accuracy')\n",
    "plt.grid()\n",
    "plt.legend(loc='lower right')\n",
    "plt.show()"
   ]
  },
  {
   "cell_type": "code",
   "execution_count": 62,
   "id": "lesser-movement",
   "metadata": {
    "execution": {
     "iopub.execute_input": "2021-04-08T20:28:02.280083Z",
     "iopub.status.busy": "2021-04-08T20:28:02.278944Z",
     "iopub.status.idle": "2021-04-08T20:29:25.800454Z",
     "shell.execute_reply": "2021-04-08T20:29:25.801005Z"
    },
    "papermill": {
     "duration": 83.624655,
     "end_time": "2021-04-08T20:29:25.801214",
     "exception": false,
     "start_time": "2021-04-08T20:28:02.176559",
     "status": "completed"
    },
    "tags": []
   },
   "outputs": [
    {
     "data": {
      "image/png": "[encoded data removed]",
      "text/plain": [
       "<Figure size 432x288 with 1 Axes>"
      ]
     },
     "metadata": {},
     "output_type": "display_data"
    }
   ],
   "source": [
    "train_sizes, train_scores, test_scores = learning_curve(estimator=forest, X=X_train, y=y_train,\n",
    "                                                       cv=10, train_sizes=np.linspace(0.1, 1.0, 10),\n",
    "                                                     n_jobs=1)\n",
    "#\n",
    "# Calculate training and test mean and std\n",
    "#\n",
    "train_mean = np.mean(train_scores, axis=1)\n",
    "train_std = np.std(train_scores, axis=1)\n",
    "test_mean = np.mean(test_scores, axis=1)\n",
    "test_std = np.std(test_scores, axis=1)\n",
    "#\n",
    "# Plot the learning curve\n",
    "#\n",
    "plt.plot(train_sizes, train_mean, color='red', marker='o', markersize=5, label='Training Accuracy')\n",
    "plt.fill_between(train_sizes, train_mean + train_std, train_mean - train_std, alpha=0.15, color='red')\n",
    "plt.plot(train_sizes, test_mean, color='black', marker='+', markersize=5, linestyle='--', label='Validation Accuracy')\n",
    "plt.fill_between(train_sizes, test_mean + test_std, test_mean - test_std, alpha=0.15, color='black')\n",
    "plt.title('ExtraTreeClassifier Learning Curve ')\n",
    "plt.xlabel('Training Data Size')\n",
    "plt.ylabel('Model accuracy')\n",
    "plt.grid()\n",
    "plt.legend(loc='lower right')\n",
    "plt.show()"
   ]
  },
  {
   "cell_type": "code",
   "execution_count": 63,
   "id": "small-external",
   "metadata": {
    "execution": {
     "iopub.execute_input": "2021-04-08T20:29:26.002067Z",
     "iopub.status.busy": "2021-04-08T20:29:26.000690Z",
     "iopub.status.idle": "2021-04-08T20:38:04.765474Z",
     "shell.execute_reply": "2021-04-08T20:38:04.766001Z"
    },
    "papermill": {
     "duration": 518.870423,
     "end_time": "2021-04-08T20:38:04.766195",
     "exception": false,
     "start_time": "2021-04-08T20:29:25.895772",
     "status": "completed"
    },
    "tags": []
   },
   "outputs": [
    {
     "data": {
      "image/png": "[encoded data removed]",
      "text/plain": [
       "<Figure size 432x288 with 1 Axes>"
      ]
     },
     "metadata": {},
     "output_type": "display_data"
    }
   ],
   "source": [
    "# Create CV training and test scores for various training set sizes\n",
    "train_sizes, train_scores, test_scores = learning_curve(gbes, \n",
    "                                                        X, \n",
    "                                                        y,\n",
    "                                                        # Number of folds in cross-validation\n",
    "                                                        cv=10,\n",
    "                                                        # Evaluation metric\n",
    "                                                        scoring='accuracy',\n",
    "                                                        # Use all computer cores\n",
    "                                                        n_jobs=-1, \n",
    "                                                        # 50 different sizes of the training set\n",
    "                                                        train_sizes=np.linspace(0.01, 1.0, 50))\n",
    "\n",
    "# Create means and standard deviations of training set scores\n",
    "train_mean = np.mean(train_scores, axis=1)\n",
    "train_std = np.std(train_scores, axis=1)\n",
    "\n",
    "# Create means and standard deviations of test set scores\n",
    "test_mean = np.mean(test_scores, axis=1)\n",
    "test_std = np.std(test_scores, axis=1)\n",
    "\n",
    "# Draw lines\n",
    "plt.plot(train_sizes, train_mean, '--', color=\"red\",  label=\"Training score\")\n",
    "plt.plot(train_sizes, test_mean, color=\"black\", label=\"Cross-validation score\")\n",
    "\n",
    "# Draw bands\n",
    "plt.fill_between(train_sizes, train_mean - train_std, train_mean + train_std, color=\"#DDDDDD\")\n",
    "plt.fill_between(train_sizes, test_mean - test_std, test_mean + test_std, color=\"#DDDDDD\")\n",
    "\n",
    "# Create plot\n",
    "plt.title(\"Gradient Boosting Learning Curve\")\n",
    "plt.xlabel(\"Training Set Size\"), plt.ylabel(\"Accuracy Score\"), plt.legend(loc=\"best\")\n",
    "plt.tight_layout()\n",
    "plt.show()"
   ]
  },
  {
   "cell_type": "markdown",
   "id": "imposed-difference",
   "metadata": {
    "id": "rqh_ejaVNHXW",
    "papermill": {
     "duration": 0.09601,
     "end_time": "2021-04-08T20:38:04.958757",
     "exception": false,
     "start_time": "2021-04-08T20:38:04.862747",
     "status": "completed"
    },
    "tags": []
   },
   "source": [
    "### Often, we are not aware of optimal values for hyperparameters which would generate the best model output. So, what we tell the model is to explore and select the optimal model architecture automatically. \n",
    "### Each model has its own sets of parameters that need to be tuned to get optimal output. For every model, our goal is to minimize the error or say to have predictions as close as possible to actual values.\n",
    "\n"
   ]
  },
  {
   "cell_type": "markdown",
   "id": "previous-impression",
   "metadata": {
    "papermill": {
     "duration": 0.147215,
     "end_time": "2021-04-08T20:38:05.202151",
     "exception": false,
     "start_time": "2021-04-08T20:38:05.054936",
     "status": "completed"
    },
    "tags": []
   },
   "source": [
    "### RANDOMIZED SEARCH\n",
    "The model randomly makes combinations of its own and tries to fit the dataset and test the accuracy. Here, chances are there to miss on a few combinations which could have been optimal ones. Although, random search consumes quite less amount of time and most of the time it gives optimal solutions as well.\n",
    "\n",
    "### GRID SEARCH\n",
    "In this method, each combination of hyperparameter value is tried. This makes the process time consuming, or in short, inefficient. This method is quite an expensive method in terms of computation power and time, but this is the most efficient method as there is the least possibility of missing out on an optimal solution for a model.\n",
    "\n",
    "### As we saw above our model performance got low when we used GRID SEARCH but improved when we used RANDOMIZED SEARCH CV. SO changing hyperparameters did make a little difference to our model performance."
   ]
  },
  {
   "cell_type": "markdown",
   "id": "contrary-scheme",
   "metadata": {
    "papermill": {
     "duration": 0.095668,
     "end_time": "2021-04-08T20:38:05.393463",
     "exception": false,
     "start_time": "2021-04-08T20:38:05.297795",
     "status": "completed"
    },
    "tags": []
   },
   "source": [
    "### There are a number of machine learning models to choose from. When we build these models, we always use a set of historical data to help our machine learning algorithms learn what is the relationship between a set of input features to a predicted output. Below are few reasons why the model dint work or performed better:\n",
    "\n",
    "\n",
    "## High Bias or High Variance\n",
    "\n",
    "### High Bias refers to a scenario where your model is “underfitting” your dataset . This is bad because your model is not presenting a very accurate or representative picture of the relationship between your inputs and predicted output, and is often outputting high error .\n",
    "\n",
    "### In cases of High Variance or “overfitting”, your machine learning model is so accurate that it is perfectly fitted to your example dataset. While this may seem like a good outcome, it is also a cause for concern, as such models often fail to generalize to future datasets. So while your model works well for your existing data, you don’t know how well it’ll perform on other examples.\n",
    "\n",
    "### If you can generate a model with overall low error in both your train (past) and test (future) datasets, you’ll have found a model that is “Just Right” and balanced the right levels of bias and variance.\n",
    "\n",
    "\n",
    "## Low Precision or Low Recall\n",
    "\n",
    "### Even when you have high accuracy, it’s possible that your machine learning model may be susceptible to other types of error.\n",
    "\n",
    "### Precision is a measure of how often your predictions for the positive class are actually true. It’s calculated as the number of True Positives over the sum of the True Positives and False Positives.\n",
    "\n",
    "### Recall is the measure of how often the actual positive class is predicted as such. It’s calculated as the number of True Positives over the sum of the True Positives and False Negatives.\n",
    "\n",
    "### Another way to interpret the difference between Precision and Recall, is that Precision is measuring what fraction of your predictions for the positive class are valid, while Recall is telling you how often your predictions actually capture the positive class. Hence, a situation of Low Precision emerges when very few of your positive predictions are true, and Low Recall occurs if most of your positive values are never predicted.\n",
    "\n",
    "### The goal of a good machine learning model is to get the right balance of Precision and Recall, by trying to maximize the number of True Positives while minimizing the number of False Negatives and False Positives \n",
    "\n",
    "### The above probelm can be solved by doing following changes:\n",
    "\n",
    "####    Incase of High Bias - increasing the number of input features.\n",
    "####    Incase of High Variance - reduce the number of input features. Increasing the number of training examples.\n",
    "####    Incase of Low Precision - increase the probability threshold\n",
    "####    Incase of Low Recall - reduce the probability threshold, therein predicting the positive class more often."
   ]
  },
  {
   "cell_type": "markdown",
   "id": "monetary-venue",
   "metadata": {
    "papermill": {
     "duration": 0.093952,
     "end_time": "2021-04-08T20:38:05.584104",
     "exception": false,
     "start_time": "2021-04-08T20:38:05.490152",
     "status": "completed"
    },
    "tags": []
   },
   "source": [
    "### Now we know that our data was imbalanced and need resampling with feature engineering thats why models were not able to perform as expected."
   ]
  }
 ],
 "metadata": {
  "kernelspec": {
   "display_name": "Python 3",
   "language": "python",
   "name": "python3"
  },
  "language_info": {
   "codemirror_mode": {
    "name": "ipython",
    "version": 3
   },
   "file_extension": ".py",
   "mimetype": "text/x-python",
   "name": "python",
   "nbconvert_exporter": "python",
   "pygments_lexer": "ipython3",
   "version": "3.7.9"
  },
  "papermill": {
   "default_parameters": {},
   "duration": 1030.697477,
   "end_time": "2021-04-08T20:38:06.893805",
   "environment_variables": {},
   "exception": null,
   "input_path": "__notebook__.ipynb",
   "output_path": "__notebook__.ipynb",
   "parameters": {},
   "start_time": "2021-04-08T20:20:56.196328",
   "version": "2.3.2"
  }
 },
 "nbformat": 4,
 "nbformat_minor": 5
}
