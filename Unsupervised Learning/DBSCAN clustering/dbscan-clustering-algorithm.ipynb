{
 "cells": [
  {
   "cell_type": "markdown",
   "id": "94f0f839",
   "metadata": {
    "papermill": {
     "duration": 0.004932,
     "end_time": "2022-09-10T22:24:57.527905",
     "exception": false,
     "start_time": "2022-09-10T22:24:57.522973",
     "status": "completed"
    },
    "tags": []
   },
   "source": [
    "# DBSCAN Clustering Algorithm\n",
    "\n",
    "The foundational algorithm for density-based clustering is called Density-Based Spatial Clustering of Applications with Noise (DBSCAN). From a big quantity of data that contains noise and outliers, it may identify clusters of various sizes and forms."
   ]
  },
  {
   "cell_type": "markdown",
   "id": "d4e092af",
   "metadata": {
    "papermill": {
     "duration": 0.003353,
     "end_time": "2022-09-10T22:24:57.535114",
     "exception": false,
     "start_time": "2022-09-10T22:24:57.531761",
     "status": "completed"
    },
    "tags": []
   },
   "source": [
    "## Import Libraries"
   ]
  },
  {
   "cell_type": "code",
   "execution_count": 1,
   "id": "93fc0f8c",
   "metadata": {
    "execution": {
     "iopub.execute_input": "2022-09-10T22:24:57.544296Z",
     "iopub.status.busy": "2022-09-10T22:24:57.543840Z",
     "iopub.status.idle": "2022-09-10T22:24:58.940564Z",
     "shell.execute_reply": "2022-09-10T22:24:58.939188Z"
    },
    "papermill": {
     "duration": 1.404973,
     "end_time": "2022-09-10T22:24:58.943609",
     "exception": false,
     "start_time": "2022-09-10T22:24:57.538636",
     "status": "completed"
    },
    "tags": []
   },
   "outputs": [],
   "source": [
    "import numpy as np\n",
    "import pandas as pd\n",
    "import matplotlib.pyplot as plt\n",
    "from sklearn.cluster import DBSCAN\n",
    "from sklearn.preprocessing import StandardScaler"
   ]
  },
  {
   "cell_type": "markdown",
   "id": "0a027af8",
   "metadata": {
    "papermill": {
     "duration": 0.003344,
     "end_time": "2022-09-10T22:24:58.950768",
     "exception": false,
     "start_time": "2022-09-10T22:24:58.947424",
     "status": "completed"
    },
    "tags": []
   },
   "source": [
    "## Reading the Dataset"
   ]
  },
  {
   "cell_type": "code",
   "execution_count": 2,
   "id": "10bb6892",
   "metadata": {
    "execution": {
     "iopub.execute_input": "2022-09-10T22:24:58.959664Z",
     "iopub.status.busy": "2022-09-10T22:24:58.959002Z",
     "iopub.status.idle": "2022-09-10T22:24:59.006160Z",
     "shell.execute_reply": "2022-09-10T22:24:59.004725Z"
    },
    "papermill": {
     "duration": 0.054859,
     "end_time": "2022-09-10T22:24:59.009131",
     "exception": false,
     "start_time": "2022-09-10T22:24:58.954272",
     "status": "completed"
    },
    "tags": []
   },
   "outputs": [
    {
     "data": {
      "text/html": [
       "<div>\n",
       "<style scoped>\n",
       "    .dataframe tbody tr th:only-of-type {\n",
       "        vertical-align: middle;\n",
       "    }\n",
       "\n",
       "    .dataframe tbody tr th {\n",
       "        vertical-align: top;\n",
       "    }\n",
       "\n",
       "    .dataframe thead th {\n",
       "        text-align: right;\n",
       "    }\n",
       "</style>\n",
       "<table border=\"1\" class=\"dataframe\">\n",
       "  <thead>\n",
       "    <tr style=\"text-align: right;\">\n",
       "      <th></th>\n",
       "      <th>Gender</th>\n",
       "      <th>Age</th>\n",
       "      <th>Annual Income (k$)</th>\n",
       "      <th>Spending Score (1-100)</th>\n",
       "    </tr>\n",
       "    <tr>\n",
       "      <th>CustomerID</th>\n",
       "      <th></th>\n",
       "      <th></th>\n",
       "      <th></th>\n",
       "      <th></th>\n",
       "    </tr>\n",
       "  </thead>\n",
       "  <tbody>\n",
       "    <tr>\n",
       "      <th>1</th>\n",
       "      <td>Male</td>\n",
       "      <td>19</td>\n",
       "      <td>15</td>\n",
       "      <td>39</td>\n",
       "    </tr>\n",
       "    <tr>\n",
       "      <th>2</th>\n",
       "      <td>Male</td>\n",
       "      <td>21</td>\n",
       "      <td>15</td>\n",
       "      <td>81</td>\n",
       "    </tr>\n",
       "    <tr>\n",
       "      <th>3</th>\n",
       "      <td>Female</td>\n",
       "      <td>20</td>\n",
       "      <td>16</td>\n",
       "      <td>6</td>\n",
       "    </tr>\n",
       "    <tr>\n",
       "      <th>4</th>\n",
       "      <td>Female</td>\n",
       "      <td>23</td>\n",
       "      <td>16</td>\n",
       "      <td>77</td>\n",
       "    </tr>\n",
       "    <tr>\n",
       "      <th>5</th>\n",
       "      <td>Female</td>\n",
       "      <td>31</td>\n",
       "      <td>17</td>\n",
       "      <td>40</td>\n",
       "    </tr>\n",
       "  </tbody>\n",
       "</table>\n",
       "</div>"
      ],
      "text/plain": [
       "            Gender  Age  Annual Income (k$)  Spending Score (1-100)\n",
       "CustomerID                                                         \n",
       "1             Male   19                  15                      39\n",
       "2             Male   21                  15                      81\n",
       "3           Female   20                  16                       6\n",
       "4           Female   23                  16                      77\n",
       "5           Female   31                  17                      40"
      ]
     },
     "execution_count": 2,
     "metadata": {},
     "output_type": "execute_result"
    }
   ],
   "source": [
    "data = pd.read_csv(\"../input/customer-segmentation-tutorial-in-python/Mall_Customers.csv\", index_col=0)\n",
    "data.head()"
   ]
  },
  {
   "cell_type": "code",
   "execution_count": 3,
   "id": "7642ebe0",
   "metadata": {
    "execution": {
     "iopub.execute_input": "2022-09-10T22:24:59.018750Z",
     "iopub.status.busy": "2022-09-10T22:24:59.018125Z",
     "iopub.status.idle": "2022-09-10T22:24:59.032774Z",
     "shell.execute_reply": "2022-09-10T22:24:59.031397Z"
    },
    "papermill": {
     "duration": 0.022179,
     "end_time": "2022-09-10T22:24:59.035374",
     "exception": false,
     "start_time": "2022-09-10T22:24:59.013195",
     "status": "completed"
    },
    "tags": []
   },
   "outputs": [
    {
     "data": {
      "text/html": [
       "<div>\n",
       "<style scoped>\n",
       "    .dataframe tbody tr th:only-of-type {\n",
       "        vertical-align: middle;\n",
       "    }\n",
       "\n",
       "    .dataframe tbody tr th {\n",
       "        vertical-align: top;\n",
       "    }\n",
       "\n",
       "    .dataframe thead th {\n",
       "        text-align: right;\n",
       "    }\n",
       "</style>\n",
       "<table border=\"1\" class=\"dataframe\">\n",
       "  <thead>\n",
       "    <tr style=\"text-align: right;\">\n",
       "      <th></th>\n",
       "      <th>Annual Income (k$)</th>\n",
       "      <th>Spending Score (1-100)</th>\n",
       "    </tr>\n",
       "    <tr>\n",
       "      <th>CustomerID</th>\n",
       "      <th></th>\n",
       "      <th></th>\n",
       "    </tr>\n",
       "  </thead>\n",
       "  <tbody>\n",
       "    <tr>\n",
       "      <th>1</th>\n",
       "      <td>15</td>\n",
       "      <td>39</td>\n",
       "    </tr>\n",
       "    <tr>\n",
       "      <th>2</th>\n",
       "      <td>15</td>\n",
       "      <td>81</td>\n",
       "    </tr>\n",
       "    <tr>\n",
       "      <th>3</th>\n",
       "      <td>16</td>\n",
       "      <td>6</td>\n",
       "    </tr>\n",
       "    <tr>\n",
       "      <th>4</th>\n",
       "      <td>16</td>\n",
       "      <td>77</td>\n",
       "    </tr>\n",
       "    <tr>\n",
       "      <th>5</th>\n",
       "      <td>17</td>\n",
       "      <td>40</td>\n",
       "    </tr>\n",
       "  </tbody>\n",
       "</table>\n",
       "</div>"
      ],
      "text/plain": [
       "            Annual Income (k$)  Spending Score (1-100)\n",
       "CustomerID                                            \n",
       "1                           15                      39\n",
       "2                           15                      81\n",
       "3                           16                       6\n",
       "4                           16                      77\n",
       "5                           17                      40"
      ]
     },
     "execution_count": 3,
     "metadata": {},
     "output_type": "execute_result"
    }
   ],
   "source": [
    "data.drop(['Gender'], axis=1, inplace=True)\n",
    "data.drop(['Age'], axis=1, inplace=True)\n",
    "data.head()"
   ]
  },
  {
   "cell_type": "code",
   "execution_count": 4,
   "id": "d77c465a",
   "metadata": {
    "execution": {
     "iopub.execute_input": "2022-09-10T22:24:59.045398Z",
     "iopub.status.busy": "2022-09-10T22:24:59.045028Z",
     "iopub.status.idle": "2022-09-10T22:24:59.057585Z",
     "shell.execute_reply": "2022-09-10T22:24:59.056261Z"
    },
    "papermill": {
     "duration": 0.020473,
     "end_time": "2022-09-10T22:24:59.060118",
     "exception": false,
     "start_time": "2022-09-10T22:24:59.039645",
     "status": "completed"
    },
    "tags": []
   },
   "outputs": [
    {
     "data": {
      "text/html": [
       "<div>\n",
       "<style scoped>\n",
       "    .dataframe tbody tr th:only-of-type {\n",
       "        vertical-align: middle;\n",
       "    }\n",
       "\n",
       "    .dataframe tbody tr th {\n",
       "        vertical-align: top;\n",
       "    }\n",
       "\n",
       "    .dataframe thead th {\n",
       "        text-align: right;\n",
       "    }\n",
       "</style>\n",
       "<table border=\"1\" class=\"dataframe\">\n",
       "  <thead>\n",
       "    <tr style=\"text-align: right;\">\n",
       "      <th></th>\n",
       "      <th>Annual Income (k$)</th>\n",
       "      <th>Spending Score (1-100)</th>\n",
       "    </tr>\n",
       "    <tr>\n",
       "      <th>CustomerID</th>\n",
       "      <th></th>\n",
       "      <th></th>\n",
       "    </tr>\n",
       "  </thead>\n",
       "  <tbody>\n",
       "    <tr>\n",
       "      <th>44</th>\n",
       "      <td>39</td>\n",
       "      <td>61</td>\n",
       "    </tr>\n",
       "    <tr>\n",
       "      <th>164</th>\n",
       "      <td>81</td>\n",
       "      <td>93</td>\n",
       "    </tr>\n",
       "    <tr>\n",
       "      <th>126</th>\n",
       "      <td>70</td>\n",
       "      <td>77</td>\n",
       "    </tr>\n",
       "    <tr>\n",
       "      <th>63</th>\n",
       "      <td>47</td>\n",
       "      <td>52</td>\n",
       "    </tr>\n",
       "    <tr>\n",
       "      <th>138</th>\n",
       "      <td>73</td>\n",
       "      <td>73</td>\n",
       "    </tr>\n",
       "  </tbody>\n",
       "</table>\n",
       "</div>"
      ],
      "text/plain": [
       "            Annual Income (k$)  Spending Score (1-100)\n",
       "CustomerID                                            \n",
       "44                          39                      61\n",
       "164                         81                      93\n",
       "126                         70                      77\n",
       "63                          47                      52\n",
       "138                         73                      73"
      ]
     },
     "execution_count": 4,
     "metadata": {},
     "output_type": "execute_result"
    }
   ],
   "source": [
    "#Taking the full fraction of data -> shuffles the data\n",
    "data = data.sample(frac=1)\n",
    "data.head()"
   ]
  },
  {
   "cell_type": "markdown",
   "id": "960f16fa",
   "metadata": {
    "papermill": {
     "duration": 0.003867,
     "end_time": "2022-09-10T22:24:59.068253",
     "exception": false,
     "start_time": "2022-09-10T22:24:59.064386",
     "status": "completed"
    },
    "tags": []
   },
   "source": [
    "## DBSCAN Clustering"
   ]
  },
  {
   "cell_type": "code",
   "execution_count": 5,
   "id": "e0433897",
   "metadata": {
    "execution": {
     "iopub.execute_input": "2022-09-10T22:24:59.078428Z",
     "iopub.status.busy": "2022-09-10T22:24:59.078057Z",
     "iopub.status.idle": "2022-09-10T22:24:59.084344Z",
     "shell.execute_reply": "2022-09-10T22:24:59.083027Z"
    },
    "papermill": {
     "duration": 0.0143,
     "end_time": "2022-09-10T22:24:59.086628",
     "exception": false,
     "start_time": "2022-09-10T22:24:59.072328",
     "status": "completed"
    },
    "tags": []
   },
   "outputs": [],
   "source": [
    "from numpy import unique\n",
    "from numpy import where\n",
    "data_x = data.iloc[:,[0,1]].values"
   ]
  },
  {
   "cell_type": "code",
   "execution_count": 6,
   "id": "2aae1c62",
   "metadata": {
    "execution": {
     "iopub.execute_input": "2022-09-10T22:24:59.096822Z",
     "iopub.status.busy": "2022-09-10T22:24:59.096435Z",
     "iopub.status.idle": "2022-09-10T22:24:59.101995Z",
     "shell.execute_reply": "2022-09-10T22:24:59.100804Z"
    },
    "papermill": {
     "duration": 0.013251,
     "end_time": "2022-09-10T22:24:59.104397",
     "exception": false,
     "start_time": "2022-09-10T22:24:59.091146",
     "status": "completed"
    },
    "tags": []
   },
   "outputs": [],
   "source": [
    "#Define the model\n",
    "model = DBSCAN(eps=0.7, min_samples=90)"
   ]
  },
  {
   "cell_type": "code",
   "execution_count": 7,
   "id": "e9a38642",
   "metadata": {
    "execution": {
     "iopub.execute_input": "2022-09-10T22:24:59.114886Z",
     "iopub.status.busy": "2022-09-10T22:24:59.114460Z",
     "iopub.status.idle": "2022-09-10T22:24:59.121577Z",
     "shell.execute_reply": "2022-09-10T22:24:59.120692Z"
    },
    "papermill": {
     "duration": 0.01493,
     "end_time": "2022-09-10T22:24:59.123851",
     "exception": false,
     "start_time": "2022-09-10T22:24:59.108921",
     "status": "completed"
    },
    "tags": []
   },
   "outputs": [],
   "source": [
    "#Fit the model and predict clusters\n",
    "yhat = model.fit_predict(data_x)"
   ]
  },
  {
   "cell_type": "code",
   "execution_count": 8,
   "id": "8c608166",
   "metadata": {
    "execution": {
     "iopub.execute_input": "2022-09-10T22:24:59.134087Z",
     "iopub.status.busy": "2022-09-10T22:24:59.133684Z",
     "iopub.status.idle": "2022-09-10T22:24:59.138834Z",
     "shell.execute_reply": "2022-09-10T22:24:59.137486Z"
    },
    "papermill": {
     "duration": 0.013111,
     "end_time": "2022-09-10T22:24:59.141399",
     "exception": false,
     "start_time": "2022-09-10T22:24:59.128288",
     "status": "completed"
    },
    "tags": []
   },
   "outputs": [],
   "source": [
    "#Retrieve the unique clusters\n",
    "clusters = unique(yhat)"
   ]
  },
  {
   "cell_type": "code",
   "execution_count": 9,
   "id": "e5c6164f",
   "metadata": {
    "execution": {
     "iopub.execute_input": "2022-09-10T22:24:59.151525Z",
     "iopub.status.busy": "2022-09-10T22:24:59.151110Z",
     "iopub.status.idle": "2022-09-10T22:24:59.416105Z",
     "shell.execute_reply": "2022-09-10T22:24:59.414710Z"
    },
    "papermill": {
     "duration": 0.272802,
     "end_time": "2022-09-10T22:24:59.418627",
     "exception": false,
     "start_time": "2022-09-10T22:24:59.145825",
     "status": "completed"
    },
    "tags": []
   },
   "outputs": [
    {
     "data": {
      "image/png": "[encoded data removed]",
      "text/plain": [
       "<Figure size 432x288 with 1 Axes>"
      ]
     },
     "metadata": {
      "needs_background": "light"
     },
     "output_type": "display_data"
    }
   ],
   "source": [
    "#Creating scatter plot for the samples from each cluster\n",
    "for cluster in clusters:\n",
    "\t# get row indexes for samples with this cluster\n",
    "\trow_ix = where(yhat == cluster)\n",
    "\t# create scatter of these samples\n",
    "\tplt.scatter(data_x[row_ix, 0], data_x[row_ix, 1])\n",
    "# show the plot\n",
    "plt.show()"
   ]
  },
  {
   "cell_type": "code",
   "execution_count": null,
   "id": "c60a6eae",
   "metadata": {
    "papermill": {
     "duration": 0.004447,
     "end_time": "2022-09-10T22:24:59.427776",
     "exception": false,
     "start_time": "2022-09-10T22:24:59.423329",
     "status": "completed"
    },
    "tags": []
   },
   "outputs": [],
   "source": []
  }
 ],
 "metadata": {
  "kernelspec": {
   "display_name": "Python 3",
   "language": "python",
   "name": "python3"
  },
  "language_info": {
   "codemirror_mode": {
    "name": "ipython",
    "version": 3
   },
   "file_extension": ".py",
   "mimetype": "text/x-python",
   "name": "python",
   "nbconvert_exporter": "python",
   "pygments_lexer": "ipython3",
   "version": "3.7.12"
  },
  "papermill": {
   "default_parameters": {},
   "duration": 13.873034,
   "end_time": "2022-09-10T22:25:00.155694",
   "environment_variables": {},
   "exception": null,
   "input_path": "__notebook__.ipynb",
   "output_path": "__notebook__.ipynb",
   "parameters": {},
   "start_time": "2022-09-10T22:24:46.282660",
   "version": "2.3.4"
  }
 },
 "nbformat": 4,
 "nbformat_minor": 5
}
