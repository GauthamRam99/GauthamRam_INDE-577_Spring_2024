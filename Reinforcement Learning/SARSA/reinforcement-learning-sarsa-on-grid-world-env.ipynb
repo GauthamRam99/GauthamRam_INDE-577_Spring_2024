{
 "cells": [
  {
   "cell_type": "markdown",
   "id": "422a8997",
   "metadata": {
    "papermill": {
     "duration": 0.00668,
     "end_time": "2022-06-30T03:29:05.224345",
     "exception": false,
     "start_time": "2022-06-30T03:29:05.217665",
     "status": "completed"
    },
    "tags": []
   },
   "source": [
    "# **SARSA on Grid World Environment**"
   ]
  },
  {
   "cell_type": "markdown",
   "id": "1e9323d5",
   "metadata": {
    "papermill": {
     "duration": 0.005353,
     "end_time": "2022-06-30T03:29:05.235330",
     "exception": false,
     "start_time": "2022-06-30T03:29:05.229977",
     "status": "completed"
    },
    "tags": []
   },
   "source": [
    "I have developed a **4x4 grid world environment** where agent can choose from one of the four actions defined below to reach the target in as less steps as it can by increasing the cumulative reward along the way.\n",
    "\n",
    "**Actions:** {down, up, right, left}\n",
    "\n",
    "**States:** {s1, s2, s3, s4, s5....s16} -> 4x4 grid\n",
    "\n",
    "**Rewards:** {-4, -3, 0, 2, 5, 20}\n",
    "\n",
    "**Main Goals:** \n",
    "1. To run a random agent in the environment for 15 timesteps or episodes and display the rewards acquired in the environments. \n",
    "\n",
    "2. Apply SARSA to find the **optimal path** (i.e. **path with lesser steps and more cumulative reward**) and tune hyperparameters to see how they impact the agent learning process"
   ]
  },
  {
   "cell_type": "markdown",
   "id": "8450fc08",
   "metadata": {
    "id": "sC54U8RYE8WU",
    "papermill": {
     "duration": 0.00507,
     "end_time": "2022-06-30T03:29:05.245764",
     "exception": false,
     "start_time": "2022-06-30T03:29:05.240694",
     "status": "completed"
    },
    "tags": []
   },
   "source": [
    "# **Libraries**"
   ]
  },
  {
   "cell_type": "code",
   "execution_count": 1,
   "id": "96b2790b",
   "metadata": {
    "execution": {
     "iopub.execute_input": "2022-06-30T03:29:05.259353Z",
     "iopub.status.busy": "2022-06-30T03:29:05.258336Z",
     "iopub.status.idle": "2022-06-30T03:29:05.583982Z",
     "shell.execute_reply": "2022-06-30T03:29:05.582662Z"
    },
    "id": "Rwh360CPEK1F",
    "papermill": {
     "duration": 0.33563,
     "end_time": "2022-06-30T03:29:05.586765",
     "exception": false,
     "start_time": "2022-06-30T03:29:05.251135",
     "status": "completed"
    },
    "tags": []
   },
   "outputs": [],
   "source": [
    "import numpy as np\n",
    "import matplotlib.pyplot as plt\n",
    "import gym #library for reinforcement problems\n",
    "from gym import spaces\n",
    "import time"
   ]
  },
  {
   "cell_type": "markdown",
   "id": "7af91700",
   "metadata": {
    "id": "XlWhkXPnEUnu",
    "papermill": {
     "duration": 0.005408,
     "end_time": "2022-06-30T03:29:05.598211",
     "exception": false,
     "start_time": "2022-06-30T03:29:05.592803",
     "status": "completed"
    },
    "tags": []
   },
   "source": [
    "# **Grid world Environment**"
   ]
  },
  {
   "cell_type": "code",
   "execution_count": 2,
   "id": "ee998717",
   "metadata": {
    "execution": {
     "iopub.execute_input": "2022-06-30T03:29:05.612139Z",
     "iopub.status.busy": "2022-06-30T03:29:05.611409Z",
     "iopub.status.idle": "2022-06-30T03:29:05.626838Z",
     "shell.execute_reply": "2022-06-30T03:29:05.625676Z"
    },
    "id": "mlspDH-OEQmx",
    "papermill": {
     "duration": 0.025404,
     "end_time": "2022-06-30T03:29:05.629547",
     "exception": false,
     "start_time": "2022-06-30T03:29:05.604143",
     "status": "completed"
    },
    "tags": []
   },
   "outputs": [],
   "source": [
    "class GridEnvironment(gym.Env):\n",
    "    metadata = { 'render.modes': [] }\n",
    "    \n",
    "    def __init__(self):\n",
    "        self.observation_space = spaces.Discrete(16)\n",
    "        self.action_space = spaces.Discrete(4)\n",
    "        self.done = False\n",
    "        \n",
    "    def reset(self):\n",
    "        \n",
    "        self.done = False\n",
    "        self.state = np.zeros((4,4))\n",
    "        self.agent_pos = [0, 0]\n",
    "        self.goal_pos = [3, 3]       \n",
    "        self.danger1_pos = [2,0] #first danger position (-3)\n",
    "        self.danger2_pos = [1,2] #second danger position (-4)\n",
    "        self.gold1_pos = [1,0] #First positive reward position (+2)\n",
    "        self.gold2_pos = [3,1] #Second positive reward position (+5)\n",
    "\n",
    "        self.state[tuple(self.agent_pos)] = 1\n",
    "        self.state[tuple(self.goal_pos)] = 0.8\n",
    "        self.state[tuple(self.gold1_pos)] = 0.7\n",
    "        self.state[tuple(self.gold2_pos)] = 0.7\n",
    "        self.state[tuple(self.danger1_pos)] = 0.3\n",
    "        self.state[tuple(self.danger2_pos)] = 0.3\n",
    "        observation = self.state.flatten()\n",
    "        return observation\n",
    "    \n",
    "    def step(self, action):\n",
    "\n",
    "        self.state = np.random.choice(self.observation_space.n)\n",
    "        if action == 0:\n",
    "          self.agent_pos[0] += 1\n",
    "        if action == 1:\n",
    "          self.agent_pos[0] -= 1\n",
    "        if action == 2:\n",
    "          self.agent_pos[1] += 1\n",
    "        if action == 3:\n",
    "          self.agent_pos[1] -= 1\n",
    "          \n",
    "        self.agent_pos = np.clip(self.agent_pos, 0, 3)\n",
    "        self.state = np.zeros((4,4))\n",
    "        self.state[tuple(self.agent_pos)] = 1\n",
    "        self.state[tuple(self.goal_pos)] = 0.8\n",
    "        self.state[tuple(self.gold1_pos)] = 0.7\n",
    "        self.state[tuple(self.gold2_pos)] = 0.7\n",
    "        self.state[tuple(self.danger1_pos)] = 0.3\n",
    "        self.state[tuple(self.danger2_pos)] = 0.3\n",
    "        observation = self.state.flatten()\n",
    "        \n",
    "        reward = 0\n",
    "        if (self.agent_pos == self.goal_pos).all():\n",
    "          reward = 20 #Target position: Given max reward if it reaches target\n",
    "          self.done = True\n",
    "\n",
    "        elif (self.agent_pos == self.danger1_pos).all():\n",
    "            reward = -3 #A negative reward -3 if it enters 1st danger position\n",
    "\n",
    "        elif (self.agent_pos == self.danger2_pos).all():\n",
    "            reward = -4 #A negative reward of -4 if it enters 2nd danger position\n",
    "\n",
    "        elif (self.agent_pos == self.gold1_pos).all():\n",
    "            reward = 2 #A reward of +2 at [1,1]\n",
    "\n",
    "        elif (self.agent_pos == self.gold2_pos).all():\n",
    "            reward = 5 #A reward of +5 at [2,2]\n",
    "        \n",
    "        return self.agent_pos, reward, self.done\n",
    "        \n",
    "    def render(self):\n",
    "        plt.imshow(self.state)"
   ]
  },
  {
   "attachments": {
    "225245c1-9915-4600-8c02-d1c07d5b007f.png": {
     "image/png": "[encoded data removed]"
    }
   },
   "cell_type": "markdown",
   "id": "dcde91af",
   "metadata": {
    "papermill": {
     "duration": 0.005311,
     "end_time": "2022-06-30T03:29:05.640330",
     "exception": false,
     "start_time": "2022-06-30T03:29:05.635019",
     "status": "completed"
    },
    "tags": []
   },
   "source": [
    "![image.png](attachment:225245c1-9915-4600-8c02-d1c07d5b007f.png)"
   ]
  },
  {
   "cell_type": "markdown",
   "id": "9f1b3917",
   "metadata": {
    "id": "h_TXGBc2Jz3M",
    "papermill": {
     "duration": 0.005179,
     "end_time": "2022-06-30T03:29:05.651002",
     "exception": false,
     "start_time": "2022-06-30T03:29:05.645823",
     "status": "completed"
    },
    "tags": []
   },
   "source": [
    "# **SARSA Algorithm**"
   ]
  },
  {
   "cell_type": "code",
   "execution_count": 3,
   "id": "6fd27f2c",
   "metadata": {
    "execution": {
     "iopub.execute_input": "2022-06-30T03:29:05.664051Z",
     "iopub.status.busy": "2022-06-30T03:29:05.663364Z",
     "iopub.status.idle": "2022-06-30T03:29:05.685350Z",
     "shell.execute_reply": "2022-06-30T03:29:05.684201Z"
    },
    "id": "8AdfV8aowka0",
    "papermill": {
     "duration": 0.031463,
     "end_time": "2022-06-30T03:29:05.687878",
     "exception": false,
     "start_time": "2022-06-30T03:29:05.656415",
     "status": "completed"
    },
    "tags": []
   },
   "outputs": [],
   "source": [
    "#SARSA\n",
    "def sarsa(discount_factor = 0.95, timesteps = 15, episodes = 1000, evaluation_results = False):\n",
    "  env = GridEnvironment()\n",
    "  obs = env.reset()#resets the environment to its initial configuration\n",
    "\n",
    "  #Intialize parameters\n",
    "  learning_rate = 0.15 #alpha\n",
    "  discount_factor = discount_factor #how much weightage to put on future rewards\n",
    "  det_epsilon = 0.99 # For all states in deterministic environment p(s', r/s, a) = {0, 1}: Either action taken or No action taken\n",
    "\n",
    "\n",
    "  #Intial state\n",
    "  current_state = 0 #s1\n",
    "  action_val = [0,1,2,3]\n",
    "\n",
    "  #Q table representing 16 rows: one for each state (i.e., 0,1,2,...15) -> (i.e., s1, s2, s3,....s16) and 4 columns: one for each action (i.e., 0,1,2,3) -> (down,up,right,left)\n",
    "  # (0-15, 0-3) remember the dimension is one less\n",
    "  q_table = np.zeros((16,4))\n",
    "\n",
    "  #mapping next_state co-ordinates to q_table co-ordinates\n",
    "  states = {(0,0): 0, (0,1): 1, (0,2): 2, (0,3): 3,\n",
    "                (1,0): 4, (1,1): 5, (1,2): 6, (1,3): 7,\n",
    "                (2,0): 8, (2,1): 9, (2,2): 10, (2,3): 11,\n",
    "                (3,0): 12, (3,1): 13, (3,2): 14, (3,3): 15} #16 states\n",
    "\n",
    "  #Empty lists to store values\n",
    "  optimal = []\n",
    "  reward_values = []\n",
    "  total_timesteps = []\n",
    "  epsilon_values = []\n",
    "  eva_rewards = []\n",
    "\n",
    "\n",
    "  done = False #signifies if agent reached terminal or not \n",
    "  total_episodes = episodes\n",
    "  eva_episodes = 10\n",
    "  avg_timesteps = 0\n",
    "  epsilon = 1 #multiply by 0.995 for each episode(#after 30 iterations# or terminal state reached)\n",
    "  decay_factor = (0.01/1)**(1/total_episodes)\n",
    "  target = np.array([3,3])\n",
    "\n",
    "  #For evaluation results\n",
    "  if evaluation_results: \n",
    "     total_episodes += eva_episodes \n",
    "     print(\"Evaluation Results\")\n",
    "\n",
    "  for episode in range(1, total_episodes+1):\n",
    "    \n",
    "    obs = env.reset() #resets the environment\n",
    "    current_state = 0 \n",
    "    total_rewards = 0\n",
    "    timestep = 0\n",
    "\n",
    "\n",
    "    #e - greedy algorithm to choose s and a\n",
    "    rand_num = np.random.random()\n",
    "    if epsilon > rand_num:\n",
    "      action = np.random.choice(action_val)\n",
    "    else:\n",
    "      action = np.argmax(q_table[current_state]) #action in current state s with max_q value\n",
    "\n",
    "    while timestep < timesteps: #(i.e., considering untill the terminal is reached or 15 timesteps are completed)\n",
    "    \n",
    "      rand_num = np.random.random()\n",
    "      if det_epsilon > rand_num: #Choosing an action in deterministic environment\n",
    "          \n",
    "          next_state_pos, reward, done = env.step(action)\n",
    "          next_state = states[tuple(next_state_pos)]\n",
    "\n",
    "          if reward == 20:\n",
    "            reward += 100\n",
    "\n",
    "          if np.linalg.norm(target - np.array(next_state_pos)) <= 1:\n",
    "            reward = reward + 5  #before +1, 5 is good\n",
    "\n",
    "          #e - greedy algorithm to choose next_action for next_state\n",
    "          rand_num = np.random.random()\n",
    "          if epsilon > rand_num:\n",
    "            next_action = np.random.choice(action_val)\n",
    "          else:\n",
    "            next_action = np.argmax(q_table[next_state]) #action in next state s' with max_q value\n",
    "          \n",
    "          #q-value update function for SARSA\n",
    "          q_table[current_state][action] = q_table[current_state][action] + learning_rate*(reward + discount_factor*q_table[next_state][next_action] - q_table[current_state][action])\n",
    "\n",
    "          if episode == total_episodes:\n",
    "            optimal.append(current_state+1)\n",
    "\n",
    "          total_rewards += reward #Captured all the rewards in each episode\n",
    "          timestep += 1 #Number of timesteps in each episode\n",
    "\n",
    "          current_state = next_state #next_state is assigned to current_state\n",
    "          action = next_action\n",
    "          \n",
    "          if done == True: #If terminal or target state reached then stop the episode\n",
    "            done = False\n",
    "            break        \n",
    "          \n",
    "    \n",
    "    #Results after each episode\n",
    "    avg_timesteps += timestep #Capturing all timesteps for all 100 episodes\n",
    "    total_timesteps.append(avg_timesteps)\n",
    "\n",
    "    reward_values.append(total_rewards) #Append rewards in every episode\n",
    "    epsilon_values.append(epsilon) #Append epsilon values in every episode\n",
    "\n",
    "\n",
    "    if epsilon > 0.01: #keeping epsilon in [0.01 - 1] range as if it falls below 0.01 it will exploit more: choosing best actions. We want our agent to explore a bit: choosing random actions\n",
    "        epsilon = epsilon*decay_factor\n",
    "    else:\n",
    "        epsilon = 0.01\n",
    "\n",
    "\n",
    "    if (episode % 100) == 0 and evaluation_results == False: #printing results for every 100 episodes\n",
    "      print(\"Episode: {}, Rewards: {}, Average timesteps taken: {}, epsilon: {}\".format(episode, total_rewards, avg_timesteps//100, epsilon))\n",
    "      avg_timesteps = 0\n",
    "\n",
    "    #evaluation results\n",
    "    if evaluation_results:\n",
    "      if episode > total_episodes - eva_episodes:\n",
    "         eva_rewards.append(reward)\n",
    "\n",
    "    #printing the optimal path in last episode\n",
    "    if episode == total_episodes:\n",
    "          print(\"Optimal Path: \")\n",
    "          for i in optimal:\n",
    "            print(i,\"->\", end = \" \")\n",
    "          print(next_state+1)\n",
    "\n",
    "  #Final Q - Table\n",
    "  print(\"Q Table: \\n\", q_table)\n",
    "\n",
    "  #Plotting the results\n",
    "  #x, y co-ordinates\n",
    "  x = [episode for episode in range(total_episodes)]\n",
    "  yr = reward_values\n",
    "  ye = epsilon_values\n",
    "\n",
    "  yr_eva = eva_rewards\n",
    "  x_eva = [episode for episode in range(eva_episodes)]\n",
    " \n",
    "\n",
    "  if evaluation_results:\n",
    "      #episodes vs rewards\n",
    "      plt.plot(x_eva,yr_eva)\n",
    "      plt.title(\"Rewards per episode\")\n",
    "      plt.xlabel('Episodes')\n",
    "      plt.ylabel('Rewards')\n",
    "\n",
    "  else:\n",
    "      #episodes vs epsilon\n",
    "      #Plots showing episodes vs epsilon, episodes vs rewards\n",
    "      fig, (ax1, ax2) = plt.subplots(1, 2, figsize=(10,4))\n",
    "      ax1.plot(x, ye)\n",
    "      ax1.set_title(\"Epsilon decay\")\n",
    "\n",
    "      #episodes vs rewards\n",
    "      ax2.plot(x,yr)\n",
    "      ax2.set_title(\"Rewards per episode\")\n"
   ]
  },
  {
   "cell_type": "code",
   "execution_count": 4,
   "id": "0e626a39",
   "metadata": {
    "execution": {
     "iopub.execute_input": "2022-06-30T03:29:05.701137Z",
     "iopub.status.busy": "2022-06-30T03:29:05.699989Z",
     "iopub.status.idle": "2022-06-30T03:29:06.749164Z",
     "shell.execute_reply": "2022-06-30T03:29:06.748110Z"
    },
    "id": "zDMYiXsJKCIJ",
    "outputId": "b0f0c7ad-1a82-4e9f-b8d5-ec164928adbb",
    "papermill": {
     "duration": 1.058661,
     "end_time": "2022-06-30T03:29:06.752168",
     "exception": false,
     "start_time": "2022-06-30T03:29:05.693507",
     "status": "completed"
    },
    "tags": []
   },
   "outputs": [
    {
     "name": "stdout",
     "output_type": "stream",
     "text": [
      "Episode: 100, Rewards: 31, Average timesteps taken: 14, epsilon: 0.6309573444801949\n",
      "Episode: 200, Rewards: 131, Average timesteps taken: 11, epsilon: 0.39810717055349926\n",
      "Episode: 300, Rewards: 134, Average timesteps taken: 8, epsilon: 0.2511886431509601\n",
      "Episode: 400, Rewards: 134, Average timesteps taken: 7, epsilon: 0.15848931924611304\n",
      "Episode: 500, Rewards: 134, Average timesteps taken: 6, epsilon: 0.1000000000000013\n",
      "Episode: 600, Rewards: 134, Average timesteps taken: 6, epsilon: 0.06309573444802027\n",
      "Episode: 700, Rewards: 134, Average timesteps taken: 6, epsilon: 0.039810717055350435\n",
      "Episode: 800, Rewards: 134, Average timesteps taken: 6, epsilon: 0.025118864315096318\n",
      "Episode: 900, Rewards: 134, Average timesteps taken: 6, epsilon: 0.01584893192461151\n",
      "Episode: 1000, Rewards: 134, Average timesteps taken: 6, epsilon: 0.010000000000000266\n",
      "Optimal Path: \n",
      "1 -> 5 -> 9 -> 10 -> 14 -> 15 -> 16\n",
      "Q Table: \n",
      " [[102.62699448  79.40043212  69.89872019  88.33488243]\n",
      " [ 21.89234251   6.28583206  -0.70585596  88.3967369 ]\n",
      " [ -3.41609755  -0.60505632  -0.14474488   2.24934753]\n",
      " [ -0.30787159  -0.28676847  -0.21847679  -0.50865303]\n",
      " [106.24742962  71.06367193  78.8352723   90.34563907]\n",
      " [108.9421646    7.16469512  10.85927203  31.78540432]\n",
      " [ 50.32181721  -0.27381304  -0.46806      3.63648984]\n",
      " [  4.33544933  -0.21303131   0.50437127  -2.92613921]\n",
      " [ 90.75580235  84.81289298 116.43406114  91.85749183]\n",
      " [122.56246884  87.35478967 106.61678668  85.85978038]\n",
      " [122.14142518  10.01305559   6.99311932  58.64590402]\n",
      " [  0.           1.53599517   0.75        28.62795014]\n",
      " [ 22.2476919   28.22644026 120.76314747  44.65700811]\n",
      " [120.38619898 108.40579482 123.75       102.97313238]\n",
      " [122.03268022 107.50183225 125.         110.1885617 ]\n",
      " [  0.           0.           0.           0.        ]]\n"
     ]
    },
    {
     "data": {
      "image/png": "[encoded data removed]",
      "text/plain": [
       "<Figure size 720x288 with 2 Axes>"
      ]
     },
     "metadata": {
      "needs_background": "light"
     },
     "output_type": "display_data"
    }
   ],
   "source": [
    "sarsa(discount_factor = 0.95, timesteps = 15, episodes = 1000)"
   ]
  },
  {
   "cell_type": "markdown",
   "id": "09a63a3e",
   "metadata": {
    "papermill": {
     "duration": 0.005987,
     "end_time": "2022-06-30T03:29:06.764647",
     "exception": false,
     "start_time": "2022-06-30T03:29:06.758660",
     "status": "completed"
    },
    "tags": []
   },
   "source": [
    "***From above plots, we can infer that the reward is increasing while epsilon is decreasing smoothly over the episodes, which indicates the agent is learning. The agent can choose the optimal path, the path with more rewards and reaching target in fewer timesteps.***"
   ]
  },
  {
   "cell_type": "code",
   "execution_count": 5,
   "id": "1cdb6d44",
   "metadata": {
    "execution": {
     "iopub.execute_input": "2022-06-30T03:29:06.779475Z",
     "iopub.status.busy": "2022-06-30T03:29:06.778309Z",
     "iopub.status.idle": "2022-06-30T03:29:07.642313Z",
     "shell.execute_reply": "2022-06-30T03:29:07.641073Z"
    },
    "id": "iFyE40OEGNN2",
    "outputId": "8bf4ede5-4d66-4d6f-ea0c-9cb0f6cdd181",
    "papermill": {
     "duration": 0.873782,
     "end_time": "2022-06-30T03:29:07.644668",
     "exception": false,
     "start_time": "2022-06-30T03:29:06.770886",
     "status": "completed"
    },
    "tags": []
   },
   "outputs": [
    {
     "name": "stdout",
     "output_type": "stream",
     "text": [
      "Evaluation Results\n",
      "Optimal Path: \n",
      "1 -> 5 -> 9 -> 13 -> 14 -> 15 -> 16\n",
      "Q Table: \n",
      " [[ 1.00779464e+02  8.70648367e+01  6.16870070e+01  8.70822424e+01]\n",
      " [ 1.79017656e+01  1.16965450e+01  3.42431666e-01  8.46256738e+01]\n",
      " [-3.38011715e+00  3.42027257e-01 -4.39648635e-02  1.33238514e+01]\n",
      " [-9.28126451e-02 -5.46895545e-02 -6.20674469e-02  4.23911501e-01]\n",
      " [ 1.05058497e+02  7.99497526e+01  7.16532701e+01  8.66730306e+01]\n",
      " [ 9.84017720e+01  1.36829097e+01  4.47433729e+00  4.35125463e+01]\n",
      " [ 4.77389123e+01  5.76605737e-01  5.71588304e+00  6.59034281e+00]\n",
      " [ 5.41237369e+01 -5.22596913e-02  2.07154376e+00 -2.57880717e+00]\n",
      " [ 1.16036425e+02  8.36253449e+01  1.05577157e+02  9.77131348e+01]\n",
      " [ 1.21549771e+02  2.81525804e+01  4.74061676e+01  2.73346987e+01]\n",
      " [ 5.42915767e+01  1.80949505e+01  1.14386480e+02  3.09753521e+01]\n",
      " [ 1.24884675e+02  1.63359867e+01  4.85555624e+01  2.56138462e+01]\n",
      " [ 1.01289271e+02  9.50765936e+01  1.22461271e+02  1.06497459e+02]\n",
      " [ 1.17683340e+02  9.92194672e+01  1.23745035e+02  1.08888679e+02]\n",
      " [ 1.19629525e+02  9.50354188e+01  1.25000000e+02  1.14841603e+02]\n",
      " [ 0.00000000e+00  0.00000000e+00  0.00000000e+00  0.00000000e+00]]\n"
     ]
    },
    {
     "data": {
      "image/png": "[encoded data removed]",
      "text/plain": [
       "<Figure size 432x288 with 1 Axes>"
      ]
     },
     "metadata": {
      "needs_background": "light"
     },
     "output_type": "display_data"
    }
   ],
   "source": [
    "sarsa(evaluation_results=True) #During evaluation the agent doesn't learn it just picks the best next action (i.e. greedy action)"
   ]
  },
  {
   "cell_type": "markdown",
   "id": "00e974c7",
   "metadata": {
    "papermill": {
     "duration": 0.006281,
     "end_time": "2022-06-30T03:29:07.657789",
     "exception": false,
     "start_time": "2022-06-30T03:29:07.651508",
     "status": "completed"
    },
    "tags": []
   },
   "source": [
    "***During evaluation the agent can choose the optimal path (i.e. there are more than 1 optimal path), the path with more rewards and reaching target in fewer timesteps. From above plot it is evident the agent has learnt the optimal policy and can pick the best path towards the goal, with the maximum cumulative reward.***"
   ]
  },
  {
   "cell_type": "markdown",
   "id": "7b8d802a",
   "metadata": {
    "id": "j7gfqNOibJ95",
    "papermill": {
     "duration": 0.006308,
     "end_time": "2022-06-30T03:29:07.670710",
     "exception": false,
     "start_time": "2022-06-30T03:29:07.664402",
     "status": "completed"
    },
    "tags": []
   },
   "source": [
    "# **Hyperparamter tuning**"
   ]
  },
  {
   "cell_type": "markdown",
   "id": "17b7f3d6",
   "metadata": {
    "id": "hAJkf7Z5bNzz",
    "papermill": {
     "duration": 0.006365,
     "end_time": "2022-06-30T03:29:07.684195",
     "exception": false,
     "start_time": "2022-06-30T03:29:07.677830",
     "status": "completed"
    },
    "tags": []
   },
   "source": [
    "### **1. Maximum timesteps: 10**"
   ]
  },
  {
   "cell_type": "code",
   "execution_count": 6,
   "id": "8c8942f8",
   "metadata": {
    "execution": {
     "iopub.execute_input": "2022-06-30T03:29:07.699971Z",
     "iopub.status.busy": "2022-06-30T03:29:07.699599Z",
     "iopub.status.idle": "2022-06-30T03:29:08.619243Z",
     "shell.execute_reply": "2022-06-30T03:29:08.618078Z"
    },
    "id": "rHs-SS0FbNBv",
    "outputId": "07e69f1a-7be0-4691-df1d-a30672e5069d",
    "papermill": {
     "duration": 0.930333,
     "end_time": "2022-06-30T03:29:08.621639",
     "exception": false,
     "start_time": "2022-06-30T03:29:07.691306",
     "status": "completed"
    },
    "tags": []
   },
   "outputs": [
    {
     "name": "stdout",
     "output_type": "stream",
     "text": [
      "Episode: 100, Rewards: 2, Average timesteps taken: 9, epsilon: 0.6309573444801949\n",
      "Episode: 200, Rewards: 137, Average timesteps taken: 9, epsilon: 0.39810717055349926\n",
      "Episode: 300, Rewards: 142, Average timesteps taken: 7, epsilon: 0.2511886431509601\n",
      "Episode: 400, Rewards: 137, Average timesteps taken: 7, epsilon: 0.15848931924611304\n",
      "Episode: 500, Rewards: 137, Average timesteps taken: 7, epsilon: 0.1000000000000013\n",
      "Episode: 600, Rewards: 137, Average timesteps taken: 6, epsilon: 0.06309573444802027\n",
      "Episode: 700, Rewards: 137, Average timesteps taken: 6, epsilon: 0.039810717055350435\n",
      "Episode: 800, Rewards: 139, Average timesteps taken: 6, epsilon: 0.025118864315096318\n",
      "Episode: 900, Rewards: 137, Average timesteps taken: 6, epsilon: 0.01584893192461151\n",
      "Episode: 1000, Rewards: 137, Average timesteps taken: 6, epsilon: 0.010000000000000266\n",
      "Optimal Path: \n",
      "1 -> 5 -> 6 -> 10 -> 14 -> 15 -> 16\n",
      "Q Table: \n",
      " [[ 1.07047184e+02  8.81009619e+01  8.60612040e+01  8.67752794e+01]\n",
      " [ 1.07180378e+02  1.34005887e+01  9.50217267e-01  8.85499489e+00]\n",
      " [-2.71286521e+00  7.55130143e-02  5.30733562e-02  1.00998540e+01]\n",
      " [ 5.35443750e-01  0.00000000e+00  0.00000000e+00  7.94067310e-02]\n",
      " [ 8.53725878e+01  6.18913220e+01  1.10600101e+02  8.51666096e+01]\n",
      " [ 1.16431028e+02  8.42432356e+01  5.69620668e+01  8.67589977e+01]\n",
      " [ 1.14364915e+01  2.25566687e-01  6.72725995e-01  8.99031188e+01]\n",
      " [ 4.85692715e+00  0.00000000e+00  1.06875000e-01 -1.55321301e+00]\n",
      " [ 3.65427255e+01  1.78082671e+01  1.07705211e+02  6.34870855e+00]\n",
      " [ 1.22561913e+02  9.47429836e+01  9.52667940e+01  7.73596166e+01]\n",
      " [ 1.21054039e+02  1.02388699e+01  1.27246499e+01  1.95112397e+01]\n",
      " [ 7.78563105e+01 -1.58067174e-01  2.00822341e+01  1.05068661e+01]\n",
      " [ 2.68574593e+01 -2.00220578e+00  1.19608012e+02  9.52655207e-01]\n",
      " [ 1.18513760e+02  1.03162354e+02  1.23749949e+02  1.01646279e+02]\n",
      " [ 1.21168769e+02  7.10428240e+01  1.25000000e+02  9.76686678e+01]\n",
      " [ 0.00000000e+00  0.00000000e+00  0.00000000e+00  0.00000000e+00]]\n"
     ]
    },
    {
     "data": {
      "image/png": "[encoded data removed]",
      "text/plain": [
       "<Figure size 720x288 with 2 Axes>"
      ]
     },
     "metadata": {
      "needs_background": "light"
     },
     "output_type": "display_data"
    }
   ],
   "source": [
    "sarsa(timesteps = 10)"
   ]
  },
  {
   "cell_type": "markdown",
   "id": "4de50a43",
   "metadata": {
    "id": "RxRfnenJcPmr",
    "papermill": {
     "duration": 0.007292,
     "end_time": "2022-06-30T03:29:08.636864",
     "exception": false,
     "start_time": "2022-06-30T03:29:08.629572",
     "status": "completed"
    },
    "tags": []
   },
   "source": [
    "### **2. Maximum timesteps: 20**"
   ]
  },
  {
   "cell_type": "code",
   "execution_count": 7,
   "id": "07273038",
   "metadata": {
    "execution": {
     "iopub.execute_input": "2022-06-30T03:29:08.653816Z",
     "iopub.status.busy": "2022-06-30T03:29:08.652744Z",
     "iopub.status.idle": "2022-06-30T03:29:09.778626Z",
     "shell.execute_reply": "2022-06-30T03:29:09.777423Z"
    },
    "id": "ejwXgL6ucPmr",
    "outputId": "e6903da7-2831-4e08-9f69-a14923b8fcf4",
    "papermill": {
     "duration": 1.137076,
     "end_time": "2022-06-30T03:29:09.781373",
     "exception": false,
     "start_time": "2022-06-30T03:29:08.644297",
     "status": "completed"
    },
    "tags": []
   },
   "outputs": [
    {
     "name": "stdout",
     "output_type": "stream",
     "text": [
      "Episode: 100, Rewards: 26, Average timesteps taken: 18, epsilon: 0.6309573444801949\n",
      "Episode: 200, Rewards: 131, Average timesteps taken: 10, epsilon: 0.39810717055349926\n",
      "Episode: 300, Rewards: 135, Average timesteps taken: 8, epsilon: 0.2511886431509601\n",
      "Episode: 400, Rewards: 139, Average timesteps taken: 7, epsilon: 0.15848931924611304\n",
      "Episode: 500, Rewards: 137, Average timesteps taken: 6, epsilon: 0.1000000000000013\n",
      "Episode: 600, Rewards: 139, Average timesteps taken: 6, epsilon: 0.06309573444802027\n",
      "Episode: 700, Rewards: 135, Average timesteps taken: 6, epsilon: 0.039810717055350435\n",
      "Episode: 800, Rewards: 137, Average timesteps taken: 6, epsilon: 0.025118864315096318\n",
      "Episode: 900, Rewards: 137, Average timesteps taken: 6, epsilon: 0.01584893192461151\n",
      "Episode: 1000, Rewards: 137, Average timesteps taken: 6, epsilon: 0.010000000000000266\n",
      "Optimal Path: \n",
      "1 -> 5 -> 6 -> 10 -> 14 -> 15 -> 16\n",
      "Q Table: \n",
      " [[106.4618614   84.16910757  87.17971737  87.93149198]\n",
      " [106.46073269  16.12859571   4.70870714  26.16659239]\n",
      " [ -1.48588886  -0.35279596   2.99929229  30.90137823]\n",
      " [ 11.19597996   0.61464367   1.26974596  -0.5344539 ]\n",
      " [ 89.01496266  87.78333991 110.19427469  88.10208372]\n",
      " [115.89040884  88.30277583  69.39207258  88.26880943]\n",
      " [107.77326073  -0.26351005  16.1135909   19.39264716]\n",
      " [ 53.8245613    0.33768816  11.93604141  14.24608793]\n",
      " [110.57167468  31.20332809  40.2996697   25.16958681]\n",
      " [121.89834753  95.95582989 109.30678492  72.23742382]\n",
      " [123.29908905  34.50589124  85.62438206  34.75316915]\n",
      " [120.15505861  10.60244912  14.86810441  16.08700629]\n",
      " [ 73.23885085  29.22248746 121.25523743  55.07883848]\n",
      " [118.86547431 107.81500682 123.35383892 107.05738622]\n",
      " [121.5847833  111.80586957 125.         117.15699062]\n",
      " [  0.           0.           0.           0.        ]]\n"
     ]
    },
    {
     "data": {
      "image/png": "[encoded data removed]",
      "text/plain": [
       "<Figure size 720x288 with 2 Axes>"
      ]
     },
     "metadata": {
      "needs_background": "light"
     },
     "output_type": "display_data"
    }
   ],
   "source": [
    "sarsa(timesteps = 20)"
   ]
  },
  {
   "cell_type": "markdown",
   "id": "89ab54ac",
   "metadata": {
    "id": "8FlMJfu6cQPS",
    "papermill": {
     "duration": 0.007906,
     "end_time": "2022-06-30T03:29:09.797566",
     "exception": false,
     "start_time": "2022-06-30T03:29:09.789660",
     "status": "completed"
    },
    "tags": []
   },
   "source": [
    "### **3. Maximum timesteps: 25**"
   ]
  },
  {
   "cell_type": "code",
   "execution_count": 8,
   "id": "3006dbab",
   "metadata": {
    "execution": {
     "iopub.execute_input": "2022-06-30T03:29:09.815199Z",
     "iopub.status.busy": "2022-06-30T03:29:09.814788Z",
     "iopub.status.idle": "2022-06-30T03:29:10.842752Z",
     "shell.execute_reply": "2022-06-30T03:29:10.841503Z"
    },
    "id": "Jzt4yxIYcQPU",
    "outputId": "46dc5c25-4db5-4384-cbd1-28641348e3e1",
    "papermill": {
     "duration": 1.039759,
     "end_time": "2022-06-30T03:29:10.845202",
     "exception": false,
     "start_time": "2022-06-30T03:29:09.805443",
     "status": "completed"
    },
    "tags": []
   },
   "outputs": [
    {
     "name": "stdout",
     "output_type": "stream",
     "text": [
      "Episode: 100, Rewards: 123, Average timesteps taken: 18, epsilon: 0.6309573444801949\n",
      "Episode: 200, Rewards: 134, Average timesteps taken: 11, epsilon: 0.39810717055349926\n",
      "Episode: 300, Rewards: 139, Average timesteps taken: 8, epsilon: 0.2511886431509601\n",
      "Episode: 400, Rewards: 132, Average timesteps taken: 7, epsilon: 0.15848931924611304\n",
      "Episode: 500, Rewards: 137, Average timesteps taken: 6, epsilon: 0.1000000000000013\n",
      "Episode: 600, Rewards: 137, Average timesteps taken: 6, epsilon: 0.06309573444802027\n",
      "Episode: 700, Rewards: 137, Average timesteps taken: 6, epsilon: 0.039810717055350435\n",
      "Episode: 800, Rewards: 137, Average timesteps taken: 6, epsilon: 0.025118864315096318\n",
      "Episode: 900, Rewards: 137, Average timesteps taken: 6, epsilon: 0.01584893192461151\n",
      "Episode: 1000, Rewards: 137, Average timesteps taken: 6, epsilon: 0.010000000000000266\n",
      "Optimal Path: \n",
      "1 -> 5 -> 6 -> 10 -> 14 -> 15 -> 16\n",
      "Q Table: \n",
      " [[ 1.07075867e+02  7.55984647e+01  7.16205330e+01  8.63337939e+01]\n",
      " [ 1.05593382e+02  3.25064552e+01  7.59947276e+00  3.65596302e+01]\n",
      " [ 6.88666643e-01  3.99740132e-01  2.85590282e+01  3.67688965e+00]\n",
      " [ 6.25038198e+01  4.68412775e+00  1.18368616e+01 -4.09974189e-02]\n",
      " [ 8.19470833e+01  8.83644471e+01  1.10611253e+02  9.62042032e+01]\n",
      " [ 1.16434109e+02  7.50319557e+01  8.36849948e+01  9.75040037e+01]\n",
      " [ 1.12087116e+02  1.37719903e+01  4.83979603e+01  2.66860584e+01]\n",
      " [ 1.00982282e+02  1.05562703e+01  3.27980839e+01  1.53856971e+01]\n",
      " [ 1.02782976e+02  4.12013744e+01  4.35651223e+01  2.98205205e+01]\n",
      " [ 1.22562461e+02  7.60647751e+01  1.11612478e+02  8.31619496e+01]\n",
      " [ 1.23690048e+02  2.45678389e+01  1.04946796e+02  5.78130301e+01]\n",
      " [ 1.24992721e+02  2.90385008e+01  7.67115805e+01  4.95101538e+01]\n",
      " [ 7.84661677e+01  5.48585893e+01  1.21158495e+02  6.06526435e+01]\n",
      " [ 1.20231567e+02  1.01929513e+02  1.23749997e+02  1.07328806e+02]\n",
      " [ 1.20350012e+02  1.13436821e+02  1.25000000e+02  1.12768430e+02]\n",
      " [ 0.00000000e+00  0.00000000e+00  0.00000000e+00  0.00000000e+00]]\n"
     ]
    },
    {
     "data": {
      "image/png": "[encoded data removed]",
      "text/plain": [
       "<Figure size 720x288 with 2 Axes>"
      ]
     },
     "metadata": {
      "needs_background": "light"
     },
     "output_type": "display_data"
    }
   ],
   "source": [
    "sarsa(timesteps = 25)"
   ]
  },
  {
   "cell_type": "markdown",
   "id": "0a0d05d0",
   "metadata": {
    "papermill": {
     "duration": 0.016095,
     "end_time": "2022-06-30T03:29:10.870341",
     "exception": false,
     "start_time": "2022-06-30T03:29:10.854246",
     "status": "completed"
    },
    "tags": []
   },
   "source": [
    "**When timesteps value is set to 10 there is lot of reward fluctuation at first, but the agent can learn the policy over the episodes. When timesteps are increased the agent can explore more in every episode and able to learn policy sooner, which is evident from 3rd plot, less variation in reward values.** "
   ]
  },
  {
   "cell_type": "markdown",
   "id": "3a17a0a1",
   "metadata": {
    "id": "Fv45Inc6cprd",
    "papermill": {
     "duration": 0.008379,
     "end_time": "2022-06-30T03:29:10.887941",
     "exception": false,
     "start_time": "2022-06-30T03:29:10.879562",
     "status": "completed"
    },
    "tags": []
   },
   "source": [
    "### **1. Episodes: 500**"
   ]
  },
  {
   "cell_type": "code",
   "execution_count": 9,
   "id": "3fef2f38",
   "metadata": {
    "execution": {
     "iopub.execute_input": "2022-06-30T03:29:10.907431Z",
     "iopub.status.busy": "2022-06-30T03:29:10.906815Z",
     "iopub.status.idle": "2022-06-30T03:29:11.521022Z",
     "shell.execute_reply": "2022-06-30T03:29:11.520198Z"
    },
    "id": "wNvaiCeCcprd",
    "outputId": "6d5374b5-6c3e-463c-9aaa-e0fe5c5d6e93",
    "papermill": {
     "duration": 0.626576,
     "end_time": "2022-06-30T03:29:11.523274",
     "exception": false,
     "start_time": "2022-06-30T03:29:10.896698",
     "status": "completed"
    },
    "tags": []
   },
   "outputs": [
    {
     "name": "stdout",
     "output_type": "stream",
     "text": [
      "Episode: 100, Rewards: 129, Average timesteps taken: 12, epsilon: 0.39810717055349837\n",
      "Episode: 200, Rewards: 136, Average timesteps taken: 7, epsilon: 0.15848931924611231\n",
      "Episode: 300, Rewards: 134, Average timesteps taken: 6, epsilon: 0.06309573444801994\n",
      "Episode: 400, Rewards: 134, Average timesteps taken: 6, epsilon: 0.0251188643150961\n",
      "Episode: 500, Rewards: 134, Average timesteps taken: 6, epsilon: 0.010000000000000146\n",
      "Optimal Path: \n",
      "1 -> 5 -> 9 -> 13 -> 14 -> 15 -> 16\n",
      "Q Table: \n",
      " [[ 1.01960497e+02  6.29529977e+01  2.31271002e+01  4.77519094e+01]\n",
      " [ 1.40498838e+00  2.85528315e+00  1.22397290e-01  5.27786836e+01]\n",
      " [-2.56021776e+00  1.67832739e-01  4.38767023e-01  2.39625234e+00]\n",
      " [ 2.30486822e+00  1.25558199e-01 -2.13511862e-03 -3.69449316e-03]\n",
      " [ 1.04935214e+02  5.20599357e+01  4.96053983e+01  6.35588042e+01]\n",
      " [ 8.34866923e+01  7.54831727e-01 -2.74590986e+00  9.69647662e+00]\n",
      " [ 1.48014546e+01 -4.97320024e-01  3.88053192e+00 -5.11154221e-01]\n",
      " [ 1.97008534e+01  2.83623506e-01 -2.10682687e-01 -2.38516458e+00]\n",
      " [ 1.12996677e+02  5.05201113e+01  7.87399255e+01  6.71406924e+01]\n",
      " [ 1.09816052e+02  5.34609863e+00  9.15014678e+00 -1.75829610e+00]\n",
      " [ 1.04611199e+02 -4.44713416e-02  3.57799935e+00  1.73621693e+01]\n",
      " [ 6.95368359e+01  2.43368904e-03  1.09033189e+01  2.32909722e+00]\n",
      " [ 9.89280748e+01  6.42823008e+01  1.18743156e+02  8.41126544e+01]\n",
      " [ 1.06471405e+02  6.31356479e+01  1.21516869e+02  4.89676125e+01]\n",
      " [ 1.09542919e+02  5.35224588e+01  1.25000000e+02  8.96982636e+01]\n",
      " [ 0.00000000e+00  0.00000000e+00  0.00000000e+00  0.00000000e+00]]\n"
     ]
    },
    {
     "data": {
      "image/png": "[encoded data removed]",
      "text/plain": [
       "<Figure size 720x288 with 2 Axes>"
      ]
     },
     "metadata": {
      "needs_background": "light"
     },
     "output_type": "display_data"
    }
   ],
   "source": [
    "sarsa(episodes = 500)"
   ]
  },
  {
   "cell_type": "markdown",
   "id": "7bf1751e",
   "metadata": {
    "id": "qF8lrYagcqDO",
    "papermill": {
     "duration": 0.008995,
     "end_time": "2022-06-30T03:29:11.541557",
     "exception": false,
     "start_time": "2022-06-30T03:29:11.532562",
     "status": "completed"
    },
    "tags": []
   },
   "source": [
    "### **2. Episodes: 3000**"
   ]
  },
  {
   "cell_type": "code",
   "execution_count": 10,
   "id": "3559fe27",
   "metadata": {
    "execution": {
     "iopub.execute_input": "2022-06-30T03:29:11.561986Z",
     "iopub.status.busy": "2022-06-30T03:29:11.561331Z",
     "iopub.status.idle": "2022-06-30T03:29:13.900668Z",
     "shell.execute_reply": "2022-06-30T03:29:13.899504Z"
    },
    "id": "KatET0JTcqDP",
    "outputId": "09fa8db2-87c6-407e-9abf-6454a3fd3ff2",
    "papermill": {
     "duration": 2.35255,
     "end_time": "2022-06-30T03:29:13.903414",
     "exception": false,
     "start_time": "2022-06-30T03:29:11.550864",
     "status": "completed"
    },
    "tags": []
   },
   "outputs": [
    {
     "name": "stdout",
     "output_type": "stream",
     "text": [
      "Episode: 100, Rewards: 16, Average timesteps taken: 14, epsilon: 0.8576958985908986\n",
      "Episode: 200, Rewards: 142, Average timesteps taken: 13, epsilon: 0.7356422544596488\n",
      "Episode: 300, Rewards: 133, Average timesteps taken: 12, epsilon: 0.6309573444802022\n",
      "Episode: 400, Rewards: 130, Average timesteps taken: 11, epsilon: 0.541169526546474\n",
      "Episode: 500, Rewards: 142, Average timesteps taken: 11, epsilon: 0.46415888336128897\n",
      "Episode: 600, Rewards: 139, Average timesteps taken: 9, epsilon: 0.39810717055350886\n",
      "Episode: 700, Rewards: 134, Average timesteps taken: 9, epsilon: 0.3414548873833718\n",
      "Episode: 800, Rewards: 128, Average timesteps taken: 8, epsilon: 0.2928644564625351\n",
      "Episode: 900, Rewards: 135, Average timesteps taken: 7, epsilon: 0.25118864315096906\n",
      "Episode: 1000, Rewards: 142, Average timesteps taken: 8, epsilon: 0.21544346900319894\n",
      "Episode: 1100, Rewards: 144, Average timesteps taken: 7, epsilon: 0.18478497974223917\n",
      "Episode: 1200, Rewards: 142, Average timesteps taken: 7, epsilon: 0.15848931924612064\n",
      "Episode: 1300, Rewards: 154, Average timesteps taken: 7, epsilon: 0.13593563908786122\n",
      "Episode: 1400, Rewards: 137, Average timesteps taken: 6, epsilon: 0.11659144011799114\n",
      "Episode: 1500, Rewards: 137, Average timesteps taken: 6, epsilon: 0.10000000000000725\n",
      "Episode: 1600, Rewards: 137, Average timesteps taken: 6, epsilon: 0.08576958985909608\n",
      "Episode: 1700, Rewards: 139, Average timesteps taken: 6, epsilon: 0.07356422544597023\n",
      "Episode: 1800, Rewards: 137, Average timesteps taken: 6, epsilon: 0.06309573444802483\n",
      "Episode: 1900, Rewards: 137, Average timesteps taken: 6, epsilon: 0.054116952654651364\n",
      "Episode: 2000, Rewards: 142, Average timesteps taken: 6, epsilon: 0.0464158883361323\n",
      "Episode: 2100, Rewards: 137, Average timesteps taken: 6, epsilon: 0.03981071705535377\n",
      "Episode: 2200, Rewards: 137, Average timesteps taken: 6, epsilon: 0.0341454887383397\n",
      "Episode: 2300, Rewards: 139, Average timesteps taken: 6, epsilon: 0.029286445646255654\n",
      "Episode: 2400, Rewards: 137, Average timesteps taken: 6, epsilon: 0.025118864315098743\n",
      "Episode: 2500, Rewards: 137, Average timesteps taken: 6, epsilon: 0.021544346900321455\n",
      "Episode: 2600, Rewards: 137, Average timesteps taken: 6, epsilon: 0.018478497974225246\n",
      "Episode: 2700, Rewards: 137, Average timesteps taken: 6, epsilon: 0.015848931924613216\n",
      "Episode: 2800, Rewards: 137, Average timesteps taken: 6, epsilon: 0.013593563908787102\n",
      "Episode: 2900, Rewards: 137, Average timesteps taken: 6, epsilon: 0.011659144011799958\n",
      "Episode: 3000, Rewards: 137, Average timesteps taken: 6, epsilon: 0.010000000000001464\n",
      "Optimal Path: \n",
      "1 -> 5 -> 6 -> 10 -> 14 -> 15 -> 16\n",
      "Q Table: \n",
      " [[107.0199393  100.04851998 102.57382371 100.46366247]\n",
      " [110.09256376  68.78291725  34.97496587  85.72496762]\n",
      " [ 63.86962467  21.17539643  18.59984066  35.02351929]\n",
      " [ 38.11186714   8.83034121   6.21038625   6.23644264]\n",
      " [103.15768743  97.57704435 110.5201633  106.18596993]\n",
      " [116.34307395 100.2079868  105.86530739 103.49288948]\n",
      " [116.94737884  33.82546689  87.61741545  72.05402311]\n",
      " [114.58584897   5.6366131   27.67347214  41.61453971]\n",
      " [ 91.85850302  85.38716883 115.15411871  81.56243619]\n",
      " [122.51098747 107.58031151 116.0634906  105.05496489]\n",
      " [123.72852454  85.20503845 107.93053591 106.85457433]\n",
      " [124.99936419  45.53081599  81.83074318  88.59153951]\n",
      " [ 89.72346259  77.25640159 122.12199104  94.11994144]\n",
      " [122.12651103 114.89472734 123.73856714 112.89001345]\n",
      " [123.73196901 116.90568036 125.         121.71656019]\n",
      " [  0.           0.           0.           0.        ]]\n"
     ]
    },
    {
     "data": {
      "image/png": "[encoded data removed]",
      "text/plain": [
       "<Figure size 720x288 with 2 Axes>"
      ]
     },
     "metadata": {
      "needs_background": "light"
     },
     "output_type": "display_data"
    }
   ],
   "source": [
    "sarsa(episodes = 3000)"
   ]
  },
  {
   "cell_type": "markdown",
   "id": "30c4896f",
   "metadata": {
    "id": "mOAER86TcqJN",
    "papermill": {
     "duration": 0.009716,
     "end_time": "2022-06-30T03:29:13.923213",
     "exception": false,
     "start_time": "2022-06-30T03:29:13.913497",
     "status": "completed"
    },
    "tags": []
   },
   "source": [
    "### **3. Episodes: 5000**"
   ]
  },
  {
   "cell_type": "code",
   "execution_count": 11,
   "id": "e82b0421",
   "metadata": {
    "execution": {
     "iopub.execute_input": "2022-06-30T03:29:13.944892Z",
     "iopub.status.busy": "2022-06-30T03:29:13.944217Z",
     "iopub.status.idle": "2022-06-30T03:29:17.659955Z",
     "shell.execute_reply": "2022-06-30T03:29:17.659212Z"
    },
    "id": "uR5F5J1AcqJO",
    "outputId": "b5ce0ab0-c524-4a3c-9870-68da25a29a30",
    "papermill": {
     "duration": 3.729255,
     "end_time": "2022-06-30T03:29:17.662234",
     "exception": false,
     "start_time": "2022-06-30T03:29:13.932979",
     "status": "completed"
    },
    "tags": []
   },
   "outputs": [
    {
     "name": "stdout",
     "output_type": "stream",
     "text": [
      "Episode: 100, Rewards: 7, Average timesteps taken: 14, epsilon: 0.9120108393559109\n",
      "Episode: 200, Rewards: 7, Average timesteps taken: 14, epsilon: 0.8317637711026723\n",
      "Episode: 300, Rewards: 124, Average timesteps taken: 13, epsilon: 0.7585775750291857\n",
      "Episode: 400, Rewards: -5, Average timesteps taken: 12, epsilon: 0.6918309709189385\n",
      "Episode: 500, Rewards: 131, Average timesteps taken: 12, epsilon: 0.630957344480195\n",
      "Episode: 600, Rewards: 147, Average timesteps taken: 11, epsilon: 0.5754399373371587\n",
      "Episode: 700, Rewards: 134, Average timesteps taken: 11, epsilon: 0.5248074602497744\n",
      "Episode: 800, Rewards: 151, Average timesteps taken: 10, epsilon: 0.4786300923226403\n",
      "Episode: 900, Rewards: 150, Average timesteps taken: 10, epsilon: 0.4365158322401678\n",
      "Episode: 1000, Rewards: 137, Average timesteps taken: 9, epsilon: 0.39810717055349937\n",
      "Episode: 1100, Rewards: 135, Average timesteps taken: 8, epsilon: 0.3630780547701035\n",
      "Episode: 1200, Rewards: 129, Average timesteps taken: 8, epsilon: 0.33113112148259316\n",
      "Episode: 1300, Rewards: 134, Average timesteps taken: 8, epsilon: 0.3019951720402036\n",
      "Episode: 1400, Rewards: 134, Average timesteps taken: 8, epsilon: 0.2754228703338184\n",
      "Episode: 1500, Rewards: 144, Average timesteps taken: 8, epsilon: 0.2511886431509594\n",
      "Episode: 1600, Rewards: 134, Average timesteps taken: 7, epsilon: 0.22908676527677874\n",
      "Episode: 1700, Rewards: 134, Average timesteps taken: 7, epsilon: 0.20892961308540547\n",
      "Episode: 1800, Rewards: 134, Average timesteps taken: 7, epsilon: 0.19054607179632618\n",
      "Episode: 1900, Rewards: 146, Average timesteps taken: 7, epsilon: 0.1737800828749389\n",
      "Episode: 2000, Rewards: 135, Average timesteps taken: 6, epsilon: 0.15848931924611293\n",
      "Episode: 2100, Rewards: 134, Average timesteps taken: 7, epsilon: 0.14454397707459435\n",
      "Episode: 2200, Rewards: 137, Average timesteps taken: 6, epsilon: 0.1318256738556423\n",
      "Episode: 2300, Rewards: 132, Average timesteps taken: 6, epsilon: 0.12022644346174274\n",
      "Episode: 2400, Rewards: 137, Average timesteps taken: 6, epsilon: 0.10964781961431985\n",
      "Episode: 2500, Rewards: 137, Average timesteps taken: 6, epsilon: 0.10000000000000128\n",
      "Episode: 2600, Rewards: 137, Average timesteps taken: 6, epsilon: 0.09120108393559223\n",
      "Episode: 2700, Rewards: 137, Average timesteps taken: 6, epsilon: 0.08317637711026832\n",
      "Episode: 2800, Rewards: 137, Average timesteps taken: 6, epsilon: 0.07585775750291952\n",
      "Episode: 2900, Rewards: 137, Average timesteps taken: 6, epsilon: 0.06918309709189478\n",
      "Episode: 3000, Rewards: 137, Average timesteps taken: 6, epsilon: 0.0630957344480204\n",
      "Episode: 3100, Rewards: 137, Average timesteps taken: 6, epsilon: 0.05754399373371668\n",
      "Episode: 3200, Rewards: 137, Average timesteps taken: 6, epsilon: 0.05248074602497819\n",
      "Episode: 3300, Rewards: 137, Average timesteps taken: 6, epsilon: 0.04786300923226475\n",
      "Episode: 3400, Rewards: 137, Average timesteps taken: 6, epsilon: 0.043651583224017465\n",
      "Episode: 3500, Rewards: 142, Average timesteps taken: 6, epsilon: 0.03981071705535055\n",
      "Episode: 3600, Rewards: 137, Average timesteps taken: 6, epsilon: 0.0363078054770109\n",
      "Episode: 3700, Rewards: 137, Average timesteps taken: 6, epsilon: 0.03311311214825984\n",
      "Episode: 3800, Rewards: 137, Average timesteps taken: 6, epsilon: 0.03019951720402084\n",
      "Episode: 3900, Rewards: 134, Average timesteps taken: 6, epsilon: 0.027542287033382306\n",
      "Episode: 4000, Rewards: 137, Average timesteps taken: 6, epsilon: 0.025118864315096405\n",
      "Episode: 4100, Rewards: 137, Average timesteps taken: 6, epsilon: 0.022908676527678307\n",
      "Episode: 4200, Rewards: 137, Average timesteps taken: 6, epsilon: 0.02089296130854093\n",
      "Episode: 4300, Rewards: 137, Average timesteps taken: 6, epsilon: 0.01905460717963297\n",
      "Episode: 4400, Rewards: 137, Average timesteps taken: 6, epsilon: 0.017378008287494202\n",
      "Episode: 4500, Rewards: 137, Average timesteps taken: 6, epsilon: 0.015848931924611554\n",
      "Episode: 4600, Rewards: 137, Average timesteps taken: 6, epsilon: 0.014454397707459671\n",
      "Episode: 4700, Rewards: 137, Average timesteps taken: 6, epsilon: 0.013182567385564429\n",
      "Episode: 4800, Rewards: 137, Average timesteps taken: 6, epsilon: 0.012022644346174467\n",
      "Episode: 4900, Rewards: 137, Average timesteps taken: 6, epsilon: 0.010964781961432165\n",
      "Episode: 5000, Rewards: 137, Average timesteps taken: 6, epsilon: 0.01000000000000029\n",
      "Optimal Path: \n",
      "1 -> 5 -> 6 -> 10 -> 14 -> 15 -> 16\n",
      "Q Table: \n",
      " [[107.08181045 101.01561351 104.18365243 100.63727998]\n",
      " [110.34642353  78.89390066  69.98917008  90.38508124]\n",
      " [ 94.77485293  22.9583339   62.46540683  25.52905215]\n",
      " [ 83.31473319  32.35599318  39.8019864   26.83167359]\n",
      " [104.078249    99.40141599 110.61262672 106.3202132 ]\n",
      " [116.43437223 103.19199881 106.83693011 104.45993386]\n",
      " [117.28826558  49.12042165  64.44702593  80.53140228]\n",
      " [103.51784609  33.35103045  54.08059963  67.54619697]\n",
      " [111.7497339   99.61078127 115.96435242 105.17702938]\n",
      " [122.56249981 108.16188146 117.09959834 106.32584067]\n",
      " [123.7496906   97.41390084 119.61089362 107.62938192]\n",
      " [124.99999904  67.81526877 104.22858964  95.12544899]\n",
      " [114.78874164 102.44343362 122.47697142 113.41030996]\n",
      " [122.25437411 114.95763881 123.75       115.38099965]\n",
      " [123.73326759 117.43255651 125.         122.05258501]\n",
      " [  0.           0.           0.           0.        ]]\n"
     ]
    },
    {
     "data": {
      "image/png": "[encoded data removed]",
      "text/plain": [
       "<Figure size 720x288 with 2 Axes>"
      ]
     },
     "metadata": {
      "needs_background": "light"
     },
     "output_type": "display_data"
    }
   ],
   "source": [
    "sarsa(episodes = 5000)"
   ]
  },
  {
   "cell_type": "markdown",
   "id": "6d4ec266",
   "metadata": {
    "papermill": {
     "duration": 0.011232,
     "end_time": "2022-06-30T03:29:17.685468",
     "exception": false,
     "start_time": "2022-06-30T03:29:17.674236",
     "status": "completed"
    },
    "tags": []
   },
   "source": [
    "***So, the agent hasn’t learnt the optimal policy when I ran agent for fewer episodes (i.e. sometimes it learned as agent figured a way to reach target but it is not true all the time), the agent isn’t able to explore more to figure out the optimal path.***"
   ]
  },
  {
   "cell_type": "markdown",
   "id": "58e1e09b",
   "metadata": {
    "papermill": {
     "duration": 0.010736,
     "end_time": "2022-06-30T03:29:17.707445",
     "exception": false,
     "start_time": "2022-06-30T03:29:17.696709",
     "status": "completed"
    },
    "tags": []
   },
   "source": [
    "### **Observations:**\n",
    "\n",
    "* I have decreased epsilon smoothly over the episodes by using **decay_factor = (0.01/1)^(1/total episodes)**. So, with more episodes the agent will explore more in more episodes at first (i.e., evident from 2nd and 3rd plot with 3000, 5000 episodes) because epsilon is large and starts to converge in latter episodes as epsilon is less, the agent makes more of greedy actions. The agent has learnt the optimal path in 2nd and 3rd cases.\n",
    "\n",
    "* By experimenting with different hyperparameters, for our model I have concluded a **discount factor of 0.95 and timesteps of 15 and episodes = 1000** provided best results."
   ]
  }
 ],
 "metadata": {
  "kernelspec": {
   "display_name": "Python 3",
   "language": "python",
   "name": "python3"
  },
  "language_info": {
   "codemirror_mode": {
    "name": "ipython",
    "version": 3
   },
   "file_extension": ".py",
   "mimetype": "text/x-python",
   "name": "python",
   "nbconvert_exporter": "python",
   "pygments_lexer": "ipython3",
   "version": "3.7.12"
  },
  "papermill": {
   "default_parameters": {},
   "duration": 21.880529,
   "end_time": "2022-06-30T03:29:18.339981",
   "environment_variables": {},
   "exception": null,
   "input_path": "__notebook__.ipynb",
   "output_path": "__notebook__.ipynb",
   "parameters": {},
   "start_time": "2022-06-30T03:28:56.459452",
   "version": "2.3.4"
  }
 },
 "nbformat": 4,
 "nbformat_minor": 5
}
